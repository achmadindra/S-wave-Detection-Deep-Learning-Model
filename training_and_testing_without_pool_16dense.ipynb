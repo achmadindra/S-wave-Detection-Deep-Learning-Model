{
 "cells": [
  {
   "cell_type": "markdown",
   "metadata": {},
   "source": [
    "## Read the Dataset"
   ]
  },
  {
   "cell_type": "code",
   "execution_count": 1,
   "metadata": {},
   "outputs": [],
   "source": [
    "import numpy as np\n",
    "\n",
    "Directory = \"D:/S3_project/S Picker/Cooked_Dataset/Dataset100Hz/signal_dataset_20F_100Hz_Scaled_01.npy\"\n",
    "signal_dataset = np.load(Directory)\n",
    "\n",
    "Directory = \"D:/S3_project/S Picker/Cooked_Dataset/Dataset100Hz/label_dataset_20F_100Hz_Scaled_01.npy\"\n",
    "label_dataset = np.load(Directory)"
   ]
  },
  {
   "cell_type": "code",
   "execution_count": 2,
   "metadata": {},
   "outputs": [
    {
     "name": "stdout",
     "output_type": "stream",
     "text": [
      "(748405, 100, 6)\n",
      "(748405,)\n"
     ]
    }
   ],
   "source": [
    "#Check the shape\n",
    "print(signal_dataset.shape)\n",
    "print(label_dataset.shape)"
   ]
  },
  {
   "cell_type": "markdown",
   "metadata": {},
   "source": [
    "## Prerocess"
   ]
  },
  {
   "cell_type": "markdown",
   "metadata": {},
   "source": [
    "Access several Attributes in Trace and Constructing Moving Window"
   ]
  },
  {
   "cell_type": "code",
   "execution_count": 3,
   "metadata": {},
   "outputs": [
    {
     "name": "stdout",
     "output_type": "stream",
     "text": [
      "The period of this data is :  0.01  Seconds\n",
      "Try the Training Windows for each  1  Seconds\n",
      "So, the Training Windows for this data is for each  100  Samples\n",
      "Also, the Moving Windows for this data is for each  4  Samples\n",
      "It means that there will be  748405  Training samples from this traces\n"
     ]
    }
   ],
   "source": [
    "#Access the attribute of period and total Samples\n",
    "Period = 0.01\n",
    "train_samples = signal_dataset.shape[0]\n",
    "df = 1/Period\n",
    "#First Calculation\n",
    "train_windows_seconds = 1 #Try training window at 4 seconds\n",
    "train_windows_samples = int(train_windows_seconds / Period)\n",
    "moving_windows_seconds = 0.04 #Try overlapping at 0,05second\n",
    "moving_windows_samples = int(moving_windows_seconds/Period)\n",
    "print(\"The period of this data is : \", Period, \" Seconds\")\n",
    "print(\"Try the Training Windows for each \", train_windows_seconds, \" Seconds\")\n",
    "print(\"So, the Training Windows for this data is for each \", train_windows_samples, \" Samples\")\n",
    "print(\"Also, the Moving Windows for this data is for each \", moving_windows_samples, \" Samples\")\n",
    "print(\"It means that there will be \", train_samples, \" Training samples from this traces\")"
   ]
  },
  {
   "cell_type": "markdown",
   "metadata": {},
   "source": [
    "Check the Label_Dataset"
   ]
  },
  {
   "cell_type": "code",
   "execution_count": 4,
   "metadata": {},
   "outputs": [
    {
     "name": "stdout",
     "output_type": "stream",
     "text": [
      "(748405,)\n",
      "(332733,)\n"
     ]
    }
   ],
   "source": [
    "print(label_dataset.shape)\n",
    "List_Found = (np.where((label_dataset) == 1))[0]\n",
    "print(List_Found.shape)\n",
    "List_Found=None"
   ]
  },
  {
   "cell_type": "code",
   "execution_count": 5,
   "metadata": {},
   "outputs": [
    {
     "name": "stdout",
     "output_type": "stream",
     "text": [
      "(748405, 100, 6)\n",
      "(748405,)\n"
     ]
    }
   ],
   "source": [
    "print(signal_dataset.shape)\n",
    "print(label_dataset.shape)"
   ]
  },
  {
   "cell_type": "markdown",
   "metadata": {},
   "source": [
    "Split the training and test Data"
   ]
  },
  {
   "cell_type": "code",
   "execution_count": 6,
   "metadata": {},
   "outputs": [],
   "source": [
    "#Using SkLearn or Tensorflow to split the data\n",
    "from sklearn.model_selection import StratifiedShuffleSplit\n",
    "\n",
    "#Using stratified split (Keeping the precentage of each class)\n",
    "split = StratifiedShuffleSplit(n_splits=1, test_size=0.2, random_state=42)\n",
    "for train_index, test_index in split.split(signal_dataset, label_dataset):\n",
    "    train_signal, test_signal = signal_dataset[train_index], signal_dataset[test_index]\n",
    "    train_labels, test_labels = label_dataset[train_index], label_dataset[test_index]"
   ]
  },
  {
   "cell_type": "markdown",
   "metadata": {},
   "source": [
    "Check The Splitting"
   ]
  },
  {
   "cell_type": "code",
   "execution_count": 7,
   "metadata": {},
   "outputs": [
    {
     "name": "stdout",
     "output_type": "stream",
     "text": [
      "(598724, 100, 6)\n",
      "(149681, 100, 6)\n",
      "(598724,)\n",
      "(149681,)\n"
     ]
    }
   ],
   "source": [
    "print(train_signal.shape)\n",
    "print(test_signal.shape)\n",
    "print(train_labels.shape)\n",
    "print(test_labels.shape)"
   ]
  },
  {
   "cell_type": "markdown",
   "metadata": {},
   "source": [
    "## Creating Deep Neural Network Model"
   ]
  },
  {
   "cell_type": "code",
   "execution_count": 8,
   "metadata": {},
   "outputs": [
    {
     "name": "stdout",
     "output_type": "stream",
     "text": [
      "Model: \"sequential\"\n",
      "_________________________________________________________________\n",
      " Layer (type)                Output Shape              Param #   \n",
      "=================================================================\n",
      " conv2d (Conv2D)             (None, 1, 100, 32)        800       \n",
      "                                                                 \n",
      " dropout (Dropout)           (None, 1, 100, 32)        0         \n",
      "                                                                 \n",
      " conv2d_1 (Conv2D)           (None, 1, 100, 32)        6176      \n",
      "                                                                 \n",
      " dropout_1 (Dropout)         (None, 1, 100, 32)        0         \n",
      "                                                                 \n",
      " flatten (Flatten)           (None, 3200)              0         \n",
      "                                                                 \n",
      " dense (Dense)               (None, 16)                51216     \n",
      "                                                                 \n",
      " dropout_2 (Dropout)         (None, 16)                0         \n",
      "                                                                 \n",
      " dense_1 (Dense)             (None, 1)                 17        \n",
      "                                                                 \n",
      "=================================================================\n",
      "Total params: 58,209\n",
      "Trainable params: 58,209\n",
      "Non-trainable params: 0\n",
      "_________________________________________________________________\n"
     ]
    }
   ],
   "source": [
    "#Creating the model for deep learning\n",
    "import tensorflow as tf\n",
    "from tensorflow import keras\n",
    "\n",
    "import numpy as np\n",
    "import matplotlib.pyplot as plt\n",
    "\n",
    "#We will use a Model from Paper Microseismic 2020 (CNN Explainable)\n",
    "#Pooling is max pooling with 2x2 window\n",
    "\n",
    "from tensorflow.keras import Sequential\n",
    "from tensorflow.keras.layers import Conv2D\n",
    "from tensorflow.keras.layers import Dropout\n",
    "from tensorflow.keras.layers import Dense,Flatten\n",
    "\n",
    "\n",
    "model = Sequential()\n",
    "#Here we will have 32 filters using a 5 window for convolutional layer \n",
    "#2 window for the pooling layer\n",
    "#Input Shape will be train_windows and 3 means the channel of the signals\n",
    "\n",
    "#height = 160F (Time sample)\n",
    "#Width = 6 (Channels)\n",
    "\n",
    "model.add(Conv2D(32, (1,4), \n",
    "          activation='relu',  padding='same', input_shape=(1, train_windows_samples, 6)))\n",
    "model.add(Dropout(0.2))\n",
    "model.add(Conv2D(32, (1,6), padding = 'same', activation=\"relu\", input_shape=(1, train_windows_samples, 6)))\n",
    "model.add(Dropout(0.2))\n",
    "#model.add(layers.MaxPooling2D((2, 1)))\n",
    "model.add(Flatten())\n",
    "model.add(Dense(16, kernel_initializer='glorot_uniform', activation='relu'))\n",
    "model.add(Dropout(0.2))\n",
    "#2 means just two outputs, between noise class or P-Wave Class\n",
    "model.add(Dense(1, activation='sigmoid'))\n",
    "\n",
    "model.summary()"
   ]
  },
  {
   "cell_type": "markdown",
   "metadata": {},
   "source": [
    "## Compile And Training the Model"
   ]
  },
  {
   "cell_type": "code",
   "execution_count": 9,
   "metadata": {},
   "outputs": [],
   "source": [
    "# Set up checkpoint to save models regularly while training\n",
    "filepath = \"D:/S3_project/S Picker/forconference/weights_with_pool_16dense.best.hdf5\"\n",
    "checkpoint_callback = tf.keras.callbacks.ModelCheckpoint(filepath, monitor='val_accuracy', verbose=1, save_best_only=True, mode='max')\n",
    "\n",
    "#If there is no improvement on val_lost by 10 epochs, it will be stopped!\n",
    "callback_list = [tf.keras.callbacks.EarlyStopping(monitor='val_loss', patience=15), checkpoint_callback]\n",
    "\n",
    "orig_train_shape = train_signal.shape\n",
    "orig_test_shape = test_signal.shape\n",
    "\n",
    "#reshapes it so we have 3D Tensor\n",
    "train_signal = train_signal.reshape((orig_train_shape[0], 1, orig_train_shape[1], orig_train_shape[2]))\n",
    "\n",
    "#reshapes it so we have 3D Tensor\n",
    "test_signal = test_signal.reshape((orig_test_shape[0], 1, orig_test_shape[1], orig_test_shape[2]))\n",
    "\n",
    "#Compile the model \n",
    "model.compile(loss='binary_crossentropy',\n",
    "              optimizer='adam',\n",
    "              metrics=['accuracy','Precision','Recall','AUC'])"
   ]
  },
  {
   "cell_type": "code",
   "execution_count": 10,
   "metadata": {},
   "outputs": [
    {
     "name": "stdout",
     "output_type": "stream",
     "text": [
      "Epoch 1/400\n",
      "7485/7485 [==============================] - ETA: 0s - loss: 0.2373 - accuracy: 0.9079 - precision: 0.9086 - recall: 0.8815 - auc: 0.9649\n",
      "Epoch 1: val_accuracy improved from -inf to 0.93243, saving model to D:/S3_project/S Picker/forconference\\weights_with_pool_16dense.best.hdf5\n",
      "7485/7485 [==============================] - 64s 8ms/step - loss: 0.2373 - accuracy: 0.9079 - precision: 0.9086 - recall: 0.8815 - auc: 0.9649 - val_loss: 0.1718 - val_accuracy: 0.9324 - val_precision: 0.9294 - val_recall: 0.9178 - val_auc: 0.9815\n",
      "Epoch 2/400\n",
      "7478/7485 [============================>.] - ETA: 0s - loss: 0.1897 - accuracy: 0.9270 - precision: 0.9268 - recall: 0.9076 - auc: 0.9775\n",
      "Epoch 2: val_accuracy improved from 0.93243 to 0.93985, saving model to D:/S3_project/S Picker/forconference\\weights_with_pool_16dense.best.hdf5\n",
      "7485/7485 [==============================] - 59s 8ms/step - loss: 0.1897 - accuracy: 0.9270 - precision: 0.9268 - recall: 0.9076 - auc: 0.9775 - val_loss: 0.1553 - val_accuracy: 0.9398 - val_precision: 0.9371 - val_recall: 0.9269 - val_auc: 0.9853\n",
      "Epoch 3/400\n",
      "7479/7485 [============================>.] - ETA: 0s - loss: 0.1770 - accuracy: 0.9318 - precision: 0.9295 - recall: 0.9161 - auc: 0.9804\n",
      "Epoch 3: val_accuracy improved from 0.93985 to 0.94227, saving model to D:/S3_project/S Picker/forconference\\weights_with_pool_16dense.best.hdf5\n",
      "7485/7485 [==============================] - 58s 8ms/step - loss: 0.1770 - accuracy: 0.9318 - precision: 0.9295 - recall: 0.9160 - auc: 0.9804 - val_loss: 0.1498 - val_accuracy: 0.9423 - val_precision: 0.9341 - val_recall: 0.9362 - val_auc: 0.9869\n",
      "Epoch 4/400\n",
      "7484/7485 [============================>.] - ETA: 0s - loss: 0.1702 - accuracy: 0.9348 - precision: 0.9320 - recall: 0.9204 - auc: 0.9819\n",
      "Epoch 4: val_accuracy improved from 0.94227 to 0.94645, saving model to D:/S3_project/S Picker/forconference\\weights_with_pool_16dense.best.hdf5\n",
      "7485/7485 [==============================] - 61s 8ms/step - loss: 0.1702 - accuracy: 0.9348 - precision: 0.9320 - recall: 0.9204 - auc: 0.9819 - val_loss: 0.1431 - val_accuracy: 0.9465 - val_precision: 0.9338 - val_recall: 0.9466 - val_auc: 0.9881\n",
      "Epoch 5/400\n",
      "7481/7485 [============================>.] - ETA: 0s - loss: 0.1649 - accuracy: 0.9363 - precision: 0.9324 - recall: 0.9238 - auc: 0.9830\n",
      "Epoch 5: val_accuracy improved from 0.94645 to 0.94847, saving model to D:/S3_project/S Picker/forconference\\weights_with_pool_16dense.best.hdf5\n",
      "7485/7485 [==============================] - 61s 8ms/step - loss: 0.1649 - accuracy: 0.9363 - precision: 0.9324 - recall: 0.9238 - auc: 0.9830 - val_loss: 0.1320 - val_accuracy: 0.9485 - val_precision: 0.9518 - val_recall: 0.9312 - val_auc: 0.9894\n",
      "Epoch 6/400\n",
      "7481/7485 [============================>.] - ETA: 0s - loss: 0.1613 - accuracy: 0.9381 - precision: 0.9332 - recall: 0.9270 - auc: 0.9838\n",
      "Epoch 6: val_accuracy improved from 0.94847 to 0.95160, saving model to D:/S3_project/S Picker/forconference\\weights_with_pool_16dense.best.hdf5\n",
      "7485/7485 [==============================] - 61s 8ms/step - loss: 0.1613 - accuracy: 0.9381 - precision: 0.9332 - recall: 0.9270 - auc: 0.9838 - val_loss: 0.1286 - val_accuracy: 0.9516 - val_precision: 0.9486 - val_recall: 0.9422 - val_auc: 0.9900\n",
      "Epoch 7/400\n",
      "7479/7485 [============================>.] - ETA: 0s - loss: 0.1581 - accuracy: 0.9395 - precision: 0.9328 - recall: 0.9309 - auc: 0.9844\n",
      "Epoch 7: val_accuracy improved from 0.95160 to 0.95330, saving model to D:/S3_project/S Picker/forconference\\weights_with_pool_16dense.best.hdf5\n",
      "7485/7485 [==============================] - 58s 8ms/step - loss: 0.1581 - accuracy: 0.9395 - precision: 0.9328 - recall: 0.9309 - auc: 0.9844 - val_loss: 0.1259 - val_accuracy: 0.9533 - val_precision: 0.9405 - val_recall: 0.9554 - val_auc: 0.9906\n",
      "Epoch 8/400\n",
      "7484/7485 [============================>.] - ETA: 0s - loss: 0.1557 - accuracy: 0.9394 - precision: 0.9295 - recall: 0.9347 - auc: 0.9849\n",
      "Epoch 8: val_accuracy improved from 0.95330 to 0.95573, saving model to D:/S3_project/S Picker/forconference\\weights_with_pool_16dense.best.hdf5\n",
      "7485/7485 [==============================] - 58s 8ms/step - loss: 0.1557 - accuracy: 0.9394 - precision: 0.9295 - recall: 0.9347 - auc: 0.9849 - val_loss: 0.1236 - val_accuracy: 0.9557 - val_precision: 0.9473 - val_recall: 0.9535 - val_auc: 0.9911\n",
      "Epoch 9/400\n",
      "7482/7485 [============================>.] - ETA: 0s - loss: 0.1527 - accuracy: 0.9413 - precision: 0.9340 - recall: 0.9340 - auc: 0.9854\n",
      "Epoch 9: val_accuracy did not improve from 0.95573\n",
      "7485/7485 [==============================] - 62s 8ms/step - loss: 0.1527 - accuracy: 0.9413 - precision: 0.9340 - recall: 0.9340 - auc: 0.9854 - val_loss: 0.1186 - val_accuracy: 0.9548 - val_precision: 0.9506 - val_recall: 0.9476 - val_auc: 0.9909\n",
      "Epoch 10/400\n",
      "7481/7485 [============================>.] - ETA: 0s - loss: 0.1508 - accuracy: 0.9417 - precision: 0.9312 - recall: 0.9382 - auc: 0.9858\n",
      "Epoch 10: val_accuracy improved from 0.95573 to 0.95613, saving model to D:/S3_project/S Picker/forconference\\weights_with_pool_16dense.best.hdf5\n",
      "7485/7485 [==============================] - 61s 8ms/step - loss: 0.1508 - accuracy: 0.9417 - precision: 0.9312 - recall: 0.9382 - auc: 0.9858 - val_loss: 0.1161 - val_accuracy: 0.9561 - val_precision: 0.9489 - val_recall: 0.9527 - val_auc: 0.9914\n",
      "Epoch 11/400\n",
      "7481/7485 [============================>.] - ETA: 0s - loss: 0.1498 - accuracy: 0.9423 - precision: 0.9314 - recall: 0.9394 - auc: 0.9860\n",
      "Epoch 11: val_accuracy improved from 0.95613 to 0.95714, saving model to D:/S3_project/S Picker/forconference\\weights_with_pool_16dense.best.hdf5\n",
      "7485/7485 [==============================] - 62s 8ms/step - loss: 0.1498 - accuracy: 0.9423 - precision: 0.9314 - recall: 0.9394 - auc: 0.9860 - val_loss: 0.1183 - val_accuracy: 0.9571 - val_precision: 0.9542 - val_recall: 0.9491 - val_auc: 0.9918\n",
      "Epoch 12/400\n",
      "7478/7485 [============================>.] - ETA: 0s - loss: 0.1475 - accuracy: 0.9427 - precision: 0.9308 - recall: 0.9411 - auc: 0.9864\n",
      "Epoch 12: val_accuracy improved from 0.95714 to 0.95910, saving model to D:/S3_project/S Picker/forconference\\weights_with_pool_16dense.best.hdf5\n",
      "7485/7485 [==============================] - 61s 8ms/step - loss: 0.1475 - accuracy: 0.9427 - precision: 0.9308 - recall: 0.9411 - auc: 0.9864 - val_loss: 0.1137 - val_accuracy: 0.9591 - val_precision: 0.9477 - val_recall: 0.9610 - val_auc: 0.9921\n",
      "Epoch 13/400\n",
      "7480/7485 [============================>.] - ETA: 0s - loss: 0.1477 - accuracy: 0.9430 - precision: 0.9308 - recall: 0.9418 - auc: 0.9863\n",
      "Epoch 13: val_accuracy did not improve from 0.95910\n",
      "7485/7485 [==============================] - 62s 8ms/step - loss: 0.1477 - accuracy: 0.9430 - precision: 0.9308 - recall: 0.9418 - auc: 0.9863 - val_loss: 0.1115 - val_accuracy: 0.9585 - val_precision: 0.9567 - val_recall: 0.9497 - val_auc: 0.9922\n",
      "Epoch 14/400\n",
      "7479/7485 [============================>.] - ETA: 0s - loss: 0.1451 - accuracy: 0.9440 - precision: 0.9312 - recall: 0.9437 - auc: 0.9869\n",
      "Epoch 14: val_accuracy did not improve from 0.95910\n",
      "7485/7485 [==============================] - 62s 8ms/step - loss: 0.1451 - accuracy: 0.9440 - precision: 0.9312 - recall: 0.9437 - auc: 0.9869 - val_loss: 0.1120 - val_accuracy: 0.9585 - val_precision: 0.9499 - val_recall: 0.9572 - val_auc: 0.9918\n",
      "Epoch 15/400\n",
      "7481/7485 [============================>.] - ETA: 0s - loss: 0.1455 - accuracy: 0.9440 - precision: 0.9322 - recall: 0.9426 - auc: 0.9867\n",
      "Epoch 15: val_accuracy did not improve from 0.95910\n",
      "7485/7485 [==============================] - 62s 8ms/step - loss: 0.1455 - accuracy: 0.9440 - precision: 0.9321 - recall: 0.9426 - auc: 0.9867 - val_loss: 0.1110 - val_accuracy: 0.9585 - val_precision: 0.9582 - val_recall: 0.9479 - val_auc: 0.9924\n",
      "Epoch 16/400\n",
      "7483/7485 [============================>.] - ETA: 0s - loss: 0.1434 - accuracy: 0.9447 - precision: 0.9321 - recall: 0.9443 - auc: 0.9871\n",
      "Epoch 16: val_accuracy improved from 0.95910 to 0.96093, saving model to D:/S3_project/S Picker/forconference\\weights_with_pool_16dense.best.hdf5\n",
      "7485/7485 [==============================] - 61s 8ms/step - loss: 0.1434 - accuracy: 0.9447 - precision: 0.9321 - recall: 0.9443 - auc: 0.9871 - val_loss: 0.1104 - val_accuracy: 0.9609 - val_precision: 0.9515 - val_recall: 0.9611 - val_auc: 0.9926\n"
     ]
    },
    {
     "name": "stdout",
     "output_type": "stream",
     "text": [
      "Epoch 17/400\n",
      "7479/7485 [============================>.] - ETA: 0s - loss: 0.1425 - accuracy: 0.9450 - precision: 0.9325 - recall: 0.9447 - auc: 0.9872\n",
      "Epoch 17: val_accuracy improved from 0.96093 to 0.96106, saving model to D:/S3_project/S Picker/forconference\\weights_with_pool_16dense.best.hdf5\n",
      "7485/7485 [==============================] - 60s 8ms/step - loss: 0.1425 - accuracy: 0.9450 - precision: 0.9325 - recall: 0.9447 - auc: 0.9872 - val_loss: 0.1105 - val_accuracy: 0.9611 - val_precision: 0.9495 - val_recall: 0.9637 - val_auc: 0.9926\n",
      "Epoch 18/400\n",
      "7483/7485 [============================>.] - ETA: 0s - loss: 0.1423 - accuracy: 0.9452 - precision: 0.9323 - recall: 0.9453 - auc: 0.9873\n",
      "Epoch 18: val_accuracy did not improve from 0.96106\n",
      "7485/7485 [==============================] - 61s 8ms/step - loss: 0.1424 - accuracy: 0.9452 - precision: 0.9323 - recall: 0.9453 - auc: 0.9872 - val_loss: 0.1063 - val_accuracy: 0.9606 - val_precision: 0.9577 - val_recall: 0.9534 - val_auc: 0.9928\n",
      "Epoch 19/400\n",
      "7479/7485 [============================>.] - ETA: 0s - loss: 0.1413 - accuracy: 0.9455 - precision: 0.9323 - recall: 0.9462 - auc: 0.9875\n",
      "Epoch 19: val_accuracy improved from 0.96106 to 0.96123, saving model to D:/S3_project/S Picker/forconference\\weights_with_pool_16dense.best.hdf5\n",
      "7485/7485 [==============================] - 61s 8ms/step - loss: 0.1413 - accuracy: 0.9455 - precision: 0.9323 - recall: 0.9462 - auc: 0.9875 - val_loss: 0.1075 - val_accuracy: 0.9612 - val_precision: 0.9549 - val_recall: 0.9581 - val_auc: 0.9927\n",
      "Epoch 20/400\n",
      "7479/7485 [============================>.] - ETA: 0s - loss: 0.1406 - accuracy: 0.9459 - precision: 0.9332 - recall: 0.9461 - auc: 0.9875\n",
      "Epoch 20: val_accuracy improved from 0.96123 to 0.96142, saving model to D:/S3_project/S Picker/forconference\\weights_with_pool_16dense.best.hdf5\n",
      "7485/7485 [==============================] - 61s 8ms/step - loss: 0.1406 - accuracy: 0.9459 - precision: 0.9332 - recall: 0.9461 - auc: 0.9875 - val_loss: 0.1072 - val_accuracy: 0.9614 - val_precision: 0.9556 - val_recall: 0.9577 - val_auc: 0.9929\n",
      "Epoch 21/400\n",
      "7483/7485 [============================>.] - ETA: 0s - loss: 0.1402 - accuracy: 0.9460 - precision: 0.9327 - recall: 0.9468 - auc: 0.9876\n",
      "Epoch 21: val_accuracy improved from 0.96142 to 0.96226, saving model to D:/S3_project/S Picker/forconference\\weights_with_pool_16dense.best.hdf5\n",
      "7485/7485 [==============================] - 61s 8ms/step - loss: 0.1402 - accuracy: 0.9460 - precision: 0.9327 - recall: 0.9468 - auc: 0.9876 - val_loss: 0.1078 - val_accuracy: 0.9623 - val_precision: 0.9440 - val_recall: 0.9728 - val_auc: 0.9929\n",
      "Epoch 22/400\n",
      "7479/7485 [============================>.] - ETA: 0s - loss: 0.1392 - accuracy: 0.9468 - precision: 0.9339 - recall: 0.9473 - auc: 0.9878\n",
      "Epoch 22: val_accuracy improved from 0.96226 to 0.96292, saving model to D:/S3_project/S Picker/forconference\\weights_with_pool_16dense.best.hdf5\n",
      "7485/7485 [==============================] - 61s 8ms/step - loss: 0.1393 - accuracy: 0.9468 - precision: 0.9339 - recall: 0.9473 - auc: 0.9878 - val_loss: 0.1044 - val_accuracy: 0.9629 - val_precision: 0.9567 - val_recall: 0.9600 - val_auc: 0.9932\n",
      "Epoch 23/400\n",
      "7485/7485 [==============================] - ETA: 0s - loss: 0.1385 - accuracy: 0.9468 - precision: 0.9331 - recall: 0.9482 - auc: 0.9879\n",
      "Epoch 23: val_accuracy improved from 0.96292 to 0.96398, saving model to D:/S3_project/S Picker/forconference\\weights_with_pool_16dense.best.hdf5\n",
      "7485/7485 [==============================] - 62s 8ms/step - loss: 0.1385 - accuracy: 0.9468 - precision: 0.9331 - recall: 0.9482 - auc: 0.9879 - val_loss: 0.1045 - val_accuracy: 0.9640 - val_precision: 0.9509 - val_recall: 0.9690 - val_auc: 0.9932\n",
      "Epoch 24/400\n",
      "7482/7485 [============================>.] - ETA: 0s - loss: 0.1389 - accuracy: 0.9466 - precision: 0.9329 - recall: 0.9481 - auc: 0.9879\n",
      "Epoch 24: val_accuracy did not improve from 0.96398\n",
      "7485/7485 [==============================] - 58s 8ms/step - loss: 0.1389 - accuracy: 0.9466 - precision: 0.9329 - recall: 0.9481 - auc: 0.9879 - val_loss: 0.1046 - val_accuracy: 0.9632 - val_precision: 0.9538 - val_recall: 0.9640 - val_auc: 0.9933\n",
      "Epoch 25/400\n",
      "7481/7485 [============================>.] - ETA: 0s - loss: 0.1376 - accuracy: 0.9473 - precision: 0.9341 - recall: 0.9484 - auc: 0.9880\n",
      "Epoch 25: val_accuracy improved from 0.96398 to 0.96468, saving model to D:/S3_project/S Picker/forconference\\weights_with_pool_16dense.best.hdf5\n",
      "7485/7485 [==============================] - 61s 8ms/step - loss: 0.1376 - accuracy: 0.9473 - precision: 0.9341 - recall: 0.9484 - auc: 0.9880 - val_loss: 0.1004 - val_accuracy: 0.9647 - val_precision: 0.9534 - val_recall: 0.9679 - val_auc: 0.9934\n",
      "Epoch 26/400\n",
      "7483/7485 [============================>.] - ETA: 0s - loss: 0.1377 - accuracy: 0.9472 - precision: 0.9340 - recall: 0.9483 - auc: 0.9881\n",
      "Epoch 26: val_accuracy did not improve from 0.96468\n",
      "7485/7485 [==============================] - 58s 8ms/step - loss: 0.1377 - accuracy: 0.9472 - precision: 0.9340 - recall: 0.9483 - auc: 0.9881 - val_loss: 0.1036 - val_accuracy: 0.9644 - val_precision: 0.9541 - val_recall: 0.9665 - val_auc: 0.9934\n",
      "Epoch 27/400\n",
      "7477/7485 [============================>.] - ETA: 0s - loss: 0.1370 - accuracy: 0.9474 - precision: 0.9338 - recall: 0.9488 - auc: 0.9882\n",
      "Epoch 27: val_accuracy did not improve from 0.96468\n",
      "7485/7485 [==============================] - 59s 8ms/step - loss: 0.1370 - accuracy: 0.9474 - precision: 0.9338 - recall: 0.9488 - auc: 0.9882 - val_loss: 0.1019 - val_accuracy: 0.9633 - val_precision: 0.9558 - val_recall: 0.9619 - val_auc: 0.9933\n",
      "Epoch 28/400\n",
      "7481/7485 [============================>.] - ETA: 0s - loss: 0.1362 - accuracy: 0.9479 - precision: 0.9344 - recall: 0.9493 - auc: 0.9883\n",
      "Epoch 28: val_accuracy did not improve from 0.96468\n",
      "7485/7485 [==============================] - 59s 8ms/step - loss: 0.1362 - accuracy: 0.9479 - precision: 0.9344 - recall: 0.9493 - auc: 0.9883 - val_loss: 0.1032 - val_accuracy: 0.9622 - val_precision: 0.9588 - val_recall: 0.9560 - val_auc: 0.9929\n",
      "Epoch 29/400\n",
      "7480/7485 [============================>.] - ETA: 0s - loss: 0.1359 - accuracy: 0.9483 - precision: 0.9352 - recall: 0.9496 - auc: 0.9883\n",
      "Epoch 29: val_accuracy did not improve from 0.96468\n",
      "7485/7485 [==============================] - 59s 8ms/step - loss: 0.1359 - accuracy: 0.9483 - precision: 0.9352 - recall: 0.9496 - auc: 0.9883 - val_loss: 0.0991 - val_accuracy: 0.9643 - val_precision: 0.9547 - val_recall: 0.9655 - val_auc: 0.9933\n",
      "Epoch 30/400\n",
      "7478/7485 [============================>.] - ETA: 0s - loss: 0.1357 - accuracy: 0.9481 - precision: 0.9337 - recall: 0.9508 - auc: 0.9884\n",
      "Epoch 30: val_accuracy improved from 0.96468 to 0.96512, saving model to D:/S3_project/S Picker/forconference\\weights_with_pool_16dense.best.hdf5\n",
      "7485/7485 [==============================] - 60s 8ms/step - loss: 0.1357 - accuracy: 0.9481 - precision: 0.9337 - recall: 0.9508 - auc: 0.9884 - val_loss: 0.0983 - val_accuracy: 0.9651 - val_precision: 0.9529 - val_recall: 0.9695 - val_auc: 0.9936\n",
      "Epoch 31/400\n",
      "7485/7485 [==============================] - ETA: 0s - loss: 0.1355 - accuracy: 0.9479 - precision: 0.9334 - recall: 0.9505 - auc: 0.9884\n",
      "Epoch 31: val_accuracy improved from 0.96512 to 0.96541, saving model to D:/S3_project/S Picker/forconference\\weights_with_pool_16dense.best.hdf5\n",
      "7485/7485 [==============================] - 60s 8ms/step - loss: 0.1355 - accuracy: 0.9479 - precision: 0.9334 - recall: 0.9505 - auc: 0.9884 - val_loss: 0.1026 - val_accuracy: 0.9654 - val_precision: 0.9505 - val_recall: 0.9728 - val_auc: 0.9938\n",
      "Epoch 32/400\n",
      "7479/7485 [============================>.] - ETA: 0s - loss: 0.1354 - accuracy: 0.9481 - precision: 0.9339 - recall: 0.9504 - auc: 0.9884\n",
      "Epoch 32: val_accuracy did not improve from 0.96541\n",
      "7485/7485 [==============================] - 59s 8ms/step - loss: 0.1354 - accuracy: 0.9481 - precision: 0.9339 - recall: 0.9504 - auc: 0.9884 - val_loss: 0.1018 - val_accuracy: 0.9652 - val_precision: 0.9545 - val_recall: 0.9678 - val_auc: 0.9936\n",
      "Epoch 33/400\n"
     ]
    },
    {
     "name": "stdout",
     "output_type": "stream",
     "text": [
      "7483/7485 [============================>.] - ETA: 0s - loss: 0.1345 - accuracy: 0.9486 - precision: 0.9347 - recall: 0.9509 - auc: 0.9886\n",
      "Epoch 33: val_accuracy did not improve from 0.96541\n",
      "7485/7485 [==============================] - 56s 8ms/step - loss: 0.1345 - accuracy: 0.9486 - precision: 0.9347 - recall: 0.9510 - auc: 0.9886 - val_loss: 0.1007 - val_accuracy: 0.9646 - val_precision: 0.9505 - val_recall: 0.9709 - val_auc: 0.9935\n",
      "Epoch 34/400\n",
      "7484/7485 [============================>.] - ETA: 0s - loss: 0.1345 - accuracy: 0.9484 - precision: 0.9341 - recall: 0.9511 - auc: 0.9885\n",
      "Epoch 34: val_accuracy improved from 0.96541 to 0.96614, saving model to D:/S3_project/S Picker/forconference\\weights_with_pool_16dense.best.hdf5\n",
      "7485/7485 [==============================] - 60s 8ms/step - loss: 0.1345 - accuracy: 0.9484 - precision: 0.9341 - recall: 0.9511 - auc: 0.9885 - val_loss: 0.0965 - val_accuracy: 0.9661 - val_precision: 0.9542 - val_recall: 0.9704 - val_auc: 0.9938\n",
      "Epoch 35/400\n",
      "7485/7485 [==============================] - ETA: 0s - loss: 0.1347 - accuracy: 0.9487 - precision: 0.9345 - recall: 0.9513 - auc: 0.9885\n",
      "Epoch 35: val_accuracy improved from 0.96614 to 0.96642, saving model to D:/S3_project/S Picker/forconference\\weights_with_pool_16dense.best.hdf5\n",
      "7485/7485 [==============================] - 57s 8ms/step - loss: 0.1347 - accuracy: 0.9487 - precision: 0.9345 - recall: 0.9513 - auc: 0.9885 - val_loss: 0.0972 - val_accuracy: 0.9664 - val_precision: 0.9527 - val_recall: 0.9727 - val_auc: 0.9939\n",
      "Epoch 36/400\n",
      "7482/7485 [============================>.] - ETA: 0s - loss: 0.1339 - accuracy: 0.9492 - precision: 0.9350 - recall: 0.9519 - auc: 0.9886\n",
      "Epoch 36: val_accuracy did not improve from 0.96642\n",
      "7485/7485 [==============================] - 56s 8ms/step - loss: 0.1339 - accuracy: 0.9492 - precision: 0.9349 - recall: 0.9519 - auc: 0.9886 - val_loss: 0.0987 - val_accuracy: 0.9655 - val_precision: 0.9527 - val_recall: 0.9705 - val_auc: 0.9938\n",
      "Epoch 37/400\n",
      "7480/7485 [============================>.] - ETA: 0s - loss: 0.1336 - accuracy: 0.9489 - precision: 0.9346 - recall: 0.9518 - auc: 0.9887\n",
      "Epoch 37: val_accuracy did not improve from 0.96642\n",
      "7485/7485 [==============================] - 59s 8ms/step - loss: 0.1336 - accuracy: 0.9489 - precision: 0.9346 - recall: 0.9518 - auc: 0.9887 - val_loss: 0.0987 - val_accuracy: 0.9659 - val_precision: 0.9507 - val_recall: 0.9738 - val_auc: 0.9939\n",
      "Epoch 38/400\n",
      "7480/7485 [============================>.] - ETA: 0s - loss: 0.1335 - accuracy: 0.9491 - precision: 0.9348 - recall: 0.9519 - auc: 0.9888\n",
      "Epoch 38: val_accuracy did not improve from 0.96642\n",
      "7485/7485 [==============================] - 59s 8ms/step - loss: 0.1335 - accuracy: 0.9491 - precision: 0.9348 - recall: 0.9519 - auc: 0.9888 - val_loss: 0.1080 - val_accuracy: 0.9619 - val_precision: 0.9354 - val_recall: 0.9820 - val_auc: 0.9934\n",
      "Epoch 39/400\n",
      "7480/7485 [============================>.] - ETA: 0s - loss: 0.1328 - accuracy: 0.9492 - precision: 0.9351 - recall: 0.9517 - auc: 0.9888\n",
      "Epoch 39: val_accuracy improved from 0.96642 to 0.96689, saving model to D:/S3_project/S Picker/forconference\\weights_with_pool_16dense.best.hdf5\n",
      "7485/7485 [==============================] - 60s 8ms/step - loss: 0.1328 - accuracy: 0.9492 - precision: 0.9351 - recall: 0.9517 - auc: 0.9888 - val_loss: 0.0962 - val_accuracy: 0.9669 - val_precision: 0.9549 - val_recall: 0.9714 - val_auc: 0.9939\n",
      "Epoch 40/400\n",
      "7483/7485 [============================>.] - ETA: 0s - loss: 0.1322 - accuracy: 0.9495 - precision: 0.9348 - recall: 0.9530 - auc: 0.9889\n",
      "Epoch 40: val_accuracy did not improve from 0.96689\n",
      "7485/7485 [==============================] - 59s 8ms/step - loss: 0.1322 - accuracy: 0.9495 - precision: 0.9348 - recall: 0.9530 - auc: 0.9889 - val_loss: 0.0974 - val_accuracy: 0.9663 - val_precision: 0.9570 - val_recall: 0.9676 - val_auc: 0.9938\n",
      "Epoch 41/400\n",
      "7478/7485 [============================>.] - ETA: 0s - loss: 0.1322 - accuracy: 0.9499 - precision: 0.9359 - recall: 0.9525 - auc: 0.9889\n",
      "Epoch 41: val_accuracy did not improve from 0.96689\n",
      "7485/7485 [==============================] - 59s 8ms/step - loss: 0.1322 - accuracy: 0.9498 - precision: 0.9359 - recall: 0.9525 - auc: 0.9889 - val_loss: 0.0962 - val_accuracy: 0.9659 - val_precision: 0.9619 - val_recall: 0.9614 - val_auc: 0.9939\n",
      "Epoch 42/400\n",
      "7482/7485 [============================>.] - ETA: 0s - loss: 0.1317 - accuracy: 0.9495 - precision: 0.9350 - recall: 0.9525 - auc: 0.9890\n",
      "Epoch 42: val_accuracy improved from 0.96689 to 0.96721, saving model to D:/S3_project/S Picker/forconference\\weights_with_pool_16dense.best.hdf5\n",
      "7485/7485 [==============================] - 60s 8ms/step - loss: 0.1317 - accuracy: 0.9495 - precision: 0.9350 - recall: 0.9526 - auc: 0.9890 - val_loss: 0.0983 - val_accuracy: 0.9672 - val_precision: 0.9582 - val_recall: 0.9685 - val_auc: 0.9940\n",
      "Epoch 43/400\n",
      "7481/7485 [============================>.] - ETA: 0s - loss: 0.1321 - accuracy: 0.9496 - precision: 0.9350 - recall: 0.9529 - auc: 0.9890\n",
      "Epoch 43: val_accuracy did not improve from 0.96721\n",
      "7485/7485 [==============================] - 61s 8ms/step - loss: 0.1321 - accuracy: 0.9496 - precision: 0.9350 - recall: 0.9529 - auc: 0.9890 - val_loss: 0.0984 - val_accuracy: 0.9666 - val_precision: 0.9530 - val_recall: 0.9729 - val_auc: 0.9939\n",
      "Epoch 44/400\n",
      "7480/7485 [============================>.] - ETA: 0s - loss: 0.1329 - accuracy: 0.9495 - precision: 0.9348 - recall: 0.9529 - auc: 0.9888\n",
      "Epoch 44: val_accuracy did not improve from 0.96721\n",
      "7485/7485 [==============================] - 61s 8ms/step - loss: 0.1329 - accuracy: 0.9495 - precision: 0.9348 - recall: 0.9529 - auc: 0.9888 - val_loss: 0.1006 - val_accuracy: 0.9661 - val_precision: 0.9575 - val_recall: 0.9666 - val_auc: 0.9939\n",
      "Epoch 45/400\n",
      "7480/7485 [============================>.] - ETA: 0s - loss: 0.1321 - accuracy: 0.9499 - precision: 0.9353 - recall: 0.9533 - auc: 0.9889\n",
      "Epoch 45: val_accuracy did not improve from 0.96721\n",
      "7485/7485 [==============================] - 61s 8ms/step - loss: 0.1321 - accuracy: 0.9499 - precision: 0.9353 - recall: 0.9533 - auc: 0.9889 - val_loss: 0.0978 - val_accuracy: 0.9657 - val_precision: 0.9513 - val_recall: 0.9726 - val_auc: 0.9935\n",
      "Epoch 46/400\n",
      "7482/7485 [============================>.] - ETA: 0s - loss: 0.1315 - accuracy: 0.9500 - precision: 0.9353 - recall: 0.9535 - auc: 0.9891\n",
      "Epoch 46: val_accuracy did not improve from 0.96721\n",
      "7485/7485 [==============================] - 61s 8ms/step - loss: 0.1315 - accuracy: 0.9500 - precision: 0.9353 - recall: 0.9535 - auc: 0.9891 - val_loss: 0.1005 - val_accuracy: 0.9653 - val_precision: 0.9426 - val_recall: 0.9817 - val_auc: 0.9940\n",
      "Epoch 47/400\n",
      "7482/7485 [============================>.] - ETA: 0s - loss: 0.1309 - accuracy: 0.9499 - precision: 0.9348 - recall: 0.9538 - auc: 0.9892\n",
      "Epoch 47: val_accuracy did not improve from 0.96721\n",
      "7485/7485 [==============================] - 61s 8ms/step - loss: 0.1309 - accuracy: 0.9499 - precision: 0.9348 - recall: 0.9538 - auc: 0.9892 - val_loss: 0.0953 - val_accuracy: 0.9669 - val_precision: 0.9530 - val_recall: 0.9736 - val_auc: 0.9940\n",
      "Epoch 48/400\n",
      "7482/7485 [============================>.] - ETA: 0s - loss: 0.1314 - accuracy: 0.9501 - precision: 0.9350 - recall: 0.9540 - auc: 0.9890\n",
      "Epoch 48: val_accuracy improved from 0.96721 to 0.96797, saving model to D:/S3_project/S Picker/forconference\\weights_with_pool_16dense.best.hdf5\n",
      "7485/7485 [==============================] - 62s 8ms/step - loss: 0.1314 - accuracy: 0.9501 - precision: 0.9350 - recall: 0.9540 - auc: 0.9890 - val_loss: 0.0974 - val_accuracy: 0.9680 - val_precision: 0.9523 - val_recall: 0.9769 - val_auc: 0.9942\n",
      "Epoch 49/400\n",
      "7479/7485 [============================>.] - ETA: 0s - loss: 0.1319 - accuracy: 0.9497 - precision: 0.9349 - recall: 0.9532 - auc: 0.9889\n",
      "Epoch 49: val_accuracy did not improve from 0.96797\n",
      "7485/7485 [==============================] - 58s 8ms/step - loss: 0.1319 - accuracy: 0.9497 - precision: 0.9349 - recall: 0.9532 - auc: 0.9889 - val_loss: 0.0939 - val_accuracy: 0.9677 - val_precision: 0.9570 - val_recall: 0.9708 - val_auc: 0.9942\n",
      "Epoch 50/400\n"
     ]
    },
    {
     "name": "stdout",
     "output_type": "stream",
     "text": [
      "7479/7485 [============================>.] - ETA: 0s - loss: 0.1317 - accuracy: 0.9499 - precision: 0.9353 - recall: 0.9534 - auc: 0.9890\n",
      "Epoch 50: val_accuracy did not improve from 0.96797\n",
      "7485/7485 [==============================] - 60s 8ms/step - loss: 0.1317 - accuracy: 0.9499 - precision: 0.9353 - recall: 0.9534 - auc: 0.9890 - val_loss: 0.0958 - val_accuracy: 0.9677 - val_precision: 0.9532 - val_recall: 0.9752 - val_auc: 0.9940\n",
      "Epoch 51/400\n",
      "7480/7485 [============================>.] - ETA: 0s - loss: 0.1306 - accuracy: 0.9501 - precision: 0.9355 - recall: 0.9536 - auc: 0.9892\n",
      "Epoch 51: val_accuracy did not improve from 0.96797\n",
      "7485/7485 [==============================] - 61s 8ms/step - loss: 0.1306 - accuracy: 0.9501 - precision: 0.9355 - recall: 0.9536 - auc: 0.9892 - val_loss: 0.0932 - val_accuracy: 0.9672 - val_precision: 0.9510 - val_recall: 0.9765 - val_auc: 0.9942\n",
      "Epoch 52/400\n",
      "7479/7485 [============================>.] - ETA: 0s - loss: 0.1315 - accuracy: 0.9503 - precision: 0.9351 - recall: 0.9544 - auc: 0.9890\n",
      "Epoch 52: val_accuracy did not improve from 0.96797\n",
      "7485/7485 [==============================] - 58s 8ms/step - loss: 0.1315 - accuracy: 0.9503 - precision: 0.9351 - recall: 0.9544 - auc: 0.9890 - val_loss: 0.0955 - val_accuracy: 0.9668 - val_precision: 0.9556 - val_recall: 0.9703 - val_auc: 0.9938\n",
      "Epoch 53/400\n",
      "7484/7485 [============================>.] - ETA: 0s - loss: 0.1303 - accuracy: 0.9507 - precision: 0.9360 - recall: 0.9544 - auc: 0.9892\n",
      "Epoch 53: val_accuracy did not improve from 0.96797\n",
      "7485/7485 [==============================] - 61s 8ms/step - loss: 0.1303 - accuracy: 0.9507 - precision: 0.9360 - recall: 0.9544 - auc: 0.9892 - val_loss: 0.0965 - val_accuracy: 0.9674 - val_precision: 0.9543 - val_recall: 0.9733 - val_auc: 0.9942\n",
      "Epoch 54/400\n",
      "7480/7485 [============================>.] - ETA: 0s - loss: 0.1307 - accuracy: 0.9505 - precision: 0.9355 - recall: 0.9543 - auc: 0.9891\n",
      "Epoch 54: val_accuracy did not improve from 0.96797\n",
      "7485/7485 [==============================] - 61s 8ms/step - loss: 0.1307 - accuracy: 0.9505 - precision: 0.9355 - recall: 0.9543 - auc: 0.9891 - val_loss: 0.0936 - val_accuracy: 0.9677 - val_precision: 0.9513 - val_recall: 0.9774 - val_auc: 0.9942\n",
      "Epoch 55/400\n",
      "7480/7485 [============================>.] - ETA: 0s - loss: 0.1303 - accuracy: 0.9504 - precision: 0.9355 - recall: 0.9543 - auc: 0.9892\n",
      "Epoch 55: val_accuracy did not improve from 0.96797\n",
      "7485/7485 [==============================] - 61s 8ms/step - loss: 0.1303 - accuracy: 0.9504 - precision: 0.9355 - recall: 0.9543 - auc: 0.9892 - val_loss: 0.0955 - val_accuracy: 0.9673 - val_precision: 0.9530 - val_recall: 0.9745 - val_auc: 0.9941\n",
      "Epoch 56/400\n",
      "7482/7485 [============================>.] - ETA: 0s - loss: 0.1302 - accuracy: 0.9506 - precision: 0.9355 - recall: 0.9546 - auc: 0.9892\n",
      "Epoch 56: val_accuracy did not improve from 0.96797\n",
      "7485/7485 [==============================] - 61s 8ms/step - loss: 0.1302 - accuracy: 0.9506 - precision: 0.9355 - recall: 0.9546 - auc: 0.9892 - val_loss: 0.0948 - val_accuracy: 0.9678 - val_precision: 0.9554 - val_recall: 0.9729 - val_auc: 0.9943\n",
      "Epoch 57/400\n",
      "7485/7485 [==============================] - ETA: 0s - loss: 0.1304 - accuracy: 0.9504 - precision: 0.9359 - recall: 0.9538 - auc: 0.9892\n",
      "Epoch 57: val_accuracy did not improve from 0.96797\n",
      "7485/7485 [==============================] - 61s 8ms/step - loss: 0.1304 - accuracy: 0.9504 - precision: 0.9359 - recall: 0.9538 - auc: 0.9892 - val_loss: 0.0951 - val_accuracy: 0.9677 - val_precision: 0.9556 - val_recall: 0.9726 - val_auc: 0.9941\n",
      "Epoch 58/400\n",
      "7481/7485 [============================>.] - ETA: 0s - loss: 0.1302 - accuracy: 0.9504 - precision: 0.9356 - recall: 0.9540 - auc: 0.9892\n",
      "Epoch 58: val_accuracy improved from 0.96797 to 0.96849, saving model to D:/S3_project/S Picker/forconference\\weights_with_pool_16dense.best.hdf5\n",
      "7485/7485 [==============================] - 63s 8ms/step - loss: 0.1302 - accuracy: 0.9504 - precision: 0.9356 - recall: 0.9540 - auc: 0.9892 - val_loss: 0.0949 - val_accuracy: 0.9685 - val_precision: 0.9548 - val_recall: 0.9753 - val_auc: 0.9943\n",
      "Epoch 59/400\n",
      "7482/7485 [============================>.] - ETA: 0s - loss: 0.1298 - accuracy: 0.9506 - precision: 0.9353 - recall: 0.9550 - auc: 0.9893\n",
      "Epoch 59: val_accuracy did not improve from 0.96849\n",
      "7485/7485 [==============================] - 61s 8ms/step - loss: 0.1298 - accuracy: 0.9506 - precision: 0.9353 - recall: 0.9550 - auc: 0.9893 - val_loss: 0.0947 - val_accuracy: 0.9677 - val_precision: 0.9518 - val_recall: 0.9769 - val_auc: 0.9942\n",
      "Epoch 60/400\n",
      "7484/7485 [============================>.] - ETA: 0s - loss: 0.1299 - accuracy: 0.9506 - precision: 0.9355 - recall: 0.9547 - auc: 0.9892\n",
      "Epoch 60: val_accuracy did not improve from 0.96849\n",
      "7485/7485 [==============================] - 61s 8ms/step - loss: 0.1299 - accuracy: 0.9506 - precision: 0.9355 - recall: 0.9547 - auc: 0.9892 - val_loss: 0.0927 - val_accuracy: 0.9679 - val_precision: 0.9549 - val_recall: 0.9738 - val_auc: 0.9941\n",
      "Epoch 61/400\n",
      "7479/7485 [============================>.] - ETA: 0s - loss: 0.1298 - accuracy: 0.9508 - precision: 0.9361 - recall: 0.9545 - auc: 0.9893\n",
      "Epoch 61: val_accuracy did not improve from 0.96849\n",
      "7485/7485 [==============================] - 61s 8ms/step - loss: 0.1298 - accuracy: 0.9508 - precision: 0.9361 - recall: 0.9545 - auc: 0.9893 - val_loss: 0.0956 - val_accuracy: 0.9681 - val_precision: 0.9576 - val_recall: 0.9713 - val_auc: 0.9943\n",
      "Epoch 62/400\n",
      "7480/7485 [============================>.] - ETA: 0s - loss: 0.1295 - accuracy: 0.9512 - precision: 0.9359 - recall: 0.9556 - auc: 0.9892\n",
      "Epoch 62: val_accuracy did not improve from 0.96849\n",
      "7485/7485 [==============================] - 62s 8ms/step - loss: 0.1295 - accuracy: 0.9512 - precision: 0.9360 - recall: 0.9556 - auc: 0.9892 - val_loss: 0.0940 - val_accuracy: 0.9668 - val_precision: 0.9506 - val_recall: 0.9760 - val_auc: 0.9940\n",
      "Epoch 63/400\n",
      "7480/7485 [============================>.] - ETA: 0s - loss: 0.1297 - accuracy: 0.9508 - precision: 0.9357 - recall: 0.9549 - auc: 0.9893\n",
      "Epoch 63: val_accuracy did not improve from 0.96849\n",
      "7485/7485 [==============================] - 62s 8ms/step - loss: 0.1297 - accuracy: 0.9508 - precision: 0.9357 - recall: 0.9549 - auc: 0.9893 - val_loss: 0.0932 - val_accuracy: 0.9680 - val_precision: 0.9547 - val_recall: 0.9743 - val_auc: 0.9943\n",
      "Epoch 64/400\n",
      "7482/7485 [============================>.] - ETA: 0s - loss: 0.1294 - accuracy: 0.9509 - precision: 0.9359 - recall: 0.9549 - auc: 0.9893\n",
      "Epoch 64: val_accuracy did not improve from 0.96849\n",
      "7485/7485 [==============================] - 58s 8ms/step - loss: 0.1294 - accuracy: 0.9509 - precision: 0.9359 - recall: 0.9549 - auc: 0.9893 - val_loss: 0.0929 - val_accuracy: 0.9681 - val_precision: 0.9558 - val_recall: 0.9733 - val_auc: 0.9942\n",
      "Epoch 65/400\n",
      "7483/7485 [============================>.] - ETA: 0s - loss: 0.1299 - accuracy: 0.9508 - precision: 0.9358 - recall: 0.9549 - auc: 0.9893\n",
      "Epoch 65: val_accuracy did not improve from 0.96849\n",
      "7485/7485 [==============================] - 61s 8ms/step - loss: 0.1299 - accuracy: 0.9508 - precision: 0.9358 - recall: 0.9549 - auc: 0.9893 - val_loss: 0.0908 - val_accuracy: 0.9685 - val_precision: 0.9560 - val_recall: 0.9740 - val_auc: 0.9943\n",
      "Epoch 66/400\n",
      "7481/7485 [============================>.] - ETA: 0s - loss: 0.1291 - accuracy: 0.9511 - precision: 0.9362 - recall: 0.9552 - auc: 0.9894\n",
      "Epoch 66: val_accuracy did not improve from 0.96849\n",
      "7485/7485 [==============================] - 61s 8ms/step - loss: 0.1291 - accuracy: 0.9511 - precision: 0.9362 - recall: 0.9552 - auc: 0.9894 - val_loss: 0.0928 - val_accuracy: 0.9680 - val_precision: 0.9517 - val_recall: 0.9776 - val_auc: 0.9942\n",
      "Epoch 67/400\n",
      "7479/7485 [============================>.] - ETA: 0s - loss: 0.1294 - accuracy: 0.9507 - precision: 0.9357 - recall: 0.9547 - auc: 0.9893\n",
      "Epoch 67: val_accuracy improved from 0.96849 to 0.96863, saving model to D:/S3_project/S Picker/forconference\\weights_with_pool_16dense.best.hdf5\n",
      "7485/7485 [==============================] - 62s 8ms/step - loss: 0.1294 - accuracy: 0.9507 - precision: 0.9357 - recall: 0.9547 - auc: 0.9893 - val_loss: 0.0913 - val_accuracy: 0.9686 - val_precision: 0.9549 - val_recall: 0.9755 - val_auc: 0.9942\n"
     ]
    },
    {
     "name": "stdout",
     "output_type": "stream",
     "text": [
      "Epoch 68/400\n",
      "7480/7485 [============================>.] - ETA: 0s - loss: 0.1286 - accuracy: 0.9512 - precision: 0.9357 - recall: 0.9559 - auc: 0.9894\n",
      "Epoch 68: val_accuracy did not improve from 0.96863\n",
      "7485/7485 [==============================] - 61s 8ms/step - loss: 0.1286 - accuracy: 0.9512 - precision: 0.9357 - recall: 0.9559 - auc: 0.9894 - val_loss: 0.0952 - val_accuracy: 0.9671 - val_precision: 0.9611 - val_recall: 0.9652 - val_auc: 0.9942\n",
      "Epoch 69/400\n",
      "7479/7485 [============================>.] - ETA: 0s - loss: 0.1285 - accuracy: 0.9511 - precision: 0.9358 - recall: 0.9555 - auc: 0.9895\n",
      "Epoch 69: val_accuracy did not improve from 0.96863\n",
      "7485/7485 [==============================] - 61s 8ms/step - loss: 0.1285 - accuracy: 0.9511 - precision: 0.9358 - recall: 0.9555 - auc: 0.9895 - val_loss: 0.0963 - val_accuracy: 0.9668 - val_precision: 0.9473 - val_recall: 0.9799 - val_auc: 0.9942\n",
      "Epoch 70/400\n",
      "7480/7485 [============================>.] - ETA: 0s - loss: 0.1289 - accuracy: 0.9510 - precision: 0.9358 - recall: 0.9555 - auc: 0.9894\n",
      "Epoch 70: val_accuracy did not improve from 0.96863\n",
      "7485/7485 [==============================] - 61s 8ms/step - loss: 0.1289 - accuracy: 0.9511 - precision: 0.9358 - recall: 0.9555 - auc: 0.9894 - val_loss: 0.0943 - val_accuracy: 0.9667 - val_precision: 0.9652 - val_recall: 0.9596 - val_auc: 0.9942\n",
      "Epoch 71/400\n",
      "7482/7485 [============================>.] - ETA: 0s - loss: 0.1282 - accuracy: 0.9517 - precision: 0.9371 - recall: 0.9556 - auc: 0.9895\n",
      "Epoch 71: val_accuracy improved from 0.96863 to 0.96877, saving model to D:/S3_project/S Picker/forconference\\weights_with_pool_16dense.best.hdf5\n",
      "7485/7485 [==============================] - 61s 8ms/step - loss: 0.1282 - accuracy: 0.9517 - precision: 0.9371 - recall: 0.9556 - auc: 0.9895 - val_loss: 0.0907 - val_accuracy: 0.9688 - val_precision: 0.9623 - val_recall: 0.9676 - val_auc: 0.9942\n",
      "Epoch 72/400\n",
      "7479/7485 [============================>.] - ETA: 0s - loss: 0.1291 - accuracy: 0.9513 - precision: 0.9358 - recall: 0.9561 - auc: 0.9893\n",
      "Epoch 72: val_accuracy improved from 0.96877 to 0.96929, saving model to D:/S3_project/S Picker/forconference\\weights_with_pool_16dense.best.hdf5\n",
      "7485/7485 [==============================] - 58s 8ms/step - loss: 0.1291 - accuracy: 0.9513 - precision: 0.9358 - recall: 0.9561 - auc: 0.9893 - val_loss: 0.0919 - val_accuracy: 0.9693 - val_precision: 0.9550 - val_recall: 0.9769 - val_auc: 0.9946\n",
      "Epoch 73/400\n",
      "7484/7485 [============================>.] - ETA: 0s - loss: 0.1293 - accuracy: 0.9511 - precision: 0.9358 - recall: 0.9555 - auc: 0.9894\n",
      "Epoch 73: val_accuracy improved from 0.96929 to 0.96933, saving model to D:/S3_project/S Picker/forconference\\weights_with_pool_16dense.best.hdf5\n",
      "7485/7485 [==============================] - 62s 8ms/step - loss: 0.1293 - accuracy: 0.9511 - precision: 0.9358 - recall: 0.9555 - auc: 0.9894 - val_loss: 0.0894 - val_accuracy: 0.9693 - val_precision: 0.9563 - val_recall: 0.9757 - val_auc: 0.9945\n",
      "Epoch 74/400\n",
      "7482/7485 [============================>.] - ETA: 0s - loss: 0.1289 - accuracy: 0.9508 - precision: 0.9353 - recall: 0.9555 - auc: 0.9894\n",
      "Epoch 74: val_accuracy did not improve from 0.96933\n",
      "7485/7485 [==============================] - 58s 8ms/step - loss: 0.1289 - accuracy: 0.9508 - precision: 0.9353 - recall: 0.9555 - auc: 0.9894 - val_loss: 0.0958 - val_accuracy: 0.9686 - val_precision: 0.9495 - val_recall: 0.9815 - val_auc: 0.9944\n",
      "Epoch 75/400\n",
      "7483/7485 [============================>.] - ETA: 0s - loss: 0.1282 - accuracy: 0.9513 - precision: 0.9356 - recall: 0.9562 - auc: 0.9896\n",
      "Epoch 75: val_accuracy did not improve from 0.96933\n",
      "7485/7485 [==============================] - 61s 8ms/step - loss: 0.1282 - accuracy: 0.9513 - precision: 0.9356 - recall: 0.9562 - auc: 0.9896 - val_loss: 0.0927 - val_accuracy: 0.9682 - val_precision: 0.9587 - val_recall: 0.9703 - val_auc: 0.9944\n",
      "Epoch 76/400\n",
      "7483/7485 [============================>.] - ETA: 0s - loss: 0.1287 - accuracy: 0.9510 - precision: 0.9357 - recall: 0.9554 - auc: 0.9894\n",
      "Epoch 76: val_accuracy did not improve from 0.96933\n",
      "7485/7485 [==============================] - 61s 8ms/step - loss: 0.1287 - accuracy: 0.9510 - precision: 0.9357 - recall: 0.9554 - auc: 0.9894 - val_loss: 0.0899 - val_accuracy: 0.9682 - val_precision: 0.9614 - val_recall: 0.9673 - val_auc: 0.9942\n",
      "Epoch 77/400\n",
      "7484/7485 [============================>.] - ETA: 0s - loss: 0.1284 - accuracy: 0.9513 - precision: 0.9358 - recall: 0.9560 - auc: 0.9895\n",
      "Epoch 77: val_accuracy did not improve from 0.96933\n",
      "7485/7485 [==============================] - 61s 8ms/step - loss: 0.1284 - accuracy: 0.9513 - precision: 0.9358 - recall: 0.9560 - auc: 0.9895 - val_loss: 0.0964 - val_accuracy: 0.9681 - val_precision: 0.9607 - val_recall: 0.9678 - val_auc: 0.9944\n",
      "Epoch 78/400\n",
      "7478/7485 [============================>.] - ETA: 0s - loss: 0.1281 - accuracy: 0.9518 - precision: 0.9361 - recall: 0.9570 - auc: 0.9895\n",
      "Epoch 78: val_accuracy did not improve from 0.96933\n",
      "7485/7485 [==============================] - 62s 8ms/step - loss: 0.1280 - accuracy: 0.9519 - precision: 0.9362 - recall: 0.9570 - auc: 0.9895 - val_loss: 0.0960 - val_accuracy: 0.9680 - val_precision: 0.9494 - val_recall: 0.9801 - val_auc: 0.9942\n",
      "Epoch 79/400\n",
      "7484/7485 [============================>.] - ETA: 0s - loss: 0.1288 - accuracy: 0.9511 - precision: 0.9358 - recall: 0.9556 - auc: 0.9894\n",
      "Epoch 79: val_accuracy did not improve from 0.96933\n",
      "7485/7485 [==============================] - 62s 8ms/step - loss: 0.1288 - accuracy: 0.9511 - precision: 0.9358 - recall: 0.9556 - auc: 0.9894 - val_loss: 0.0920 - val_accuracy: 0.9689 - val_precision: 0.9527 - val_recall: 0.9785 - val_auc: 0.9943\n",
      "Epoch 80/400\n",
      "7484/7485 [============================>.] - ETA: 0s - loss: 0.1282 - accuracy: 0.9512 - precision: 0.9356 - recall: 0.9559 - auc: 0.9895\n",
      "Epoch 80: val_accuracy improved from 0.96933 to 0.96942, saving model to D:/S3_project/S Picker/forconference\\weights_with_pool_16dense.best.hdf5\n",
      "7485/7485 [==============================] - 58s 8ms/step - loss: 0.1282 - accuracy: 0.9512 - precision: 0.9356 - recall: 0.9559 - auc: 0.9895 - val_loss: 0.0922 - val_accuracy: 0.9694 - val_precision: 0.9551 - val_recall: 0.9771 - val_auc: 0.9944\n",
      "Epoch 81/400\n",
      "7484/7485 [============================>.] - ETA: 0s - loss: 0.1282 - accuracy: 0.9516 - precision: 0.9359 - recall: 0.9567 - auc: 0.9895\n",
      "Epoch 81: val_accuracy did not improve from 0.96942\n",
      "7485/7485 [==============================] - 62s 8ms/step - loss: 0.1282 - accuracy: 0.9516 - precision: 0.9359 - recall: 0.9567 - auc: 0.9895 - val_loss: 0.0901 - val_accuracy: 0.9688 - val_precision: 0.9528 - val_recall: 0.9783 - val_auc: 0.9942\n",
      "Epoch 82/400\n",
      "7483/7485 [============================>.] - ETA: 0s - loss: 0.1277 - accuracy: 0.9517 - precision: 0.9358 - recall: 0.9571 - auc: 0.9896\n",
      "Epoch 82: val_accuracy did not improve from 0.96942\n",
      "7485/7485 [==============================] - 62s 8ms/step - loss: 0.1277 - accuracy: 0.9517 - precision: 0.9358 - recall: 0.9571 - auc: 0.9896 - val_loss: 0.0908 - val_accuracy: 0.9691 - val_precision: 0.9542 - val_recall: 0.9773 - val_auc: 0.9945\n",
      "Epoch 83/400\n",
      "7481/7485 [============================>.] - ETA: 0s - loss: 0.1281 - accuracy: 0.9516 - precision: 0.9359 - recall: 0.9566 - auc: 0.9896\n",
      "Epoch 83: val_accuracy did not improve from 0.96942\n",
      "7485/7485 [==============================] - 62s 8ms/step - loss: 0.1281 - accuracy: 0.9516 - precision: 0.9359 - recall: 0.9566 - auc: 0.9896 - val_loss: 0.0934 - val_accuracy: 0.9686 - val_precision: 0.9495 - val_recall: 0.9816 - val_auc: 0.9944\n",
      "Epoch 84/400\n",
      "7480/7485 [============================>.] - ETA: 0s - loss: 0.1274 - accuracy: 0.9517 - precision: 0.9364 - recall: 0.9565 - auc: 0.9896\n",
      "Epoch 84: val_accuracy improved from 0.96942 to 0.96987, saving model to D:/S3_project/S Picker/forconference\\weights_with_pool_16dense.best.hdf5\n",
      "7485/7485 [==============================] - 62s 8ms/step - loss: 0.1274 - accuracy: 0.9518 - precision: 0.9364 - recall: 0.9565 - auc: 0.9896 - val_loss: 0.0907 - val_accuracy: 0.9699 - val_precision: 0.9566 - val_recall: 0.9765 - val_auc: 0.9947\n",
      "Epoch 85/400\n"
     ]
    },
    {
     "name": "stdout",
     "output_type": "stream",
     "text": [
      "7479/7485 [============================>.] - ETA: 0s - loss: 0.1275 - accuracy: 0.9520 - precision: 0.9363 - recall: 0.9573 - auc: 0.9896\n",
      "Epoch 85: val_accuracy did not improve from 0.96987\n",
      "7485/7485 [==============================] - 58s 8ms/step - loss: 0.1275 - accuracy: 0.9520 - precision: 0.9363 - recall: 0.9573 - auc: 0.9896 - val_loss: 0.0964 - val_accuracy: 0.9660 - val_precision: 0.9704 - val_recall: 0.9525 - val_auc: 0.9944\n",
      "Epoch 86/400\n",
      "7479/7485 [============================>.] - ETA: 0s - loss: 0.1283 - accuracy: 0.9516 - precision: 0.9363 - recall: 0.9561 - auc: 0.9895\n",
      "Epoch 86: val_accuracy did not improve from 0.96987\n",
      "7485/7485 [==============================] - 61s 8ms/step - loss: 0.1282 - accuracy: 0.9516 - precision: 0.9363 - recall: 0.9561 - auc: 0.9895 - val_loss: 0.0901 - val_accuracy: 0.9690 - val_precision: 0.9575 - val_recall: 0.9736 - val_auc: 0.9945\n",
      "Epoch 87/400\n",
      "7478/7485 [============================>.] - ETA: 0s - loss: 0.1282 - accuracy: 0.9512 - precision: 0.9355 - recall: 0.9563 - auc: 0.9895\n",
      "Epoch 87: val_accuracy did not improve from 0.96987\n",
      "7485/7485 [==============================] - 61s 8ms/step - loss: 0.1282 - accuracy: 0.9512 - precision: 0.9355 - recall: 0.9563 - auc: 0.9895 - val_loss: 0.0918 - val_accuracy: 0.9679 - val_precision: 0.9633 - val_recall: 0.9646 - val_auc: 0.9943\n",
      "Epoch 88/400\n",
      "7482/7485 [============================>.] - ETA: 0s - loss: 0.1277 - accuracy: 0.9513 - precision: 0.9357 - recall: 0.9562 - auc: 0.9896\n",
      "Epoch 88: val_accuracy did not improve from 0.96987\n",
      "7485/7485 [==============================] - 61s 8ms/step - loss: 0.1277 - accuracy: 0.9513 - precision: 0.9357 - recall: 0.9562 - auc: 0.9895 - val_loss: 0.0921 - val_accuracy: 0.9686 - val_precision: 0.9532 - val_recall: 0.9773 - val_auc: 0.9943\n"
     ]
    }
   ],
   "source": [
    "#Train the model with validation, return from this section is the final model from training\n",
    "history = model.fit(train_signal, train_labels,\n",
    "          batch_size=64,\n",
    "          callbacks=callback_list, #Learning rate scheduler\n",
    "          validation_split=0.2, #To split the training more to validation\n",
    "          epochs=400,\n",
    "          verbose=1)"
   ]
  },
  {
   "cell_type": "markdown",
   "metadata": {},
   "source": [
    "Save the model"
   ]
  },
  {
   "cell_type": "code",
   "execution_count": 11,
   "metadata": {},
   "outputs": [],
   "source": [
    "Directory = \"D:/S3_project/S Picker/forconference/S_Detector1_16dense.h5\"\n",
    "model.save(Directory) "
   ]
  },
  {
   "cell_type": "markdown",
   "metadata": {},
   "source": [
    "## Evaluate the model"
   ]
  },
  {
   "cell_type": "code",
   "execution_count": 12,
   "metadata": {},
   "outputs": [
    {
     "data": {
      "image/png": "[encoded data removed]",
      "text/plain": [
       "<Figure size 432x288 with 1 Axes>"
      ]
     },
     "metadata": {
      "needs_background": "light"
     },
     "output_type": "display_data"
    }
   ],
   "source": [
    "#Visualize the history\n",
    "#Visualize the models accuracy\n",
    "plt.plot(history.history['accuracy'])\n",
    "plt.plot(history.history['val_accuracy'])\n",
    "plt.title('Model accuracy')\n",
    "plt.ylabel('Accuracy')\n",
    "plt.xlabel('Epoch')\n",
    "plt.legend(['Train', 'Val'], loc='upper left')\n",
    "plt.show()"
   ]
  },
  {
   "cell_type": "code",
   "execution_count": 13,
   "metadata": {},
   "outputs": [
    {
     "data": {
      "image/png": "[encoded data removed]",
      "text/plain": [
       "<Figure size 432x288 with 1 Axes>"
      ]
     },
     "metadata": {
      "needs_background": "light"
     },
     "output_type": "display_data"
    }
   ],
   "source": [
    "#Visualize the models loss\n",
    "plt.plot(history.history['loss'])\n",
    "plt.plot(history.history['val_loss'])\n",
    "plt.title('Model loss')\n",
    "plt.ylabel('Loss')\n",
    "plt.xlabel('Epoch')\n",
    "plt.legend(['Train', 'Val'], loc='upper right')\n",
    "plt.show()"
   ]
  },
  {
   "cell_type": "code",
   "execution_count": 14,
   "metadata": {},
   "outputs": [
    {
     "data": {
      "image/png": "[encoded data removed]",
      "text/plain": [
       "<Figure size 432x288 with 1 Axes>"
      ]
     },
     "metadata": {
      "needs_background": "light"
     },
     "output_type": "display_data"
    }
   ],
   "source": [
    "#Visualize the history\n",
    "#Visualize the models Precision\n",
    "plt.plot(history.history['precision'])\n",
    "plt.plot(history.history['val_precision'])\n",
    "plt.title('Model Precision')\n",
    "plt.ylabel('Precision')\n",
    "plt.xlabel('Epoch')\n",
    "plt.legend(['Train', 'Val'], loc='upper left')\n",
    "plt.show()"
   ]
  },
  {
   "cell_type": "code",
   "execution_count": 15,
   "metadata": {},
   "outputs": [
    {
     "data": {
      "image/png": "[encoded data removed]",
      "text/plain": [
       "<Figure size 432x288 with 1 Axes>"
      ]
     },
     "metadata": {
      "needs_background": "light"
     },
     "output_type": "display_data"
    }
   ],
   "source": [
    "#Visualize the history\n",
    "#Visualize the models recall\n",
    "plt.plot(history.history['recall'])\n",
    "plt.plot(history.history['val_recall'])\n",
    "plt.title('Model Recall')\n",
    "plt.ylabel('Recall')\n",
    "plt.xlabel('Epoch')\n",
    "plt.legend(['Train', 'Val'], loc='upper left')\n",
    "plt.show()"
   ]
  },
  {
   "cell_type": "code",
   "execution_count": 16,
   "metadata": {},
   "outputs": [
    {
     "name": "stdout",
     "output_type": "stream",
     "text": [
      "4678/4678 - 20s - loss: 0.0924 - accuracy: 0.9687 - precision: 0.9539 - recall: 0.9768 - auc: 0.9943 - 20s/epoch - 4ms/step\n",
      "Test accuracy: 0.968666672706604\n"
     ]
    }
   ],
   "source": [
    "test_loss, test_acc, test_precision, test_recall, test_auc = model.evaluate(test_signal, test_labels, verbose = 2)\n",
    "\n",
    "print('Test accuracy:', test_acc)"
   ]
  },
  {
   "cell_type": "code",
   "execution_count": null,
   "metadata": {},
   "outputs": [],
   "source": []
  }
 ],
 "metadata": {
  "kernelspec": {
   "display_name": "Python 3",
   "language": "python",
   "name": "python3"
  },
  "language_info": {
   "codemirror_mode": {
    "name": "ipython",
    "version": 3
   },
   "file_extension": ".py",
   "mimetype": "text/x-python",
   "name": "python",
   "nbconvert_exporter": "python",
   "pygments_lexer": "ipython3",
   "version": "3.8.5"
  }
 },
 "nbformat": 4,
 "nbformat_minor": 4
}
