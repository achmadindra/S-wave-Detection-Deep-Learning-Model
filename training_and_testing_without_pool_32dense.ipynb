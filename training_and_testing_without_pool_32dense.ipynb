{
 "cells": [
  {
   "cell_type": "markdown",
   "metadata": {},
   "source": [
    "## Read the Dataset"
   ]
  },
  {
   "cell_type": "code",
   "execution_count": 1,
   "metadata": {},
   "outputs": [],
   "source": [
    "import numpy as np\n",
    "\n",
    "Directory = \"D:/S3_project/S Picker/Cooked_Dataset/Dataset100Hz/signal_dataset_20F_100Hz_Scaled_01.npy\"\n",
    "signal_dataset = np.load(Directory)\n",
    "\n",
    "Directory = \"D:/S3_project/S Picker/Cooked_Dataset/Dataset100Hz/label_dataset_20F_100Hz_Scaled_01.npy\"\n",
    "label_dataset = np.load(Directory)"
   ]
  },
  {
   "cell_type": "code",
   "execution_count": 2,
   "metadata": {},
   "outputs": [
    {
     "name": "stdout",
     "output_type": "stream",
     "text": [
      "(748405, 100, 6)\n",
      "(748405,)\n"
     ]
    }
   ],
   "source": [
    "#Check the shape\n",
    "print(signal_dataset.shape)\n",
    "print(label_dataset.shape)"
   ]
  },
  {
   "cell_type": "markdown",
   "metadata": {},
   "source": [
    "## Prerocess"
   ]
  },
  {
   "cell_type": "markdown",
   "metadata": {},
   "source": [
    "Access several Attributes in Trace and Constructing Moving Window"
   ]
  },
  {
   "cell_type": "code",
   "execution_count": 3,
   "metadata": {},
   "outputs": [
    {
     "name": "stdout",
     "output_type": "stream",
     "text": [
      "The period of this data is :  0.01  Seconds\n",
      "Try the Training Windows for each  1  Seconds\n",
      "So, the Training Windows for this data is for each  100  Samples\n",
      "Also, the Moving Windows for this data is for each  4  Samples\n",
      "It means that there will be  748405  Training samples from this traces\n"
     ]
    }
   ],
   "source": [
    "#Access the attribute of period and total Samples\n",
    "Period = 0.01\n",
    "train_samples = signal_dataset.shape[0]\n",
    "df = 1/Period\n",
    "#First Calculation\n",
    "train_windows_seconds = 1 #Try training window at 4 seconds\n",
    "train_windows_samples = int(train_windows_seconds / Period)\n",
    "moving_windows_seconds = 0.04 #Try overlapping at 0,05second\n",
    "moving_windows_samples = int(moving_windows_seconds/Period)\n",
    "print(\"The period of this data is : \", Period, \" Seconds\")\n",
    "print(\"Try the Training Windows for each \", train_windows_seconds, \" Seconds\")\n",
    "print(\"So, the Training Windows for this data is for each \", train_windows_samples, \" Samples\")\n",
    "print(\"Also, the Moving Windows for this data is for each \", moving_windows_samples, \" Samples\")\n",
    "print(\"It means that there will be \", train_samples, \" Training samples from this traces\")"
   ]
  },
  {
   "cell_type": "markdown",
   "metadata": {},
   "source": [
    "Check the Label_Dataset"
   ]
  },
  {
   "cell_type": "code",
   "execution_count": 4,
   "metadata": {},
   "outputs": [
    {
     "name": "stdout",
     "output_type": "stream",
     "text": [
      "(748405,)\n",
      "(332733,)\n"
     ]
    }
   ],
   "source": [
    "print(label_dataset.shape)\n",
    "List_Found = (np.where((label_dataset) == 1))[0]\n",
    "print(List_Found.shape)\n",
    "List_Found=None"
   ]
  },
  {
   "cell_type": "code",
   "execution_count": 5,
   "metadata": {},
   "outputs": [
    {
     "name": "stdout",
     "output_type": "stream",
     "text": [
      "(748405, 100, 6)\n",
      "(748405,)\n"
     ]
    }
   ],
   "source": [
    "print(signal_dataset.shape)\n",
    "print(label_dataset.shape)"
   ]
  },
  {
   "cell_type": "markdown",
   "metadata": {},
   "source": [
    "Split the training and test Data"
   ]
  },
  {
   "cell_type": "code",
   "execution_count": 6,
   "metadata": {},
   "outputs": [],
   "source": [
    "#Using SkLearn or Tensorflow to split the data\n",
    "from sklearn.model_selection import StratifiedShuffleSplit\n",
    "\n",
    "#Using stratified split (Keeping the precentage of each class)\n",
    "split = StratifiedShuffleSplit(n_splits=1, test_size=0.2, random_state=42)\n",
    "for train_index, test_index in split.split(signal_dataset, label_dataset):\n",
    "    train_signal, test_signal = signal_dataset[train_index], signal_dataset[test_index]\n",
    "    train_labels, test_labels = label_dataset[train_index], label_dataset[test_index]"
   ]
  },
  {
   "cell_type": "markdown",
   "metadata": {},
   "source": [
    "Check The Splitting"
   ]
  },
  {
   "cell_type": "code",
   "execution_count": 7,
   "metadata": {},
   "outputs": [
    {
     "name": "stdout",
     "output_type": "stream",
     "text": [
      "(598724, 100, 6)\n",
      "(149681, 100, 6)\n",
      "(598724,)\n",
      "(149681,)\n"
     ]
    }
   ],
   "source": [
    "print(train_signal.shape)\n",
    "print(test_signal.shape)\n",
    "print(train_labels.shape)\n",
    "print(test_labels.shape)"
   ]
  },
  {
   "cell_type": "markdown",
   "metadata": {},
   "source": [
    "## Creating Deep Neural Network Model"
   ]
  },
  {
   "cell_type": "code",
   "execution_count": 8,
   "metadata": {},
   "outputs": [
    {
     "name": "stdout",
     "output_type": "stream",
     "text": [
      "Model: \"sequential\"\n",
      "_________________________________________________________________\n",
      " Layer (type)                Output Shape              Param #   \n",
      "=================================================================\n",
      " conv2d (Conv2D)             (None, 1, 100, 32)        800       \n",
      "                                                                 \n",
      " dropout (Dropout)           (None, 1, 100, 32)        0         \n",
      "                                                                 \n",
      " conv2d_1 (Conv2D)           (None, 1, 100, 32)        6176      \n",
      "                                                                 \n",
      " dropout_1 (Dropout)         (None, 1, 100, 32)        0         \n",
      "                                                                 \n",
      " flatten (Flatten)           (None, 3200)              0         \n",
      "                                                                 \n",
      " dense (Dense)               (None, 32)                102432    \n",
      "                                                                 \n",
      " dropout_2 (Dropout)         (None, 32)                0         \n",
      "                                                                 \n",
      " dense_1 (Dense)             (None, 1)                 33        \n",
      "                                                                 \n",
      "=================================================================\n",
      "Total params: 109,441\n",
      "Trainable params: 109,441\n",
      "Non-trainable params: 0\n",
      "_________________________________________________________________\n"
     ]
    }
   ],
   "source": [
    "#Creating the model for deep learning\n",
    "import tensorflow as tf\n",
    "from tensorflow import keras\n",
    "\n",
    "import numpy as np\n",
    "import matplotlib.pyplot as plt\n",
    "\n",
    "#We will use a Model from Paper Microseismic 2020 (CNN Explainable)\n",
    "#Pooling is max pooling with 2x2 window\n",
    "\n",
    "from tensorflow.keras import Sequential\n",
    "from tensorflow.keras.layers import Conv2D\n",
    "from tensorflow.keras.layers import Dropout\n",
    "from tensorflow.keras.layers import Dense,Flatten\n",
    "\n",
    "\n",
    "model = Sequential()\n",
    "#Here we will have 32 filters using a 5 window for convolutional layer \n",
    "#2 window for the pooling layer\n",
    "#Input Shape will be train_windows and 3 means the channel of the signals\n",
    "\n",
    "#height = 160F (Time sample)\n",
    "#Width = 6 (Channels)\n",
    "\n",
    "model.add(Conv2D(32, (1,4), \n",
    "          activation='relu',  padding='same', input_shape=(1, train_windows_samples, 6)))\n",
    "model.add(Dropout(0.2))\n",
    "model.add(Conv2D(32, (1,6), padding = 'same', activation=\"relu\", input_shape=(1, train_windows_samples, 6)))\n",
    "model.add(Dropout(0.2))\n",
    "#model.add(layers.MaxPooling2D((2, 1)))\n",
    "model.add(Flatten())\n",
    "model.add(Dense(32, kernel_initializer='glorot_uniform', activation='relu'))\n",
    "model.add(Dropout(0.2))\n",
    "#2 means just two outputs, between noise class or P-Wave Class\n",
    "model.add(Dense(1, activation='sigmoid'))\n",
    "\n",
    "model.summary()"
   ]
  },
  {
   "cell_type": "markdown",
   "metadata": {},
   "source": [
    "## Compile And Training the Model"
   ]
  },
  {
   "cell_type": "code",
   "execution_count": 9,
   "metadata": {},
   "outputs": [],
   "source": [
    "# Set up checkpoint to save models regularly while training\n",
    "filepath = \"D:/S3_project/S Picker/forconference/weights_with_pool_32dense.best.hdf5\"\n",
    "checkpoint_callback = tf.keras.callbacks.ModelCheckpoint(filepath, monitor='val_accuracy', verbose=1, save_best_only=True, mode='max')\n",
    "\n",
    "#If there is no improvement on val_lost by 10 epochs, it will be stopped!\n",
    "callback_list = [tf.keras.callbacks.EarlyStopping(monitor='val_loss', patience=20), checkpoint_callback]\n",
    "\n",
    "orig_train_shape = train_signal.shape\n",
    "orig_test_shape = test_signal.shape\n",
    "\n",
    "#reshapes it so we have 3D Tensor\n",
    "train_signal = train_signal.reshape((orig_train_shape[0], 1, orig_train_shape[1], orig_train_shape[2]))\n",
    "\n",
    "#reshapes it so we have 3D Tensor\n",
    "test_signal = test_signal.reshape((orig_test_shape[0], 1, orig_test_shape[1], orig_test_shape[2]))\n",
    "\n",
    "#Compile the model \n",
    "model.compile(loss='binary_crossentropy',\n",
    "              optimizer='adam',\n",
    "              metrics=['accuracy','Precision','Recall','AUC'])"
   ]
  },
  {
   "cell_type": "code",
   "execution_count": 10,
   "metadata": {},
   "outputs": [
    {
     "name": "stdout",
     "output_type": "stream",
     "text": [
      "Epoch 1/400\n",
      "7485/7485 [==============================] - ETA: 0s - loss: 0.2237 - accuracy: 0.9113 - precision: 0.9114 - recall: 0.8868 - auc: 0.9686\n",
      "Epoch 1: val_accuracy improved from -inf to 0.93692, saving model to D:/S3_project/S Picker/forconference\\weights_with_pool_32dense.best.hdf5\n",
      "7485/7485 [==============================] - 64s 8ms/step - loss: 0.2237 - accuracy: 0.9113 - precision: 0.9114 - recall: 0.8868 - auc: 0.9686 - val_loss: 0.1649 - val_accuracy: 0.9369 - val_precision: 0.9410 - val_recall: 0.9155 - val_auc: 0.9838\n",
      "Epoch 2/400\n",
      "7478/7485 [============================>.] - ETA: 0s - loss: 0.1759 - accuracy: 0.9314 - precision: 0.9284 - recall: 0.9165 - auc: 0.9806\n",
      "Epoch 2: val_accuracy improved from 0.93692 to 0.94463, saving model to D:/S3_project/S Picker/forconference\\weights_with_pool_32dense.best.hdf5\n",
      "7485/7485 [==============================] - 59s 8ms/step - loss: 0.1759 - accuracy: 0.9314 - precision: 0.9284 - recall: 0.9165 - auc: 0.9806 - val_loss: 0.1403 - val_accuracy: 0.9446 - val_precision: 0.9443 - val_recall: 0.9304 - val_auc: 0.9878\n",
      "Epoch 3/400\n",
      "7482/7485 [============================>.] - ETA: 0s - loss: 0.1599 - accuracy: 0.9383 - precision: 0.9335 - recall: 0.9274 - auc: 0.9839\n",
      "Epoch 3: val_accuracy improved from 0.94463 to 0.95321, saving model to D:/S3_project/S Picker/forconference\\weights_with_pool_32dense.best.hdf5\n",
      "7485/7485 [==============================] - 61s 8ms/step - loss: 0.1599 - accuracy: 0.9383 - precision: 0.9335 - recall: 0.9274 - auc: 0.9839 - val_loss: 0.1265 - val_accuracy: 0.9532 - val_precision: 0.9461 - val_recall: 0.9488 - val_auc: 0.9904\n",
      "Epoch 4/400\n",
      "7484/7485 [============================>.] - ETA: 0s - loss: 0.1502 - accuracy: 0.9421 - precision: 0.9358 - recall: 0.9338 - auc: 0.9857\n",
      "Epoch 4: val_accuracy improved from 0.95321 to 0.95628, saving model to D:/S3_project/S Picker/forconference\\weights_with_pool_32dense.best.hdf5\n",
      "7485/7485 [==============================] - 61s 8ms/step - loss: 0.1502 - accuracy: 0.9421 - precision: 0.9358 - recall: 0.9338 - auc: 0.9857 - val_loss: 0.1162 - val_accuracy: 0.9563 - val_precision: 0.9495 - val_recall: 0.9523 - val_auc: 0.9915\n",
      "Epoch 5/400\n",
      "7483/7485 [============================>.] - ETA: 0s - loss: 0.1436 - accuracy: 0.9454 - precision: 0.9383 - recall: 0.9389 - auc: 0.9869\n",
      "Epoch 5: val_accuracy improved from 0.95628 to 0.95981, saving model to D:/S3_project/S Picker/forconference\\weights_with_pool_32dense.best.hdf5\n",
      "7485/7485 [==============================] - 61s 8ms/step - loss: 0.1436 - accuracy: 0.9454 - precision: 0.9383 - recall: 0.9389 - auc: 0.9869 - val_loss: 0.1093 - val_accuracy: 0.9598 - val_precision: 0.9550 - val_recall: 0.9546 - val_auc: 0.9924\n",
      "Epoch 6/400\n",
      "7481/7485 [============================>.] - ETA: 0s - loss: 0.1384 - accuracy: 0.9473 - precision: 0.9399 - recall: 0.9418 - auc: 0.9878\n",
      "Epoch 6: val_accuracy improved from 0.95981 to 0.96360, saving model to D:/S3_project/S Picker/forconference\\weights_with_pool_32dense.best.hdf5\n",
      "7485/7485 [==============================] - 61s 8ms/step - loss: 0.1384 - accuracy: 0.9473 - precision: 0.9399 - recall: 0.9418 - auc: 0.9878 - val_loss: 0.1024 - val_accuracy: 0.9636 - val_precision: 0.9511 - val_recall: 0.9678 - val_auc: 0.9932\n",
      "Epoch 7/400\n",
      "7479/7485 [============================>.] - ETA: 0s - loss: 0.1338 - accuracy: 0.9494 - precision: 0.9412 - recall: 0.9452 - auc: 0.9886\n",
      "Epoch 7: val_accuracy improved from 0.96360 to 0.96409, saving model to D:/S3_project/S Picker/forconference\\weights_with_pool_32dense.best.hdf5\n",
      "7485/7485 [==============================] - 61s 8ms/step - loss: 0.1338 - accuracy: 0.9494 - precision: 0.9412 - recall: 0.9452 - auc: 0.9886 - val_loss: 0.1012 - val_accuracy: 0.9641 - val_precision: 0.9525 - val_recall: 0.9674 - val_auc: 0.9934\n",
      "Epoch 8/400\n",
      "7483/7485 [============================>.] - ETA: 0s - loss: 0.1312 - accuracy: 0.9505 - precision: 0.9419 - recall: 0.9471 - auc: 0.9889\n",
      "Epoch 8: val_accuracy improved from 0.96409 to 0.96470, saving model to D:/S3_project/S Picker/forconference\\weights_with_pool_32dense.best.hdf5\n",
      "7485/7485 [==============================] - 62s 8ms/step - loss: 0.1312 - accuracy: 0.9505 - precision: 0.9419 - recall: 0.9471 - auc: 0.9889 - val_loss: 0.1026 - val_accuracy: 0.9647 - val_precision: 0.9480 - val_recall: 0.9740 - val_auc: 0.9933\n",
      "Epoch 9/400\n",
      "7484/7485 [============================>.] - ETA: 0s - loss: 0.1279 - accuracy: 0.9520 - precision: 0.9431 - recall: 0.9492 - auc: 0.9894\n",
      "Epoch 9: val_accuracy improved from 0.96470 to 0.96663, saving model to D:/S3_project/S Picker/forconference\\weights_with_pool_32dense.best.hdf5\n",
      "7485/7485 [==============================] - 60s 8ms/step - loss: 0.1279 - accuracy: 0.9520 - precision: 0.9431 - recall: 0.9492 - auc: 0.9894 - val_loss: 0.0965 - val_accuracy: 0.9666 - val_precision: 0.9518 - val_recall: 0.9742 - val_auc: 0.9939\n",
      "Epoch 10/400\n",
      "7483/7485 [============================>.] - ETA: 0s - loss: 0.1257 - accuracy: 0.9526 - precision: 0.9433 - recall: 0.9504 - auc: 0.9897\n",
      "Epoch 10: val_accuracy improved from 0.96663 to 0.96903, saving model to D:/S3_project/S Picker/forconference\\weights_with_pool_32dense.best.hdf5\n",
      "7485/7485 [==============================] - 60s 8ms/step - loss: 0.1257 - accuracy: 0.9526 - precision: 0.9433 - recall: 0.9504 - auc: 0.9897 - val_loss: 0.0882 - val_accuracy: 0.9690 - val_precision: 0.9609 - val_recall: 0.9698 - val_auc: 0.9946\n",
      "Epoch 11/400\n",
      "7483/7485 [============================>.] - ETA: 0s - loss: 0.1236 - accuracy: 0.9535 - precision: 0.9439 - recall: 0.9520 - auc: 0.9900\n",
      "Epoch 11: val_accuracy improved from 0.96903 to 0.96935, saving model to D:/S3_project/S Picker/forconference\\weights_with_pool_32dense.best.hdf5\n",
      "7485/7485 [==============================] - 60s 8ms/step - loss: 0.1236 - accuracy: 0.9535 - precision: 0.9439 - recall: 0.9520 - auc: 0.9900 - val_loss: 0.0910 - val_accuracy: 0.9694 - val_precision: 0.9541 - val_recall: 0.9781 - val_auc: 0.9947\n",
      "Epoch 12/400\n",
      "7478/7485 [============================>.] - ETA: 0s - loss: 0.1219 - accuracy: 0.9543 - precision: 0.9448 - recall: 0.9528 - auc: 0.9903\n",
      "Epoch 12: val_accuracy did not improve from 0.96935\n",
      "7485/7485 [==============================] - 61s 8ms/step - loss: 0.1219 - accuracy: 0.9543 - precision: 0.9448 - recall: 0.9528 - auc: 0.9903 - val_loss: 0.0917 - val_accuracy: 0.9691 - val_precision: 0.9517 - val_recall: 0.9802 - val_auc: 0.9947\n",
      "Epoch 13/400\n",
      "7480/7485 [============================>.] - ETA: 0s - loss: 0.1200 - accuracy: 0.9552 - precision: 0.9454 - recall: 0.9543 - auc: 0.9906\n",
      "Epoch 13: val_accuracy improved from 0.96935 to 0.96946, saving model to D:/S3_project/S Picker/forconference\\weights_with_pool_32dense.best.hdf5\n",
      "7485/7485 [==============================] - 62s 8ms/step - loss: 0.1200 - accuracy: 0.9552 - precision: 0.9454 - recall: 0.9543 - auc: 0.9906 - val_loss: 0.0892 - val_accuracy: 0.9695 - val_precision: 0.9509 - val_recall: 0.9820 - val_auc: 0.9949\n",
      "Epoch 14/400\n",
      "7481/7485 [============================>.] - ETA: 0s - loss: 0.1185 - accuracy: 0.9559 - precision: 0.9462 - recall: 0.9551 - auc: 0.9908\n",
      "Epoch 14: val_accuracy improved from 0.96946 to 0.97127, saving model to D:/S3_project/S Picker/forconference\\weights_with_pool_32dense.best.hdf5\n",
      "7485/7485 [==============================] - 62s 8ms/step - loss: 0.1185 - accuracy: 0.9559 - precision: 0.9462 - recall: 0.9551 - auc: 0.9908 - val_loss: 0.0863 - val_accuracy: 0.9713 - val_precision: 0.9579 - val_recall: 0.9783 - val_auc: 0.9948\n",
      "Epoch 15/400\n",
      "7482/7485 [============================>.] - ETA: 0s - loss: 0.1176 - accuracy: 0.9562 - precision: 0.9465 - recall: 0.9556 - auc: 0.9909\n",
      "Epoch 15: val_accuracy improved from 0.97127 to 0.97227, saving model to D:/S3_project/S Picker/forconference\\weights_with_pool_32dense.best.hdf5\n",
      "7485/7485 [==============================] - 62s 8ms/step - loss: 0.1176 - accuracy: 0.9562 - precision: 0.9465 - recall: 0.9556 - auc: 0.9909 - val_loss: 0.0845 - val_accuracy: 0.9723 - val_precision: 0.9591 - val_recall: 0.9794 - val_auc: 0.9951\n",
      "Epoch 16/400\n"
     ]
    },
    {
     "name": "stdout",
     "output_type": "stream",
     "text": [
      "7484/7485 [============================>.] - ETA: 0s - loss: 0.1165 - accuracy: 0.9564 - precision: 0.9466 - recall: 0.9558 - auc: 0.9910\n",
      "Epoch 16: val_accuracy did not improve from 0.97227\n",
      "7485/7485 [==============================] - 61s 8ms/step - loss: 0.1165 - accuracy: 0.9564 - precision: 0.9466 - recall: 0.9558 - auc: 0.9910 - val_loss: 0.0860 - val_accuracy: 0.9718 - val_precision: 0.9601 - val_recall: 0.9773 - val_auc: 0.9951\n",
      "Epoch 17/400\n",
      "7479/7485 [============================>.] - ETA: 0s - loss: 0.1151 - accuracy: 0.9570 - precision: 0.9470 - recall: 0.9569 - auc: 0.9912\n",
      "Epoch 17: val_accuracy improved from 0.97227 to 0.97307, saving model to D:/S3_project/S Picker/forconference\\weights_with_pool_32dense.best.hdf5\n",
      "7485/7485 [==============================] - 61s 8ms/step - loss: 0.1151 - accuracy: 0.9570 - precision: 0.9470 - recall: 0.9569 - auc: 0.9912 - val_loss: 0.0808 - val_accuracy: 0.9731 - val_precision: 0.9636 - val_recall: 0.9763 - val_auc: 0.9953\n",
      "Epoch 18/400\n",
      "7480/7485 [============================>.] - ETA: 0s - loss: 0.1142 - accuracy: 0.9575 - precision: 0.9475 - recall: 0.9575 - auc: 0.9913\n",
      "Epoch 18: val_accuracy did not improve from 0.97307\n",
      "7485/7485 [==============================] - 61s 8ms/step - loss: 0.1143 - accuracy: 0.9575 - precision: 0.9475 - recall: 0.9575 - auc: 0.9913 - val_loss: 0.0889 - val_accuracy: 0.9701 - val_precision: 0.9463 - val_recall: 0.9887 - val_auc: 0.9951\n",
      "Epoch 19/400\n",
      "7483/7485 [============================>.] - ETA: 0s - loss: 0.1139 - accuracy: 0.9575 - precision: 0.9475 - recall: 0.9574 - auc: 0.9914\n",
      "Epoch 19: val_accuracy improved from 0.97307 to 0.97311, saving model to D:/S3_project/S Picker/forconference\\weights_with_pool_32dense.best.hdf5\n",
      "7485/7485 [==============================] - 61s 8ms/step - loss: 0.1139 - accuracy: 0.9575 - precision: 0.9475 - recall: 0.9574 - auc: 0.9914 - val_loss: 0.0824 - val_accuracy: 0.9731 - val_precision: 0.9563 - val_recall: 0.9845 - val_auc: 0.9953\n",
      "Epoch 20/400\n",
      "7480/7485 [============================>.] - ETA: 0s - loss: 0.1125 - accuracy: 0.9583 - precision: 0.9479 - recall: 0.9589 - auc: 0.9915\n",
      "Epoch 20: val_accuracy did not improve from 0.97311\n",
      "7485/7485 [==============================] - 61s 8ms/step - loss: 0.1125 - accuracy: 0.9583 - precision: 0.9479 - recall: 0.9589 - auc: 0.9915 - val_loss: 0.0851 - val_accuracy: 0.9718 - val_precision: 0.9542 - val_recall: 0.9837 - val_auc: 0.9951\n",
      "Epoch 21/400\n",
      "7480/7485 [============================>.] - ETA: 0s - loss: 0.1120 - accuracy: 0.9585 - precision: 0.9479 - recall: 0.9593 - auc: 0.9916\n",
      "Epoch 21: val_accuracy improved from 0.97311 to 0.97362, saving model to D:/S3_project/S Picker/forconference\\weights_with_pool_32dense.best.hdf5\n",
      "7485/7485 [==============================] - 61s 8ms/step - loss: 0.1120 - accuracy: 0.9585 - precision: 0.9479 - recall: 0.9593 - auc: 0.9916 - val_loss: 0.0780 - val_accuracy: 0.9736 - val_precision: 0.9656 - val_recall: 0.9754 - val_auc: 0.9953\n",
      "Epoch 22/400\n",
      "7482/7485 [============================>.] - ETA: 0s - loss: 0.1110 - accuracy: 0.9585 - precision: 0.9480 - recall: 0.9593 - auc: 0.9917\n",
      "Epoch 22: val_accuracy improved from 0.97362 to 0.97396, saving model to D:/S3_project/S Picker/forconference\\weights_with_pool_32dense.best.hdf5\n",
      "7485/7485 [==============================] - 61s 8ms/step - loss: 0.1110 - accuracy: 0.9585 - precision: 0.9480 - recall: 0.9594 - auc: 0.9917 - val_loss: 0.0790 - val_accuracy: 0.9740 - val_precision: 0.9603 - val_recall: 0.9820 - val_auc: 0.9954\n",
      "Epoch 23/400\n",
      "7484/7485 [============================>.] - ETA: 0s - loss: 0.1111 - accuracy: 0.9586 - precision: 0.9484 - recall: 0.9592 - auc: 0.9917\n",
      "Epoch 23: val_accuracy improved from 0.97396 to 0.97487, saving model to D:/S3_project/S Picker/forconference\\weights_with_pool_32dense.best.hdf5\n",
      "7485/7485 [==============================] - 61s 8ms/step - loss: 0.1111 - accuracy: 0.9586 - precision: 0.9484 - recall: 0.9592 - auc: 0.9917 - val_loss: 0.0797 - val_accuracy: 0.9749 - val_precision: 0.9617 - val_recall: 0.9826 - val_auc: 0.9957\n",
      "Epoch 24/400\n",
      "7483/7485 [============================>.] - ETA: 0s - loss: 0.1104 - accuracy: 0.9592 - precision: 0.9486 - recall: 0.9603 - auc: 0.9918\n",
      "Epoch 24: val_accuracy did not improve from 0.97487\n",
      "7485/7485 [==============================] - 61s 8ms/step - loss: 0.1104 - accuracy: 0.9592 - precision: 0.9486 - recall: 0.9603 - auc: 0.9918 - val_loss: 0.0782 - val_accuracy: 0.9733 - val_precision: 0.9649 - val_recall: 0.9755 - val_auc: 0.9952\n",
      "Epoch 25/400\n",
      "7484/7485 [============================>.] - ETA: 0s - loss: 0.1096 - accuracy: 0.9593 - precision: 0.9485 - recall: 0.9605 - auc: 0.9920\n",
      "Epoch 25: val_accuracy did not improve from 0.97487\n",
      "7485/7485 [==============================] - 61s 8ms/step - loss: 0.1096 - accuracy: 0.9593 - precision: 0.9485 - recall: 0.9605 - auc: 0.9920 - val_loss: 0.0778 - val_accuracy: 0.9735 - val_precision: 0.9604 - val_recall: 0.9808 - val_auc: 0.9955\n",
      "Epoch 26/400\n",
      "7479/7485 [============================>.] - ETA: 0s - loss: 0.1089 - accuracy: 0.9598 - precision: 0.9496 - recall: 0.9607 - auc: 0.9920\n",
      "Epoch 26: val_accuracy did not improve from 0.97487\n",
      "7485/7485 [==============================] - 61s 8ms/step - loss: 0.1089 - accuracy: 0.9598 - precision: 0.9495 - recall: 0.9607 - auc: 0.9920 - val_loss: 0.0824 - val_accuracy: 0.9730 - val_precision: 0.9530 - val_recall: 0.9879 - val_auc: 0.9954\n",
      "Epoch 27/400\n",
      "7485/7485 [==============================] - ETA: 0s - loss: 0.1083 - accuracy: 0.9600 - precision: 0.9497 - recall: 0.9609 - auc: 0.9921\n",
      "Epoch 27: val_accuracy did not improve from 0.97487\n",
      "7485/7485 [==============================] - 61s 8ms/step - loss: 0.1083 - accuracy: 0.9600 - precision: 0.9497 - recall: 0.9609 - auc: 0.9921 - val_loss: 0.0788 - val_accuracy: 0.9742 - val_precision: 0.9585 - val_recall: 0.9846 - val_auc: 0.9957\n",
      "Epoch 28/400\n",
      "7480/7485 [============================>.] - ETA: 0s - loss: 0.1091 - accuracy: 0.9601 - precision: 0.9493 - recall: 0.9617 - auc: 0.9920\n",
      "Epoch 28: val_accuracy did not improve from 0.97487\n",
      "7485/7485 [==============================] - 61s 8ms/step - loss: 0.1091 - accuracy: 0.9601 - precision: 0.9493 - recall: 0.9616 - auc: 0.9920 - val_loss: 0.0812 - val_accuracy: 0.9729 - val_precision: 0.9545 - val_recall: 0.9862 - val_auc: 0.9955\n",
      "Epoch 29/400\n",
      "7481/7485 [============================>.] - ETA: 0s - loss: 0.1082 - accuracy: 0.9599 - precision: 0.9492 - recall: 0.9613 - auc: 0.9921\n",
      "Epoch 29: val_accuracy did not improve from 0.97487\n",
      "7485/7485 [==============================] - 61s 8ms/step - loss: 0.1082 - accuracy: 0.9599 - precision: 0.9492 - recall: 0.9613 - auc: 0.9921 - val_loss: 0.0839 - val_accuracy: 0.9717 - val_precision: 0.9476 - val_recall: 0.9912 - val_auc: 0.9954\n",
      "Epoch 30/400\n",
      "7483/7485 [============================>.] - ETA: 0s - loss: 0.1072 - accuracy: 0.9601 - precision: 0.9496 - recall: 0.9613 - auc: 0.9923\n",
      "Epoch 30: val_accuracy did not improve from 0.97487\n",
      "7485/7485 [==============================] - 61s 8ms/step - loss: 0.1072 - accuracy: 0.9601 - precision: 0.9496 - recall: 0.9613 - auc: 0.9923 - val_loss: 0.0809 - val_accuracy: 0.9738 - val_precision: 0.9542 - val_recall: 0.9884 - val_auc: 0.9957\n",
      "Epoch 31/400\n",
      "7479/7485 [============================>.] - ETA: 0s - loss: 0.1071 - accuracy: 0.9603 - precision: 0.9495 - recall: 0.9619 - auc: 0.9922\n",
      "Epoch 31: val_accuracy did not improve from 0.97487\n",
      "7485/7485 [==============================] - 61s 8ms/step - loss: 0.1070 - accuracy: 0.9603 - precision: 0.9495 - recall: 0.9619 - auc: 0.9922 - val_loss: 0.0799 - val_accuracy: 0.9742 - val_precision: 0.9548 - val_recall: 0.9887 - val_auc: 0.9959\n",
      "Epoch 32/400\n",
      "7481/7485 [============================>.] - ETA: 0s - loss: 0.1060 - accuracy: 0.9611 - precision: 0.9504 - recall: 0.9627 - auc: 0.9924\n",
      "Epoch 32: val_accuracy did not improve from 0.97487\n",
      "7485/7485 [==============================] - 61s 8ms/step - loss: 0.1060 - accuracy: 0.9611 - precision: 0.9504 - recall: 0.9627 - auc: 0.9924 - val_loss: 0.0835 - val_accuracy: 0.9724 - val_precision: 0.9498 - val_recall: 0.9902 - val_auc: 0.9954\n",
      "Epoch 33/400\n"
     ]
    },
    {
     "name": "stdout",
     "output_type": "stream",
     "text": [
      "7478/7485 [============================>.] - ETA: 0s - loss: 0.1059 - accuracy: 0.9607 - precision: 0.9501 - recall: 0.9622 - auc: 0.9924\n",
      "Epoch 33: val_accuracy improved from 0.97487 to 0.97583, saving model to D:/S3_project/S Picker/forconference\\weights_with_pool_32dense.best.hdf5\n",
      "7485/7485 [==============================] - 62s 8ms/step - loss: 0.1059 - accuracy: 0.9607 - precision: 0.9501 - recall: 0.9622 - auc: 0.9924 - val_loss: 0.0743 - val_accuracy: 0.9758 - val_precision: 0.9606 - val_recall: 0.9861 - val_auc: 0.9960\n",
      "Epoch 34/400\n",
      "7483/7485 [============================>.] - ETA: 0s - loss: 0.1063 - accuracy: 0.9610 - precision: 0.9502 - recall: 0.9627 - auc: 0.9924\n",
      "Epoch 34: val_accuracy improved from 0.97583 to 0.97644, saving model to D:/S3_project/S Picker/forconference\\weights_with_pool_32dense.best.hdf5\n",
      "7485/7485 [==============================] - 61s 8ms/step - loss: 0.1063 - accuracy: 0.9610 - precision: 0.9502 - recall: 0.9627 - auc: 0.9924 - val_loss: 0.0749 - val_accuracy: 0.9764 - val_precision: 0.9655 - val_recall: 0.9821 - val_auc: 0.9960\n",
      "Epoch 35/400\n",
      "7484/7485 [============================>.] - ETA: 0s - loss: 0.1056 - accuracy: 0.9611 - precision: 0.9505 - recall: 0.9626 - auc: 0.9924\n",
      "Epoch 35: val_accuracy did not improve from 0.97644\n",
      "7485/7485 [==============================] - 60s 8ms/step - loss: 0.1056 - accuracy: 0.9611 - precision: 0.9505 - recall: 0.9626 - auc: 0.9924 - val_loss: 0.0775 - val_accuracy: 0.9746 - val_precision: 0.9588 - val_recall: 0.9852 - val_auc: 0.9958\n",
      "Epoch 36/400\n",
      "7478/7485 [============================>.] - ETA: 0s - loss: 0.1048 - accuracy: 0.9614 - precision: 0.9512 - recall: 0.9627 - auc: 0.9925\n",
      "Epoch 36: val_accuracy did not improve from 0.97644\n",
      "7485/7485 [==============================] - 61s 8ms/step - loss: 0.1049 - accuracy: 0.9614 - precision: 0.9511 - recall: 0.9627 - auc: 0.9925 - val_loss: 0.0778 - val_accuracy: 0.9752 - val_precision: 0.9578 - val_recall: 0.9877 - val_auc: 0.9959\n",
      "Epoch 37/400\n",
      "7479/7485 [============================>.] - ETA: 0s - loss: 0.1056 - accuracy: 0.9613 - precision: 0.9503 - recall: 0.9633 - auc: 0.9924\n",
      "Epoch 37: val_accuracy did not improve from 0.97644\n",
      "7485/7485 [==============================] - 61s 8ms/step - loss: 0.1056 - accuracy: 0.9613 - precision: 0.9503 - recall: 0.9633 - auc: 0.9924 - val_loss: 0.0776 - val_accuracy: 0.9752 - val_precision: 0.9578 - val_recall: 0.9877 - val_auc: 0.9959\n",
      "Epoch 38/400\n",
      "7480/7485 [============================>.] - ETA: 0s - loss: 0.1055 - accuracy: 0.9614 - precision: 0.9507 - recall: 0.9631 - auc: 0.9924\n",
      "Epoch 38: val_accuracy did not improve from 0.97644\n",
      "7485/7485 [==============================] - 61s 8ms/step - loss: 0.1055 - accuracy: 0.9614 - precision: 0.9507 - recall: 0.9631 - auc: 0.9924 - val_loss: 0.0736 - val_accuracy: 0.9761 - val_precision: 0.9595 - val_recall: 0.9879 - val_auc: 0.9960\n",
      "Epoch 39/400\n",
      "7482/7485 [============================>.] - ETA: 0s - loss: 0.1055 - accuracy: 0.9612 - precision: 0.9502 - recall: 0.9632 - auc: 0.9924\n",
      "Epoch 39: val_accuracy did not improve from 0.97644\n",
      "7485/7485 [==============================] - 61s 8ms/step - loss: 0.1055 - accuracy: 0.9612 - precision: 0.9502 - recall: 0.9632 - auc: 0.9925 - val_loss: 0.0760 - val_accuracy: 0.9753 - val_precision: 0.9587 - val_recall: 0.9869 - val_auc: 0.9959\n",
      "Epoch 40/400\n",
      "7482/7485 [============================>.] - ETA: 0s - loss: 0.1045 - accuracy: 0.9616 - precision: 0.9508 - recall: 0.9635 - auc: 0.9925\n",
      "Epoch 40: val_accuracy did not improve from 0.97644\n",
      "7485/7485 [==============================] - 61s 8ms/step - loss: 0.1045 - accuracy: 0.9616 - precision: 0.9508 - recall: 0.9635 - auc: 0.9926 - val_loss: 0.0724 - val_accuracy: 0.9760 - val_precision: 0.9690 - val_recall: 0.9773 - val_auc: 0.9957\n",
      "Epoch 41/400\n",
      "7485/7485 [==============================] - ETA: 0s - loss: 0.1050 - accuracy: 0.9616 - precision: 0.9507 - recall: 0.9635 - auc: 0.9924\n",
      "Epoch 41: val_accuracy did not improve from 0.97644\n",
      "7485/7485 [==============================] - 61s 8ms/step - loss: 0.1050 - accuracy: 0.9616 - precision: 0.9507 - recall: 0.9635 - auc: 0.9924 - val_loss: 0.0733 - val_accuracy: 0.9760 - val_precision: 0.9596 - val_recall: 0.9876 - val_auc: 0.9959\n",
      "Epoch 42/400\n",
      "7480/7485 [============================>.] - ETA: 0s - loss: 0.1038 - accuracy: 0.9618 - precision: 0.9510 - recall: 0.9638 - auc: 0.9927\n",
      "Epoch 42: val_accuracy did not improve from 0.97644\n",
      "7485/7485 [==============================] - 62s 8ms/step - loss: 0.1039 - accuracy: 0.9618 - precision: 0.9509 - recall: 0.9638 - auc: 0.9927 - val_loss: 0.0739 - val_accuracy: 0.9755 - val_precision: 0.9599 - val_recall: 0.9860 - val_auc: 0.9957\n",
      "Epoch 43/400\n",
      "7480/7485 [============================>.] - ETA: 0s - loss: 0.1046 - accuracy: 0.9618 - precision: 0.9509 - recall: 0.9638 - auc: 0.9925\n",
      "Epoch 43: val_accuracy did not improve from 0.97644\n",
      "7485/7485 [==============================] - 62s 8ms/step - loss: 0.1047 - accuracy: 0.9618 - precision: 0.9509 - recall: 0.9637 - auc: 0.9925 - val_loss: 0.0747 - val_accuracy: 0.9758 - val_precision: 0.9583 - val_recall: 0.9886 - val_auc: 0.9960\n",
      "Epoch 44/400\n",
      "7480/7485 [============================>.] - ETA: 0s - loss: 0.1036 - accuracy: 0.9619 - precision: 0.9514 - recall: 0.9635 - auc: 0.9927\n",
      "Epoch 44: val_accuracy did not improve from 0.97644\n",
      "7485/7485 [==============================] - 61s 8ms/step - loss: 0.1036 - accuracy: 0.9619 - precision: 0.9513 - recall: 0.9635 - auc: 0.9927 - val_loss: 0.0810 - val_accuracy: 0.9733 - val_precision: 0.9510 - val_recall: 0.9909 - val_auc: 0.9957\n",
      "Epoch 45/400\n",
      "7484/7485 [============================>.] - ETA: 0s - loss: 0.1036 - accuracy: 0.9618 - precision: 0.9512 - recall: 0.9635 - auc: 0.9926\n",
      "Epoch 45: val_accuracy did not improve from 0.97644\n",
      "7485/7485 [==============================] - 61s 8ms/step - loss: 0.1036 - accuracy: 0.9618 - precision: 0.9512 - recall: 0.9635 - auc: 0.9926 - val_loss: 0.0770 - val_accuracy: 0.9744 - val_precision: 0.9528 - val_recall: 0.9914 - val_auc: 0.9960\n",
      "Epoch 46/400\n",
      "7482/7485 [============================>.] - ETA: 0s - loss: 0.1033 - accuracy: 0.9620 - precision: 0.9510 - recall: 0.9642 - auc: 0.9928\n",
      "Epoch 46: val_accuracy did not improve from 0.97644\n",
      "7485/7485 [==============================] - 61s 8ms/step - loss: 0.1033 - accuracy: 0.9620 - precision: 0.9510 - recall: 0.9642 - auc: 0.9928 - val_loss: 0.0727 - val_accuracy: 0.9759 - val_precision: 0.9603 - val_recall: 0.9866 - val_auc: 0.9959\n",
      "Epoch 47/400\n",
      "7479/7485 [============================>.] - ETA: 0s - loss: 0.1032 - accuracy: 0.9620 - precision: 0.9511 - recall: 0.9641 - auc: 0.9927\n",
      "Epoch 47: val_accuracy improved from 0.97644 to 0.97693, saving model to D:/S3_project/S Picker/forconference\\weights_with_pool_32dense.best.hdf5\n",
      "7485/7485 [==============================] - 62s 8ms/step - loss: 0.1032 - accuracy: 0.9620 - precision: 0.9511 - recall: 0.9641 - auc: 0.9927 - val_loss: 0.0706 - val_accuracy: 0.9769 - val_precision: 0.9642 - val_recall: 0.9847 - val_auc: 0.9960\n",
      "Epoch 48/400\n",
      "7478/7485 [============================>.] - ETA: 0s - loss: 0.1029 - accuracy: 0.9623 - precision: 0.9513 - recall: 0.9647 - auc: 0.9927\n",
      "Epoch 48: val_accuracy improved from 0.97693 to 0.97744, saving model to D:/S3_project/S Picker/forconference\\weights_with_pool_32dense.best.hdf5\n",
      "7485/7485 [==============================] - 62s 8ms/step - loss: 0.1029 - accuracy: 0.9623 - precision: 0.9513 - recall: 0.9646 - auc: 0.9927 - val_loss: 0.0700 - val_accuracy: 0.9774 - val_precision: 0.9650 - val_recall: 0.9849 - val_auc: 0.9962\n",
      "Epoch 49/400\n",
      "7484/7485 [============================>.] - ETA: 0s - loss: 0.1031 - accuracy: 0.9623 - precision: 0.9514 - recall: 0.9645 - auc: 0.9927\n",
      "Epoch 49: val_accuracy did not improve from 0.97744\n",
      "7485/7485 [==============================] - 61s 8ms/step - loss: 0.1031 - accuracy: 0.9623 - precision: 0.9514 - recall: 0.9645 - auc: 0.9927 - val_loss: 0.0729 - val_accuracy: 0.9763 - val_precision: 0.9591 - val_recall: 0.9888 - val_auc: 0.9959\n",
      "Epoch 50/400\n",
      "7483/7485 [============================>.] - ETA: 0s - loss: 0.1019 - accuracy: 0.9627 - precision: 0.9518 - recall: 0.9650 - auc: 0.9928\n",
      "Epoch 50: val_accuracy did not improve from 0.97744\n"
     ]
    },
    {
     "name": "stdout",
     "output_type": "stream",
     "text": [
      "7485/7485 [==============================] - 61s 8ms/step - loss: 0.1019 - accuracy: 0.9627 - precision: 0.9518 - recall: 0.9650 - auc: 0.9928 - val_loss: 0.0718 - val_accuracy: 0.9769 - val_precision: 0.9621 - val_recall: 0.9870 - val_auc: 0.9958\n",
      "Epoch 51/400\n",
      "7484/7485 [============================>.] - ETA: 0s - loss: 0.1035 - accuracy: 0.9620 - precision: 0.9510 - recall: 0.9642 - auc: 0.9927\n",
      "Epoch 51: val_accuracy did not improve from 0.97744\n",
      "7485/7485 [==============================] - 61s 8ms/step - loss: 0.1035 - accuracy: 0.9620 - precision: 0.9510 - recall: 0.9642 - auc: 0.9927 - val_loss: 0.0730 - val_accuracy: 0.9761 - val_precision: 0.9632 - val_recall: 0.9839 - val_auc: 0.9961\n",
      "Epoch 52/400\n",
      "7481/7485 [============================>.] - ETA: 0s - loss: 0.1026 - accuracy: 0.9624 - precision: 0.9516 - recall: 0.9645 - auc: 0.9928\n",
      "Epoch 52: val_accuracy did not improve from 0.97744\n",
      "7485/7485 [==============================] - 61s 8ms/step - loss: 0.1027 - accuracy: 0.9624 - precision: 0.9515 - recall: 0.9645 - auc: 0.9928 - val_loss: 0.0780 - val_accuracy: 0.9752 - val_precision: 0.9554 - val_recall: 0.9905 - val_auc: 0.9958\n",
      "Epoch 53/400\n",
      "7483/7485 [============================>.] - ETA: 0s - loss: 0.1022 - accuracy: 0.9625 - precision: 0.9521 - recall: 0.9642 - auc: 0.9928\n",
      "Epoch 53: val_accuracy did not improve from 0.97744\n",
      "7485/7485 [==============================] - 61s 8ms/step - loss: 0.1022 - accuracy: 0.9625 - precision: 0.9521 - recall: 0.9642 - auc: 0.9928 - val_loss: 0.0766 - val_accuracy: 0.9747 - val_precision: 0.9548 - val_recall: 0.9899 - val_auc: 0.9959\n",
      "Epoch 54/400\n",
      "7480/7485 [============================>.] - ETA: 0s - loss: 0.1019 - accuracy: 0.9627 - precision: 0.9517 - recall: 0.9651 - auc: 0.9928\n",
      "Epoch 54: val_accuracy did not improve from 0.97744\n",
      "7485/7485 [==============================] - 61s 8ms/step - loss: 0.1020 - accuracy: 0.9627 - precision: 0.9517 - recall: 0.9651 - auc: 0.9928 - val_loss: 0.0734 - val_accuracy: 0.9772 - val_precision: 0.9628 - val_recall: 0.9868 - val_auc: 0.9960\n",
      "Epoch 55/400\n",
      "7479/7485 [============================>.] - ETA: 0s - loss: 0.1017 - accuracy: 0.9626 - precision: 0.9516 - recall: 0.9649 - auc: 0.9929\n",
      "Epoch 55: val_accuracy improved from 0.97744 to 0.97765, saving model to D:/S3_project/S Picker/forconference\\weights_with_pool_32dense.best.hdf5\n",
      "7485/7485 [==============================] - 61s 8ms/step - loss: 0.1017 - accuracy: 0.9626 - precision: 0.9516 - recall: 0.9649 - auc: 0.9929 - val_loss: 0.0692 - val_accuracy: 0.9777 - val_precision: 0.9642 - val_recall: 0.9864 - val_auc: 0.9961\n",
      "Epoch 56/400\n",
      "7482/7485 [============================>.] - ETA: 0s - loss: 0.1017 - accuracy: 0.9625 - precision: 0.9516 - recall: 0.9647 - auc: 0.9929\n",
      "Epoch 56: val_accuracy did not improve from 0.97765\n",
      "7485/7485 [==============================] - 59s 8ms/step - loss: 0.1017 - accuracy: 0.9625 - precision: 0.9517 - recall: 0.9647 - auc: 0.9929 - val_loss: 0.0725 - val_accuracy: 0.9770 - val_precision: 0.9615 - val_recall: 0.9879 - val_auc: 0.9959\n",
      "Epoch 57/400\n",
      "7485/7485 [==============================] - ETA: 0s - loss: 0.1018 - accuracy: 0.9628 - precision: 0.9519 - recall: 0.9652 - auc: 0.9929\n",
      "Epoch 57: val_accuracy did not improve from 0.97765\n",
      "7485/7485 [==============================] - 61s 8ms/step - loss: 0.1018 - accuracy: 0.9628 - precision: 0.9519 - recall: 0.9652 - auc: 0.9929 - val_loss: 0.0769 - val_accuracy: 0.9749 - val_precision: 0.9552 - val_recall: 0.9899 - val_auc: 0.9958\n",
      "Epoch 58/400\n",
      "7483/7485 [============================>.] - ETA: 0s - loss: 0.1016 - accuracy: 0.9627 - precision: 0.9517 - recall: 0.9651 - auc: 0.9929\n",
      "Epoch 58: val_accuracy improved from 0.97765 to 0.97834, saving model to D:/S3_project/S Picker/forconference\\weights_with_pool_32dense.best.hdf5\n",
      "7485/7485 [==============================] - 62s 8ms/step - loss: 0.1015 - accuracy: 0.9627 - precision: 0.9517 - recall: 0.9651 - auc: 0.9929 - val_loss: 0.0686 - val_accuracy: 0.9783 - val_precision: 0.9686 - val_recall: 0.9832 - val_auc: 0.9962\n",
      "Epoch 59/400\n",
      "7482/7485 [============================>.] - ETA: 0s - loss: 0.1019 - accuracy: 0.9624 - precision: 0.9518 - recall: 0.9644 - auc: 0.9929\n",
      "Epoch 59: val_accuracy did not improve from 0.97834\n",
      "7485/7485 [==============================] - 61s 8ms/step - loss: 0.1019 - accuracy: 0.9624 - precision: 0.9518 - recall: 0.9644 - auc: 0.9929 - val_loss: 0.0691 - val_accuracy: 0.9778 - val_precision: 0.9634 - val_recall: 0.9876 - val_auc: 0.9962\n",
      "Epoch 60/400\n",
      "7480/7485 [============================>.] - ETA: 0s - loss: 0.1017 - accuracy: 0.9627 - precision: 0.9517 - recall: 0.9651 - auc: 0.9929\n",
      "Epoch 60: val_accuracy did not improve from 0.97834\n",
      "7485/7485 [==============================] - 62s 8ms/step - loss: 0.1017 - accuracy: 0.9627 - precision: 0.9517 - recall: 0.9651 - auc: 0.9929 - val_loss: 0.0735 - val_accuracy: 0.9758 - val_precision: 0.9581 - val_recall: 0.9888 - val_auc: 0.9959\n",
      "Epoch 61/400\n",
      "7481/7485 [============================>.] - ETA: 0s - loss: 0.1015 - accuracy: 0.9631 - precision: 0.9517 - recall: 0.9660 - auc: 0.9928\n",
      "Epoch 61: val_accuracy improved from 0.97834 to 0.97845, saving model to D:/S3_project/S Picker/forconference\\weights_with_pool_32dense.best.hdf5\n",
      "7485/7485 [==============================] - 62s 8ms/step - loss: 0.1015 - accuracy: 0.9631 - precision: 0.9517 - recall: 0.9660 - auc: 0.9928 - val_loss: 0.0692 - val_accuracy: 0.9784 - val_precision: 0.9662 - val_recall: 0.9860 - val_auc: 0.9963\n",
      "Epoch 62/400\n",
      "7482/7485 [============================>.] - ETA: 0s - loss: 0.1020 - accuracy: 0.9628 - precision: 0.9514 - recall: 0.9657 - auc: 0.9928\n",
      "Epoch 62: val_accuracy did not improve from 0.97845\n",
      "7485/7485 [==============================] - 61s 8ms/step - loss: 0.1020 - accuracy: 0.9628 - precision: 0.9514 - recall: 0.9657 - auc: 0.9928 - val_loss: 0.0726 - val_accuracy: 0.9767 - val_precision: 0.9610 - val_recall: 0.9877 - val_auc: 0.9963\n",
      "Epoch 63/400\n",
      "7479/7485 [============================>.] - ETA: 0s - loss: 0.1014 - accuracy: 0.9630 - precision: 0.9520 - recall: 0.9654 - auc: 0.9929\n",
      "Epoch 63: val_accuracy did not improve from 0.97845\n",
      "7485/7485 [==============================] - 62s 8ms/step - loss: 0.1014 - accuracy: 0.9630 - precision: 0.9520 - recall: 0.9654 - auc: 0.9929 - val_loss: 0.0700 - val_accuracy: 0.9773 - val_precision: 0.9627 - val_recall: 0.9873 - val_auc: 0.9962\n",
      "Epoch 64/400\n",
      "7483/7485 [============================>.] - ETA: 0s - loss: 0.1011 - accuracy: 0.9628 - precision: 0.9516 - recall: 0.9653 - auc: 0.9930\n",
      "Epoch 64: val_accuracy did not improve from 0.97845\n",
      "7485/7485 [==============================] - 62s 8ms/step - loss: 0.1010 - accuracy: 0.9628 - precision: 0.9516 - recall: 0.9653 - auc: 0.9930 - val_loss: 0.0703 - val_accuracy: 0.9772 - val_precision: 0.9612 - val_recall: 0.9887 - val_auc: 0.9962\n",
      "Epoch 65/400\n",
      "7479/7485 [============================>.] - ETA: 0s - loss: 0.1005 - accuracy: 0.9633 - precision: 0.9522 - recall: 0.9658 - auc: 0.9930\n",
      "Epoch 65: val_accuracy did not improve from 0.97845\n",
      "7485/7485 [==============================] - 61s 8ms/step - loss: 0.1005 - accuracy: 0.9633 - precision: 0.9523 - recall: 0.9658 - auc: 0.9930 - val_loss: 0.0704 - val_accuracy: 0.9772 - val_precision: 0.9600 - val_recall: 0.9900 - val_auc: 0.9962\n",
      "Epoch 66/400\n",
      "7482/7485 [============================>.] - ETA: 0s - loss: 0.1003 - accuracy: 0.9634 - precision: 0.9527 - recall: 0.9656 - auc: 0.9931\n",
      "Epoch 66: val_accuracy did not improve from 0.97845\n",
      "7485/7485 [==============================] - 62s 8ms/step - loss: 0.1003 - accuracy: 0.9634 - precision: 0.9527 - recall: 0.9656 - auc: 0.9931 - val_loss: 0.0815 - val_accuracy: 0.9725 - val_precision: 0.9489 - val_recall: 0.9917 - val_auc: 0.9957\n",
      "Epoch 67/400\n",
      "7482/7485 [============================>.] - ETA: 0s - loss: 0.1012 - accuracy: 0.9629 - precision: 0.9515 - recall: 0.9657 - auc: 0.9929\n",
      "Epoch 67: val_accuracy did not improve from 0.97845\n",
      "7485/7485 [==============================] - 62s 8ms/step - loss: 0.1012 - accuracy: 0.9629 - precision: 0.9515 - recall: 0.9657 - auc: 0.9929 - val_loss: 0.0698 - val_accuracy: 0.9768 - val_precision: 0.9600 - val_recall: 0.9890 - val_auc: 0.9961\n"
     ]
    },
    {
     "name": "stdout",
     "output_type": "stream",
     "text": [
      "Epoch 68/400\n",
      "7483/7485 [============================>.] - ETA: 0s - loss: 0.1007 - accuracy: 0.9631 - precision: 0.9518 - recall: 0.9658 - auc: 0.9931\n",
      "Epoch 68: val_accuracy did not improve from 0.97845\n",
      "7485/7485 [==============================] - 61s 8ms/step - loss: 0.1007 - accuracy: 0.9631 - precision: 0.9518 - recall: 0.9658 - auc: 0.9931 - val_loss: 0.0765 - val_accuracy: 0.9749 - val_precision: 0.9539 - val_recall: 0.9915 - val_auc: 0.9961\n",
      "Epoch 69/400\n",
      "7480/7485 [============================>.] - ETA: 0s - loss: 0.1011 - accuracy: 0.9633 - precision: 0.9518 - recall: 0.9662 - auc: 0.9929\n",
      "Epoch 69: val_accuracy did not improve from 0.97845\n",
      "7485/7485 [==============================] - 61s 8ms/step - loss: 0.1011 - accuracy: 0.9633 - precision: 0.9519 - recall: 0.9662 - auc: 0.9929 - val_loss: 0.0693 - val_accuracy: 0.9773 - val_precision: 0.9632 - val_recall: 0.9866 - val_auc: 0.9964\n",
      "Epoch 70/400\n",
      "7478/7485 [============================>.] - ETA: 0s - loss: 0.1004 - accuracy: 0.9633 - precision: 0.9523 - recall: 0.9658 - auc: 0.9931\n",
      "Epoch 70: val_accuracy did not improve from 0.97845\n",
      "7485/7485 [==============================] - 61s 8ms/step - loss: 0.1004 - accuracy: 0.9633 - precision: 0.9523 - recall: 0.9658 - auc: 0.9931 - val_loss: 0.0720 - val_accuracy: 0.9769 - val_precision: 0.9591 - val_recall: 0.9902 - val_auc: 0.9963\n",
      "Epoch 71/400\n",
      "7478/7485 [============================>.] - ETA: 0s - loss: 0.1002 - accuracy: 0.9633 - precision: 0.9520 - recall: 0.9661 - auc: 0.9931\n",
      "Epoch 71: val_accuracy did not improve from 0.97845\n",
      "7485/7485 [==============================] - 61s 8ms/step - loss: 0.1002 - accuracy: 0.9633 - precision: 0.9520 - recall: 0.9661 - auc: 0.9931 - val_loss: 0.0686 - val_accuracy: 0.9784 - val_precision: 0.9671 - val_recall: 0.9850 - val_auc: 0.9963\n",
      "Epoch 72/400\n",
      "7478/7485 [============================>.] - ETA: 0s - loss: 0.0999 - accuracy: 0.9642 - precision: 0.9531 - recall: 0.9669 - auc: 0.9931\n",
      "Epoch 72: val_accuracy did not improve from 0.97845\n",
      "7485/7485 [==============================] - 61s 8ms/step - loss: 0.0998 - accuracy: 0.9642 - precision: 0.9531 - recall: 0.9669 - auc: 0.9931 - val_loss: 0.0721 - val_accuracy: 0.9763 - val_precision: 0.9576 - val_recall: 0.9906 - val_auc: 0.9962\n",
      "Epoch 73/400\n",
      "7480/7485 [============================>.] - ETA: 0s - loss: 0.1004 - accuracy: 0.9634 - precision: 0.9521 - recall: 0.9664 - auc: 0.9930\n",
      "Epoch 73: val_accuracy did not improve from 0.97845\n",
      "7485/7485 [==============================] - 61s 8ms/step - loss: 0.1004 - accuracy: 0.9634 - precision: 0.9521 - recall: 0.9664 - auc: 0.9930 - val_loss: 0.0689 - val_accuracy: 0.9782 - val_precision: 0.9642 - val_recall: 0.9875 - val_auc: 0.9964\n",
      "Epoch 74/400\n",
      "7480/7485 [============================>.] - ETA: 0s - loss: 0.0999 - accuracy: 0.9634 - precision: 0.9522 - recall: 0.9661 - auc: 0.9931\n",
      "Epoch 74: val_accuracy did not improve from 0.97845\n",
      "7485/7485 [==============================] - 61s 8ms/step - loss: 0.0999 - accuracy: 0.9634 - precision: 0.9522 - recall: 0.9661 - auc: 0.9931 - val_loss: 0.0712 - val_accuracy: 0.9770 - val_precision: 0.9608 - val_recall: 0.9886 - val_auc: 0.9961\n",
      "Epoch 75/400\n",
      "7484/7485 [============================>.] - ETA: 0s - loss: 0.0992 - accuracy: 0.9637 - precision: 0.9526 - recall: 0.9665 - auc: 0.9932\n",
      "Epoch 75: val_accuracy improved from 0.97845 to 0.97851, saving model to D:/S3_project/S Picker/forconference\\weights_with_pool_32dense.best.hdf5\n",
      "7485/7485 [==============================] - 62s 8ms/step - loss: 0.0992 - accuracy: 0.9637 - precision: 0.9526 - recall: 0.9665 - auc: 0.9932 - val_loss: 0.0701 - val_accuracy: 0.9785 - val_precision: 0.9656 - val_recall: 0.9868 - val_auc: 0.9963\n",
      "Epoch 76/400\n",
      "7482/7485 [============================>.] - ETA: 0s - loss: 0.0995 - accuracy: 0.9637 - precision: 0.9524 - recall: 0.9666 - auc: 0.9931\n",
      "Epoch 76: val_accuracy did not improve from 0.97851\n",
      "7485/7485 [==============================] - 62s 8ms/step - loss: 0.0995 - accuracy: 0.9637 - precision: 0.9524 - recall: 0.9666 - auc: 0.9931 - val_loss: 0.0775 - val_accuracy: 0.9733 - val_precision: 0.9496 - val_recall: 0.9927 - val_auc: 0.9961\n",
      "Epoch 77/400\n",
      "7483/7485 [============================>.] - ETA: 0s - loss: 0.1001 - accuracy: 0.9635 - precision: 0.9522 - recall: 0.9664 - auc: 0.9930\n",
      "Epoch 77: val_accuracy did not improve from 0.97851\n",
      "7485/7485 [==============================] - 62s 8ms/step - loss: 0.1001 - accuracy: 0.9635 - precision: 0.9522 - recall: 0.9664 - auc: 0.9930 - val_loss: 0.0751 - val_accuracy: 0.9752 - val_precision: 0.9542 - val_recall: 0.9918 - val_auc: 0.9960\n",
      "Epoch 78/400\n",
      "7484/7485 [============================>.] - ETA: 0s - loss: 0.0995 - accuracy: 0.9639 - precision: 0.9527 - recall: 0.9668 - auc: 0.9931\n",
      "Epoch 78: val_accuracy did not improve from 0.97851\n",
      "7485/7485 [==============================] - 62s 8ms/step - loss: 0.0995 - accuracy: 0.9639 - precision: 0.9527 - recall: 0.9668 - auc: 0.9931 - val_loss: 0.0731 - val_accuracy: 0.9764 - val_precision: 0.9571 - val_recall: 0.9915 - val_auc: 0.9963\n"
     ]
    }
   ],
   "source": [
    "#Train the model with validation, return from this section is the final model from training\n",
    "history = model.fit(train_signal, train_labels,\n",
    "          batch_size=64,\n",
    "          callbacks=callback_list, #Learning rate scheduler\n",
    "          validation_split=0.2, #To split the training more to validation\n",
    "          epochs=400,\n",
    "          verbose=1)"
   ]
  },
  {
   "cell_type": "markdown",
   "metadata": {},
   "source": [
    "Save the model"
   ]
  },
  {
   "cell_type": "code",
   "execution_count": 11,
   "metadata": {},
   "outputs": [],
   "source": [
    "Directory = \"D:/S3_project/S Picker/forconference/S_Detector1_32dense.h5\"\n",
    "model.save(Directory) "
   ]
  },
  {
   "cell_type": "markdown",
   "metadata": {},
   "source": [
    "## Evaluate the model"
   ]
  },
  {
   "cell_type": "code",
   "execution_count": 12,
   "metadata": {},
   "outputs": [
    {
     "data": {
      "image/png": "[encoded data removed]",
      "text/plain": [
       "<Figure size 432x288 with 1 Axes>"
      ]
     },
     "metadata": {
      "needs_background": "light"
     },
     "output_type": "display_data"
    }
   ],
   "source": [
    "#Visualize the history\n",
    "#Visualize the models accuracy\n",
    "plt.plot(history.history['accuracy'])\n",
    "plt.plot(history.history['val_accuracy'])\n",
    "plt.title('Model accuracy')\n",
    "plt.ylabel('Accuracy')\n",
    "plt.xlabel('Epoch')\n",
    "plt.legend(['Train', 'Val'], loc='upper left')\n",
    "plt.show()"
   ]
  },
  {
   "cell_type": "code",
   "execution_count": 13,
   "metadata": {},
   "outputs": [
    {
     "data": {
      "image/png": "[encoded data removed]",
      "text/plain": [
       "<Figure size 432x288 with 1 Axes>"
      ]
     },
     "metadata": {
      "needs_background": "light"
     },
     "output_type": "display_data"
    }
   ],
   "source": [
    "#Visualize the models loss\n",
    "plt.plot(history.history['loss'])\n",
    "plt.plot(history.history['val_loss'])\n",
    "plt.title('Model loss')\n",
    "plt.ylabel('Loss')\n",
    "plt.xlabel('Epoch')\n",
    "plt.legend(['Train', 'Val'], loc='upper right')\n",
    "plt.show()"
   ]
  },
  {
   "cell_type": "code",
   "execution_count": 14,
   "metadata": {},
   "outputs": [
    {
     "data": {
      "image/png": "[encoded data removed]",
      "text/plain": [
       "<Figure size 432x288 with 1 Axes>"
      ]
     },
     "metadata": {
      "needs_background": "light"
     },
     "output_type": "display_data"
    }
   ],
   "source": [
    "#Visualize the history\n",
    "#Visualize the models Precision\n",
    "plt.plot(history.history['precision'])\n",
    "plt.plot(history.history['val_precision'])\n",
    "plt.title('Model Precision')\n",
    "plt.ylabel('Precision')\n",
    "plt.xlabel('Epoch')\n",
    "plt.legend(['Train', 'Val'], loc='upper left')\n",
    "plt.show()"
   ]
  },
  {
   "cell_type": "code",
   "execution_count": 15,
   "metadata": {},
   "outputs": [
    {
     "data": {
      "image/png": "[encoded data removed]",
      "text/plain": [
       "<Figure size 432x288 with 1 Axes>"
      ]
     },
     "metadata": {
      "needs_background": "light"
     },
     "output_type": "display_data"
    }
   ],
   "source": [
    "#Visualize the history\n",
    "#Visualize the models recall\n",
    "plt.plot(history.history['recall'])\n",
    "plt.plot(history.history['val_recall'])\n",
    "plt.title('Model Recall')\n",
    "plt.ylabel('Recall')\n",
    "plt.xlabel('Epoch')\n",
    "plt.legend(['Train', 'Val'], loc='upper left')\n",
    "plt.show()"
   ]
  },
  {
   "cell_type": "code",
   "execution_count": 16,
   "metadata": {},
   "outputs": [
    {
     "name": "stdout",
     "output_type": "stream",
     "text": [
      "4678/4678 - 19s - loss: 0.0730 - accuracy: 0.9768 - precision: 0.9578 - recall: 0.9915 - auc: 0.9962 - 19s/epoch - 4ms/step\n",
      "Test accuracy: 0.9767839312553406\n"
     ]
    }
   ],
   "source": [
    "test_loss, test_acc, test_precision, test_recall, test_auc = model.evaluate(test_signal, test_labels, verbose = 2)\n",
    "\n",
    "print('Test accuracy:', test_acc)"
   ]
  },
  {
   "cell_type": "code",
   "execution_count": null,
   "metadata": {},
   "outputs": [],
   "source": []
  }
 ],
 "metadata": {
  "kernelspec": {
   "display_name": "Python 3",
   "language": "python",
   "name": "python3"
  },
  "language_info": {
   "codemirror_mode": {
    "name": "ipython",
    "version": 3
   },
   "file_extension": ".py",
   "mimetype": "text/x-python",
   "name": "python",
   "nbconvert_exporter": "python",
   "pygments_lexer": "ipython3",
   "version": "3.8.5"
  }
 },
 "nbformat": 4,
 "nbformat_minor": 4
}
