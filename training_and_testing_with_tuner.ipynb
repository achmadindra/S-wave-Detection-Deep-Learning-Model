{
 "cells": [
  {
   "cell_type": "markdown",
   "metadata": {},
   "source": [
    "## Read the Dataset"
   ]
  },
  {
   "cell_type": "code",
   "execution_count": 1,
   "metadata": {},
   "outputs": [],
   "source": [
    "import numpy as np\n",
    "\n",
    "Directory = \"D:/S3_project/S Picker/Cooked_Dataset/Dataset100Hz/signal_dataset_20F_100Hz_Scaled_01.npy\"\n",
    "signal_dataset = np.load(Directory)\n",
    "\n",
    "Directory = \"D:/S3_project/S Picker/Cooked_Dataset/Dataset100Hz/label_dataset_20F_100Hz_Scaled_01.npy\"\n",
    "label_dataset = np.load(Directory)"
   ]
  },
  {
   "cell_type": "code",
   "execution_count": 2,
   "metadata": {},
   "outputs": [
    {
     "name": "stdout",
     "output_type": "stream",
     "text": [
      "(748405, 100, 6)\n",
      "(748405,)\n"
     ]
    }
   ],
   "source": [
    "#Check the shape\n",
    "print(signal_dataset.shape)\n",
    "print(label_dataset.shape)"
   ]
  },
  {
   "cell_type": "markdown",
   "metadata": {},
   "source": [
    "## Prerocess"
   ]
  },
  {
   "cell_type": "markdown",
   "metadata": {},
   "source": [
    "Access several Attributes in Trace and Constructing Moving Window"
   ]
  },
  {
   "cell_type": "code",
   "execution_count": 3,
   "metadata": {},
   "outputs": [
    {
     "name": "stdout",
     "output_type": "stream",
     "text": [
      "The period of this data is :  0.01  Seconds\n",
      "Try the Training Windows for each  1  Seconds\n",
      "So, the Training Windows for this data is for each  100  Samples\n",
      "Also, the Moving Windows for this data is for each  4  Samples\n",
      "It means that there will be  748405  Training samples from this traces\n"
     ]
    }
   ],
   "source": [
    "#Access the attribute of period and total Samples\n",
    "Period = 0.01\n",
    "train_samples = signal_dataset.shape[0]\n",
    "df = 1/Period\n",
    "#First Calculation\n",
    "train_windows_seconds = 1 #Try training window at 4 seconds\n",
    "train_windows_samples = int(train_windows_seconds / Period)\n",
    "moving_windows_seconds = 0.04 #Try overlapping at 0,05second\n",
    "moving_windows_samples = int(moving_windows_seconds/Period)\n",
    "print(\"The period of this data is : \", Period, \" Seconds\")\n",
    "print(\"Try the Training Windows for each \", train_windows_seconds, \" Seconds\")\n",
    "print(\"So, the Training Windows for this data is for each \", train_windows_samples, \" Samples\")\n",
    "print(\"Also, the Moving Windows for this data is for each \", moving_windows_samples, \" Samples\")\n",
    "print(\"It means that there will be \", train_samples, \" Training samples from this traces\")"
   ]
  },
  {
   "cell_type": "markdown",
   "metadata": {},
   "source": [
    "Check the Label_Dataset"
   ]
  },
  {
   "cell_type": "code",
   "execution_count": 4,
   "metadata": {},
   "outputs": [
    {
     "name": "stdout",
     "output_type": "stream",
     "text": [
      "(748405,)\n",
      "(332733,)\n"
     ]
    }
   ],
   "source": [
    "print(label_dataset.shape)\n",
    "List_Found = (np.where((label_dataset) == 1))[0]\n",
    "print(List_Found.shape)\n",
    "List_Found=None"
   ]
  },
  {
   "cell_type": "code",
   "execution_count": 5,
   "metadata": {},
   "outputs": [
    {
     "name": "stdout",
     "output_type": "stream",
     "text": [
      "(748405, 100, 6)\n",
      "(748405,)\n"
     ]
    }
   ],
   "source": [
    "print(signal_dataset.shape)\n",
    "print(label_dataset.shape)"
   ]
  },
  {
   "cell_type": "markdown",
   "metadata": {},
   "source": [
    "Split the training and test Data"
   ]
  },
  {
   "cell_type": "code",
   "execution_count": 6,
   "metadata": {},
   "outputs": [],
   "source": [
    "#Using SkLearn or Tensorflow to split the data\n",
    "from sklearn.model_selection import StratifiedShuffleSplit\n",
    "\n",
    "#Using stratified split (Keeping the precentage of each class)\n",
    "split = StratifiedShuffleSplit(n_splits=1, test_size=0.2, random_state=42)\n",
    "for train_index, test_index in split.split(signal_dataset, label_dataset):\n",
    "    train_signal, test_signal = signal_dataset[train_index], signal_dataset[test_index]\n",
    "    train_labels, test_labels = label_dataset[train_index], label_dataset[test_index]"
   ]
  },
  {
   "cell_type": "markdown",
   "metadata": {},
   "source": [
    "Check The Splitting"
   ]
  },
  {
   "cell_type": "code",
   "execution_count": 7,
   "metadata": {},
   "outputs": [
    {
     "name": "stdout",
     "output_type": "stream",
     "text": [
      "(598724, 100, 6)\n",
      "(149681, 100, 6)\n",
      "(598724,)\n",
      "(149681,)\n"
     ]
    }
   ],
   "source": [
    "print(train_signal.shape)\n",
    "print(test_signal.shape)\n",
    "print(train_labels.shape)\n",
    "print(test_labels.shape)"
   ]
  },
  {
   "cell_type": "markdown",
   "metadata": {},
   "source": [
    "## Creating Deep Neural Network Model"
   ]
  },
  {
   "cell_type": "markdown",
   "metadata": {},
   "source": [
    "Make model that can be tuned"
   ]
  },
  {
   "cell_type": "code",
   "execution_count": 16,
   "metadata": {},
   "outputs": [],
   "source": [
    "#Creating the model for deep learning\n",
    "import tensorflow as tf\n",
    "import keras_tuner as kt\n",
    "from tensorflow import keras\n",
    "\n",
    "import numpy as np\n",
    "import matplotlib.pyplot as plt\n",
    "\n",
    "#We will use a Model from Paper Microseismic 2020 (CNN Explainable)\n",
    "#Pooling is max pooling with 2x2 window\n",
    "\n",
    "from tensorflow.keras import Sequential\n",
    "from tensorflow.keras.layers import Conv2D\n",
    "from tensorflow.keras.layers import Dropout\n",
    "from tensorflow.keras.layers import Dense,Flatten\n",
    "\n",
    "def model_builder(hp):\n",
    "    # State which hyperparameters to tune\n",
    "    filter_number_1 = hp.Int('filter_number_1', min_value=8, max_value=33, step=8)\n",
    "    filter_number_2 = hp.Int('filter_number_2', min_value=8, max_value=33, step=8)\n",
    "    kernel_size_1 = hp.Int('kernel_size_1', min_value=2, max_value=16, step=2)\n",
    "    kernel_size_2 = hp.Int('kernel_size_', min_value=2, max_value=8, step=2)\n",
    "    dense_units = hp.Int('units', min_value=64, max_value=257, step=32)\n",
    "    \n",
    "    \n",
    "    # Build model\n",
    "    model = Sequential()\n",
    "\n",
    "    model.add(Conv2D(filter_number_1, (1, kernel_size_1), \n",
    "              activation='relu',  padding='same', input_shape=(1, train_windows_samples, 6)))\n",
    "    model.add(Dropout(0.2))\n",
    "    model.add(Conv2D(filter_number_2, (1, kernel_size_2), padding = 'same', activation=\"relu\", input_shape=(1, train_windows_samples, 6)))\n",
    "    model.add(Dropout(0.2))\n",
    "    #model.add(layers.MaxPooling2D((2, 1)))\n",
    "    model.add(Flatten())\n",
    "    model.add(Dense(dense_units, kernel_initializer='glorot_uniform', activation='relu'))\n",
    "    model.add(Dropout(0.2))\n",
    "    #2 means just two outputs, between noise class or P-Wave Class\n",
    "    model.add(Dense(1, activation='sigmoid'))\n",
    "    \n",
    "    # Compile model\n",
    "    model.compile(loss='binary_crossentropy', optimizer='adam', metrics=['accuracy','Precision','Recall','AUC'])\n",
    "\n",
    "    return model"
   ]
  },
  {
   "cell_type": "markdown",
   "metadata": {},
   "source": [
    "## Compile, Tune, and Training The Model"
   ]
  },
  {
   "cell_type": "code",
   "execution_count": 9,
   "metadata": {},
   "outputs": [],
   "source": [
    "# Set up checkpoint to save models regularly while training\n",
    "filepath = \"D:/S3_project/S Picker/weights_with_tuner.best.hdf5\"\n",
    "checkpoint_callback = tf.keras.callbacks.ModelCheckpoint(filepath, monitor='val_accuracy', verbose=1, save_best_only=True, mode='max')\n",
    "\n",
    "#If there is no improvement on val_lost by 10 epochs, it will be stopped!\n",
    "callback_list = [tf.keras.callbacks.EarlyStopping(monitor='val_loss', patience=20), checkpoint_callback]\n",
    "\n",
    "orig_train_shape = train_signal.shape\n",
    "orig_test_shape = test_signal.shape\n",
    "\n",
    "#reshapes it so we have 3D Tensor\n",
    "train_signal = train_signal.reshape((orig_train_shape[0], 1, orig_train_shape[1], orig_train_shape[2]))\n",
    "\n",
    "#reshapes it so we have 3D Tensor\n",
    "test_signal = test_signal.reshape((orig_test_shape[0], 1, orig_test_shape[1], orig_test_shape[2]))"
   ]
  },
  {
   "cell_type": "code",
   "execution_count": 20,
   "metadata": {},
   "outputs": [],
   "source": [
    "# Set up tuner\n",
    "kt_dir = \"D:/S3_project/S Picker/kt_dir1.hdf5\"\n",
    "tuner = kt.Hyperband(model_builder,\n",
    "                     objective='val_accuracy',\n",
    "                     overwrite=True,\n",
    "                     max_epochs=15,\n",
    "                     factor=3,\n",
    "                     directory='kt_dir',\n",
    "                     project_name='1_with_tuner')"
   ]
  },
  {
   "cell_type": "code",
   "execution_count": 21,
   "metadata": {},
   "outputs": [
    {
     "name": "stdout",
     "output_type": "stream",
     "text": [
      "Trial 30 Complete [00h 09m 46s]\n",
      "val_accuracy: 0.9750469923019409\n",
      "\n",
      "Best val_accuracy So Far: 0.9862457513809204\n",
      "Total elapsed time: 01h 49m 56s\n",
      "INFO:tensorflow:Oracle triggered exit\n"
     ]
    }
   ],
   "source": [
    "# Find best hyperparameters\n",
    "history = tuner.search(train_signal, train_labels,\n",
    "          batch_size=100,\n",
    "          callbacks=callback_list, #Learning rate scheduler\n",
    "          validation_split=0.2, #To split the training more to validation\n",
    "          epochs=400,\n",
    "          verbose=1)"
   ]
  },
  {
   "cell_type": "markdown",
   "metadata": {},
   "source": [
    "Check best models and other models"
   ]
  },
  {
   "cell_type": "code",
   "execution_count": 25,
   "metadata": {},
   "outputs": [
    {
     "name": "stdout",
     "output_type": "stream",
     "text": [
      "\n",
      "filter_number_1 32 , filter_number_2 32 , kernel_size_1 4,\n",
      "kernel_size_2 6, dense 256,.\n",
      "\n"
     ]
    }
   ],
   "source": [
    "# Get the optimal hyperparameters\n",
    "best_hps=tuner.get_best_hyperparameters(num_trials=1)[0]\n",
    "\n",
    "print(f\"\"\"\n",
    "filter_number_1 {best_hps.get('filter_number_1')} , filter_number_2 {best_hps.get('filter_number_2')} , kernel_size_1 {best_hps.get('kernel_size_1')},\n",
    "kernel_size_2 {best_hps.get('kernel_size_2')}, dense {best_hps.get('units')},.\n",
    "\"\"\")\n",
    "    "
   ]
  },
  {
   "cell_type": "code",
   "execution_count": 34,
   "metadata": {},
   "outputs": [
    {
     "name": "stdout",
     "output_type": "stream",
     "text": [
      "\n",
      "    filter_number_1 32 , filter_number_2 32 , kernel_size_1 4,\n",
      "    kernel_size_2 6, dense 256,.\n",
      "    \n"
     ]
    }
   ],
   "source": [
    "all_models=tuner.get_best_hyperparameters()\n",
    "\n",
    "for model in all_models:\n",
    "    print(f\"\"\"\n",
    "    filter_number_1 {model.get('filter_number_1')} , filter_number_2 {model.get('filter_number_2')} , kernel_size_1 {model.get('kernel_size_1')},\n",
    "    kernel_size_2 {model.get('kernel_size_2')}, dense {model.get('units')},.\n",
    "    \"\"\")"
   ]
  },
  {
   "cell_type": "markdown",
   "metadata": {},
   "source": [
    "Train with the best model"
   ]
  },
  {
   "cell_type": "code",
   "execution_count": 26,
   "metadata": {},
   "outputs": [
    {
     "name": "stdout",
     "output_type": "stream",
     "text": [
      "Epoch 1/150\n",
      "4789/4790 [============================>.] - ETA: 0s - loss: 0.2177 - accuracy: 0.9128 - precision: 0.9141 - recall: 0.8872 - auc: 0.9702\n",
      "Epoch 1: val_accuracy improved from -inf to 0.93905, saving model to D:/S3_project/S Picker\\weights_with_tuner.best.hdf5\n",
      "4790/4790 [==============================] - 40s 8ms/step - loss: 0.2177 - accuracy: 0.9128 - precision: 0.9141 - recall: 0.8872 - auc: 0.9702 - val_loss: 0.1574 - val_accuracy: 0.9391 - val_precision: 0.9476 - val_recall: 0.9134 - val_auc: 0.9851\n",
      "Epoch 2/150\n",
      "4783/4790 [============================>.] - ETA: 0s - loss: 0.1592 - accuracy: 0.9383 - precision: 0.9346 - recall: 0.9259 - auc: 0.9840\n",
      "Epoch 2: val_accuracy improved from 0.93905 to 0.95815, saving model to D:/S3_project/S Picker\\weights_with_tuner.best.hdf5\n",
      "4790/4790 [==============================] - 38s 8ms/step - loss: 0.1592 - accuracy: 0.9383 - precision: 0.9346 - recall: 0.9260 - auc: 0.9840 - val_loss: 0.1169 - val_accuracy: 0.9582 - val_precision: 0.9556 - val_recall: 0.9500 - val_auc: 0.9919\n",
      "Epoch 3/150\n",
      "4783/4790 [============================>.] - ETA: 0s - loss: 0.1303 - accuracy: 0.9511 - precision: 0.9445 - recall: 0.9457 - auc: 0.9890\n",
      "Epoch 3: val_accuracy improved from 0.95815 to 0.96895, saving model to D:/S3_project/S Picker\\weights_with_tuner.best.hdf5\n",
      "4790/4790 [==============================] - 38s 8ms/step - loss: 0.1303 - accuracy: 0.9511 - precision: 0.9445 - recall: 0.9457 - auc: 0.9890 - val_loss: 0.0915 - val_accuracy: 0.9690 - val_precision: 0.9556 - val_recall: 0.9754 - val_auc: 0.9946\n",
      "Epoch 4/150\n",
      "4787/4790 [============================>.] - ETA: 0s - loss: 0.1114 - accuracy: 0.9589 - precision: 0.9514 - recall: 0.9565 - auc: 0.9916\n",
      "Epoch 4: val_accuracy improved from 0.96895 to 0.97325, saving model to D:/S3_project/S Picker\\weights_with_tuner.best.hdf5\n",
      "4790/4790 [==============================] - 38s 8ms/step - loss: 0.1114 - accuracy: 0.9589 - precision: 0.9514 - recall: 0.9565 - auc: 0.9916 - val_loss: 0.0806 - val_accuracy: 0.9733 - val_precision: 0.9574 - val_recall: 0.9836 - val_auc: 0.9955\n",
      "Epoch 5/150\n",
      "4786/4790 [============================>.] - ETA: 0s - loss: 0.0986 - accuracy: 0.9644 - precision: 0.9571 - recall: 0.9630 - auc: 0.9932\n",
      "Epoch 5: val_accuracy improved from 0.97325 to 0.97676, saving model to D:/S3_project/S Picker\\weights_with_tuner.best.hdf5\n",
      "4790/4790 [==============================] - 39s 8ms/step - loss: 0.0986 - accuracy: 0.9644 - precision: 0.9571 - recall: 0.9630 - auc: 0.9932 - val_loss: 0.0696 - val_accuracy: 0.9768 - val_precision: 0.9623 - val_recall: 0.9864 - val_auc: 0.9961\n",
      "Epoch 6/150\n",
      "4787/4790 [============================>.] - ETA: 0s - loss: 0.0890 - accuracy: 0.9681 - precision: 0.9609 - recall: 0.9676 - auc: 0.9943\n",
      "Epoch 6: val_accuracy improved from 0.97676 to 0.97931, saving model to D:/S3_project/S Picker\\weights_with_tuner.best.hdf5\n",
      "4790/4790 [==============================] - 39s 8ms/step - loss: 0.0890 - accuracy: 0.9681 - precision: 0.9609 - recall: 0.9676 - auc: 0.9943 - val_loss: 0.0633 - val_accuracy: 0.9793 - val_precision: 0.9644 - val_recall: 0.9901 - val_auc: 0.9970\n",
      "Epoch 7/150\n",
      "4784/4790 [============================>.] - ETA: 0s - loss: 0.0815 - accuracy: 0.9710 - precision: 0.9640 - recall: 0.9711 - auc: 0.9951\n",
      "Epoch 7: val_accuracy improved from 0.97931 to 0.98025, saving model to D:/S3_project/S Picker\\weights_with_tuner.best.hdf5\n",
      "4790/4790 [==============================] - 39s 8ms/step - loss: 0.0814 - accuracy: 0.9710 - precision: 0.9640 - recall: 0.9711 - auc: 0.9951 - val_loss: 0.0601 - val_accuracy: 0.9802 - val_precision: 0.9654 - val_recall: 0.9911 - val_auc: 0.9970\n",
      "Epoch 8/150\n",
      "4789/4790 [============================>.] - ETA: 0s - loss: 0.0761 - accuracy: 0.9731 - precision: 0.9663 - recall: 0.9734 - auc: 0.9955\n",
      "Epoch 8: val_accuracy improved from 0.98025 to 0.98245, saving model to D:/S3_project/S Picker\\weights_with_tuner.best.hdf5\n",
      "4790/4790 [==============================] - 38s 8ms/step - loss: 0.0761 - accuracy: 0.9731 - precision: 0.9663 - recall: 0.9734 - auc: 0.9955 - val_loss: 0.0559 - val_accuracy: 0.9824 - val_precision: 0.9707 - val_recall: 0.9904 - val_auc: 0.9971\n",
      "Epoch 9/150\n",
      "4784/4790 [============================>.] - ETA: 0s - loss: 0.0726 - accuracy: 0.9746 - precision: 0.9681 - recall: 0.9750 - auc: 0.9959\n",
      "Epoch 9: val_accuracy did not improve from 0.98245\n",
      "4790/4790 [==============================] - 38s 8ms/step - loss: 0.0726 - accuracy: 0.9746 - precision: 0.9681 - recall: 0.9750 - auc: 0.9959 - val_loss: 0.0607 - val_accuracy: 0.9807 - val_precision: 0.9641 - val_recall: 0.9935 - val_auc: 0.9969\n",
      "Epoch 10/150\n",
      "4787/4790 [============================>.] - ETA: 0s - loss: 0.0678 - accuracy: 0.9761 - precision: 0.9699 - recall: 0.9766 - auc: 0.9963\n",
      "Epoch 10: val_accuracy improved from 0.98245 to 0.98405, saving model to D:/S3_project/S Picker\\weights_with_tuner.best.hdf5\n",
      "4790/4790 [==============================] - 38s 8ms/step - loss: 0.0678 - accuracy: 0.9761 - precision: 0.9699 - recall: 0.9766 - auc: 0.9963 - val_loss: 0.0508 - val_accuracy: 0.9840 - val_precision: 0.9720 - val_recall: 0.9928 - val_auc: 0.9975\n",
      "Epoch 11/150\n",
      "4784/4790 [============================>.] - ETA: 0s - loss: 0.0648 - accuracy: 0.9776 - precision: 0.9718 - recall: 0.9781 - auc: 0.9965\n",
      "Epoch 11: val_accuracy did not improve from 0.98405\n",
      "4790/4790 [==============================] - 38s 8ms/step - loss: 0.0648 - accuracy: 0.9776 - precision: 0.9718 - recall: 0.9781 - auc: 0.9965 - val_loss: 0.0536 - val_accuracy: 0.9830 - val_precision: 0.9682 - val_recall: 0.9945 - val_auc: 0.9975\n",
      "Epoch 12/150\n",
      "4790/4790 [==============================] - ETA: 0s - loss: 0.0619 - accuracy: 0.9783 - precision: 0.9727 - recall: 0.9787 - auc: 0.9968\n",
      "Epoch 12: val_accuracy improved from 0.98405 to 0.98446, saving model to D:/S3_project/S Picker\\weights_with_tuner.best.hdf5\n",
      "4790/4790 [==============================] - 39s 8ms/step - loss: 0.0619 - accuracy: 0.9783 - precision: 0.9727 - recall: 0.9787 - auc: 0.9968 - val_loss: 0.0499 - val_accuracy: 0.9845 - val_precision: 0.9713 - val_recall: 0.9944 - val_auc: 0.9976\n",
      "Epoch 13/150\n",
      "4787/4790 [============================>.] - ETA: 0s - loss: 0.0595 - accuracy: 0.9793 - precision: 0.9738 - recall: 0.9799 - auc: 0.9970\n",
      "Epoch 13: val_accuracy improved from 0.98446 to 0.98528, saving model to D:/S3_project/S Picker\\weights_with_tuner.best.hdf5\n",
      "4790/4790 [==============================] - 38s 8ms/step - loss: 0.0595 - accuracy: 0.9793 - precision: 0.9738 - recall: 0.9799 - auc: 0.9970 - val_loss: 0.0476 - val_accuracy: 0.9853 - val_precision: 0.9738 - val_recall: 0.9936 - val_auc: 0.9974\n",
      "Epoch 14/150\n",
      "4788/4790 [============================>.] - ETA: 0s - loss: 0.0581 - accuracy: 0.9799 - precision: 0.9747 - recall: 0.9803 - auc: 0.9971\n",
      "Epoch 14: val_accuracy did not improve from 0.98528\n",
      "4790/4790 [==============================] - 38s 8ms/step - loss: 0.0581 - accuracy: 0.9799 - precision: 0.9747 - recall: 0.9803 - auc: 0.9971 - val_loss: 0.0485 - val_accuracy: 0.9849 - val_precision: 0.9722 - val_recall: 0.9944 - val_auc: 0.9976\n",
      "Epoch 15/150\n",
      "4789/4790 [============================>.] - ETA: 0s - loss: 0.0563 - accuracy: 0.9806 - precision: 0.9755 - recall: 0.9809 - auc: 0.9972\n",
      "Epoch 15: val_accuracy did not improve from 0.98528\n",
      "4790/4790 [==============================] - 38s 8ms/step - loss: 0.0563 - accuracy: 0.9806 - precision: 0.9755 - recall: 0.9809 - auc: 0.9972 - val_loss: 0.0517 - val_accuracy: 0.9838 - val_precision: 0.9694 - val_recall: 0.9950 - val_auc: 0.9975\n",
      "Epoch 16/150\n",
      "4787/4790 [============================>.] - ETA: 0s - loss: 0.0544 - accuracy: 0.9813 - precision: 0.9762 - recall: 0.9820 - auc: 0.9974\n",
      "Epoch 16: val_accuracy improved from 0.98528 to 0.98542, saving model to D:/S3_project/S Picker\\weights_with_tuner.best.hdf5\n",
      "4790/4790 [==============================] - 39s 8ms/step - loss: 0.0544 - accuracy: 0.9813 - precision: 0.9762 - recall: 0.9820 - auc: 0.9974 - val_loss: 0.0469 - val_accuracy: 0.9854 - val_precision: 0.9732 - val_recall: 0.9946 - val_auc: 0.9977\n",
      "Epoch 17/150\n"
     ]
    },
    {
     "name": "stdout",
     "output_type": "stream",
     "text": [
      "4788/4790 [============================>.] - ETA: 0s - loss: 0.0529 - accuracy: 0.9818 - precision: 0.9771 - recall: 0.9821 - auc: 0.9975\n",
      "Epoch 17: val_accuracy improved from 0.98542 to 0.98605, saving model to D:/S3_project/S Picker\\weights_with_tuner.best.hdf5\n",
      "4790/4790 [==============================] - 38s 8ms/step - loss: 0.0529 - accuracy: 0.9818 - precision: 0.9771 - recall: 0.9821 - auc: 0.9975 - val_loss: 0.0458 - val_accuracy: 0.9861 - val_precision: 0.9747 - val_recall: 0.9944 - val_auc: 0.9976\n",
      "Epoch 18/150\n",
      "4789/4790 [============================>.] - ETA: 0s - loss: 0.0509 - accuracy: 0.9826 - precision: 0.9781 - recall: 0.9828 - auc: 0.9977\n",
      "Epoch 18: val_accuracy did not improve from 0.98605\n",
      "4790/4790 [==============================] - 38s 8ms/step - loss: 0.0509 - accuracy: 0.9826 - precision: 0.9781 - recall: 0.9828 - auc: 0.9977 - val_loss: 0.0489 - val_accuracy: 0.9850 - val_precision: 0.9712 - val_recall: 0.9958 - val_auc: 0.9977\n",
      "Epoch 19/150\n",
      "4787/4790 [============================>.] - ETA: 0s - loss: 0.0503 - accuracy: 0.9827 - precision: 0.9781 - recall: 0.9830 - auc: 0.9977\n",
      "Epoch 19: val_accuracy did not improve from 0.98605\n",
      "4790/4790 [==============================] - 38s 8ms/step - loss: 0.0503 - accuracy: 0.9827 - precision: 0.9781 - recall: 0.9830 - auc: 0.9977 - val_loss: 0.0472 - val_accuracy: 0.9857 - val_precision: 0.9731 - val_recall: 0.9953 - val_auc: 0.9976\n",
      "Epoch 20/150\n",
      "4784/4790 [============================>.] - ETA: 0s - loss: 0.0484 - accuracy: 0.9833 - precision: 0.9792 - recall: 0.9834 - auc: 0.9978\n",
      "Epoch 20: val_accuracy did not improve from 0.98605\n",
      "4790/4790 [==============================] - 38s 8ms/step - loss: 0.0484 - accuracy: 0.9833 - precision: 0.9791 - recall: 0.9834 - auc: 0.9978 - val_loss: 0.0465 - val_accuracy: 0.9855 - val_precision: 0.9723 - val_recall: 0.9959 - val_auc: 0.9977\n",
      "Epoch 21/150\n",
      "4782/4790 [============================>.] - ETA: 0s - loss: 0.0479 - accuracy: 0.9838 - precision: 0.9796 - recall: 0.9841 - auc: 0.9978\n",
      "Epoch 21: val_accuracy did not improve from 0.98605\n",
      "4790/4790 [==============================] - 37s 8ms/step - loss: 0.0479 - accuracy: 0.9838 - precision: 0.9796 - recall: 0.9841 - auc: 0.9978 - val_loss: 0.0543 - val_accuracy: 0.9831 - val_precision: 0.9668 - val_recall: 0.9961 - val_auc: 0.9975\n",
      "Epoch 22/150\n",
      "4782/4790 [============================>.] - ETA: 0s - loss: 0.0468 - accuracy: 0.9839 - precision: 0.9797 - recall: 0.9842 - auc: 0.9979\n",
      "Epoch 22: val_accuracy improved from 0.98605 to 0.98676, saving model to D:/S3_project/S Picker\\weights_with_tuner.best.hdf5\n",
      "4790/4790 [==============================] - 38s 8ms/step - loss: 0.0468 - accuracy: 0.9839 - precision: 0.9797 - recall: 0.9842 - auc: 0.9979 - val_loss: 0.0441 - val_accuracy: 0.9868 - val_precision: 0.9753 - val_recall: 0.9954 - val_auc: 0.9978\n",
      "Epoch 23/150\n",
      "4782/4790 [============================>.] - ETA: 0s - loss: 0.0460 - accuracy: 0.9843 - precision: 0.9801 - recall: 0.9846 - auc: 0.9980\n",
      "Epoch 23: val_accuracy did not improve from 0.98676\n",
      "4790/4790 [==============================] - 37s 8ms/step - loss: 0.0460 - accuracy: 0.9843 - precision: 0.9801 - recall: 0.9846 - auc: 0.9980 - val_loss: 0.0470 - val_accuracy: 0.9856 - val_precision: 0.9724 - val_recall: 0.9959 - val_auc: 0.9977\n",
      "Epoch 24/150\n",
      "4787/4790 [============================>.] - ETA: 0s - loss: 0.0452 - accuracy: 0.9844 - precision: 0.9801 - recall: 0.9848 - auc: 0.9980\n",
      "Epoch 24: val_accuracy did not improve from 0.98676\n",
      "4790/4790 [==============================] - 37s 8ms/step - loss: 0.0452 - accuracy: 0.9844 - precision: 0.9801 - recall: 0.9848 - auc: 0.9980 - val_loss: 0.0478 - val_accuracy: 0.9853 - val_precision: 0.9716 - val_recall: 0.9960 - val_auc: 0.9975\n",
      "Epoch 25/150\n",
      "4783/4790 [============================>.] - ETA: 0s - loss: 0.0442 - accuracy: 0.9850 - precision: 0.9811 - recall: 0.9853 - auc: 0.9981\n",
      "Epoch 25: val_accuracy improved from 0.98676 to 0.98686, saving model to D:/S3_project/S Picker\\weights_with_tuner.best.hdf5\n",
      "4790/4790 [==============================] - 37s 8ms/step - loss: 0.0442 - accuracy: 0.9850 - precision: 0.9811 - recall: 0.9853 - auc: 0.9981 - val_loss: 0.0426 - val_accuracy: 0.9869 - val_precision: 0.9763 - val_recall: 0.9946 - val_auc: 0.9978\n",
      "Epoch 26/150\n",
      "4786/4790 [============================>.] - ETA: 0s - loss: 0.0433 - accuracy: 0.9853 - precision: 0.9814 - recall: 0.9855 - auc: 0.9981\n",
      "Epoch 26: val_accuracy did not improve from 0.98686\n",
      "4790/4790 [==============================] - 37s 8ms/step - loss: 0.0433 - accuracy: 0.9853 - precision: 0.9814 - recall: 0.9855 - auc: 0.9981 - val_loss: 0.0501 - val_accuracy: 0.9855 - val_precision: 0.9716 - val_recall: 0.9965 - val_auc: 0.9975\n",
      "Epoch 27/150\n",
      "4789/4790 [============================>.] - ETA: 0s - loss: 0.0437 - accuracy: 0.9852 - precision: 0.9815 - recall: 0.9854 - auc: 0.9981\n",
      "Epoch 27: val_accuracy did not improve from 0.98686\n",
      "4790/4790 [==============================] - 38s 8ms/step - loss: 0.0437 - accuracy: 0.9852 - precision: 0.9815 - recall: 0.9854 - auc: 0.9981 - val_loss: 0.0490 - val_accuracy: 0.9857 - val_precision: 0.9720 - val_recall: 0.9967 - val_auc: 0.9974\n",
      "Epoch 28/150\n",
      "4784/4790 [============================>.] - ETA: 0s - loss: 0.0426 - accuracy: 0.9855 - precision: 0.9817 - recall: 0.9856 - auc: 0.9982\n",
      "Epoch 28: val_accuracy did not improve from 0.98686\n",
      "4790/4790 [==============================] - 37s 8ms/step - loss: 0.0427 - accuracy: 0.9855 - precision: 0.9818 - recall: 0.9856 - auc: 0.9982 - val_loss: 0.0522 - val_accuracy: 0.9839 - val_precision: 0.9676 - val_recall: 0.9972 - val_auc: 0.9975\n",
      "Epoch 29/150\n",
      "4787/4790 [============================>.] - ETA: 0s - loss: 0.0415 - accuracy: 0.9857 - precision: 0.9821 - recall: 0.9859 - auc: 0.9983\n",
      "Epoch 29: val_accuracy improved from 0.98686 to 0.98694, saving model to D:/S3_project/S Picker\\weights_with_tuner.best.hdf5\n",
      "4790/4790 [==============================] - 37s 8ms/step - loss: 0.0415 - accuracy: 0.9857 - precision: 0.9821 - recall: 0.9859 - auc: 0.9983 - val_loss: 0.0434 - val_accuracy: 0.9869 - val_precision: 0.9756 - val_recall: 0.9955 - val_auc: 0.9977\n",
      "Epoch 30/150\n",
      "4788/4790 [============================>.] - ETA: 0s - loss: 0.0406 - accuracy: 0.9862 - precision: 0.9829 - recall: 0.9862 - auc: 0.9983\n",
      "Epoch 30: val_accuracy did not improve from 0.98694\n",
      "4790/4790 [==============================] - 37s 8ms/step - loss: 0.0406 - accuracy: 0.9863 - precision: 0.9829 - recall: 0.9863 - auc: 0.9983 - val_loss: 0.0510 - val_accuracy: 0.9844 - val_precision: 0.9689 - val_recall: 0.9968 - val_auc: 0.9975\n",
      "Epoch 31/150\n",
      "4789/4790 [============================>.] - ETA: 0s - loss: 0.0409 - accuracy: 0.9861 - precision: 0.9825 - recall: 0.9864 - auc: 0.9982\n",
      "Epoch 31: val_accuracy did not improve from 0.98694\n",
      "4790/4790 [==============================] - 37s 8ms/step - loss: 0.0409 - accuracy: 0.9861 - precision: 0.9825 - recall: 0.9864 - auc: 0.9982 - val_loss: 0.0479 - val_accuracy: 0.9858 - val_precision: 0.9725 - val_recall: 0.9962 - val_auc: 0.9976\n",
      "Epoch 32/150\n",
      "4788/4790 [============================>.] - ETA: 0s - loss: 0.0403 - accuracy: 0.9862 - precision: 0.9827 - recall: 0.9864 - auc: 0.9983\n",
      "Epoch 32: val_accuracy improved from 0.98694 to 0.98770, saving model to D:/S3_project/S Picker\\weights_with_tuner.best.hdf5\n",
      "4790/4790 [==============================] - 39s 8ms/step - loss: 0.0403 - accuracy: 0.9862 - precision: 0.9827 - recall: 0.9863 - auc: 0.9983 - val_loss: 0.0420 - val_accuracy: 0.9877 - val_precision: 0.9778 - val_recall: 0.9950 - val_auc: 0.9978\n",
      "Epoch 33/150\n",
      "4785/4790 [============================>.] - ETA: 0s - loss: 0.0393 - accuracy: 0.9865 - precision: 0.9831 - recall: 0.9866 - auc: 0.9984\n",
      "Epoch 33: val_accuracy improved from 0.98770 to 0.98798, saving model to D:/S3_project/S Picker\\weights_with_tuner.best.hdf5\n",
      "4790/4790 [==============================] - 38s 8ms/step - loss: 0.0393 - accuracy: 0.9865 - precision: 0.9831 - recall: 0.9866 - auc: 0.9984 - val_loss: 0.0434 - val_accuracy: 0.9880 - val_precision: 0.9778 - val_recall: 0.9955 - val_auc: 0.9976\n",
      "Epoch 34/150\n"
     ]
    },
    {
     "name": "stdout",
     "output_type": "stream",
     "text": [
      "4788/4790 [============================>.] - ETA: 0s - loss: 0.0386 - accuracy: 0.9868 - precision: 0.9835 - recall: 0.9868 - auc: 0.9985\n",
      "Epoch 34: val_accuracy did not improve from 0.98798\n",
      "4790/4790 [==============================] - 38s 8ms/step - loss: 0.0386 - accuracy: 0.9868 - precision: 0.9835 - recall: 0.9868 - auc: 0.9985 - val_loss: 0.0470 - val_accuracy: 0.9859 - val_precision: 0.9721 - val_recall: 0.9968 - val_auc: 0.9977\n",
      "Epoch 35/150\n",
      "4787/4790 [============================>.] - ETA: 0s - loss: 0.0390 - accuracy: 0.9866 - precision: 0.9833 - recall: 0.9866 - auc: 0.9984\n",
      "Epoch 35: val_accuracy did not improve from 0.98798\n",
      "4790/4790 [==============================] - 38s 8ms/step - loss: 0.0390 - accuracy: 0.9866 - precision: 0.9833 - recall: 0.9866 - auc: 0.9984 - val_loss: 0.0424 - val_accuracy: 0.9877 - val_precision: 0.9778 - val_recall: 0.9949 - val_auc: 0.9978\n",
      "Epoch 36/150\n",
      "4790/4790 [==============================] - ETA: 0s - loss: 0.0387 - accuracy: 0.9869 - precision: 0.9836 - recall: 0.9869 - auc: 0.9984\n",
      "Epoch 36: val_accuracy did not improve from 0.98798\n",
      "4790/4790 [==============================] - 38s 8ms/step - loss: 0.0387 - accuracy: 0.9869 - precision: 0.9836 - recall: 0.9869 - auc: 0.9984 - val_loss: 0.0456 - val_accuracy: 0.9868 - val_precision: 0.9743 - val_recall: 0.9965 - val_auc: 0.9976\n",
      "Epoch 37/150\n",
      "4784/4790 [============================>.] - ETA: 0s - loss: 0.0379 - accuracy: 0.9871 - precision: 0.9838 - recall: 0.9872 - auc: 0.9985\n",
      "Epoch 37: val_accuracy did not improve from 0.98798\n",
      "4790/4790 [==============================] - 38s 8ms/step - loss: 0.0380 - accuracy: 0.9871 - precision: 0.9838 - recall: 0.9872 - auc: 0.9985 - val_loss: 0.0470 - val_accuracy: 0.9866 - val_precision: 0.9743 - val_recall: 0.9961 - val_auc: 0.9974\n",
      "Epoch 38/150\n",
      "4785/4790 [============================>.] - ETA: 0s - loss: 0.0376 - accuracy: 0.9874 - precision: 0.9843 - recall: 0.9873 - auc: 0.9985\n",
      "Epoch 38: val_accuracy did not improve from 0.98798\n",
      "4790/4790 [==============================] - 38s 8ms/step - loss: 0.0376 - accuracy: 0.9874 - precision: 0.9843 - recall: 0.9873 - auc: 0.9985 - val_loss: 0.0410 - val_accuracy: 0.9877 - val_precision: 0.9773 - val_recall: 0.9955 - val_auc: 0.9979\n",
      "Epoch 39/150\n",
      "4787/4790 [============================>.] - ETA: 0s - loss: 0.0384 - accuracy: 0.9871 - precision: 0.9839 - recall: 0.9871 - auc: 0.9984\n",
      "Epoch 39: val_accuracy did not improve from 0.98798\n",
      "4790/4790 [==============================] - 38s 8ms/step - loss: 0.0384 - accuracy: 0.9871 - precision: 0.9839 - recall: 0.9871 - auc: 0.9984 - val_loss: 0.0436 - val_accuracy: 0.9871 - val_precision: 0.9751 - val_recall: 0.9964 - val_auc: 0.9978\n",
      "Epoch 40/150\n",
      "4785/4790 [============================>.] - ETA: 0s - loss: 0.0370 - accuracy: 0.9875 - precision: 0.9842 - recall: 0.9878 - auc: 0.9985\n",
      "Epoch 40: val_accuracy did not improve from 0.98798\n",
      "4790/4790 [==============================] - 38s 8ms/step - loss: 0.0370 - accuracy: 0.9875 - precision: 0.9842 - recall: 0.9878 - auc: 0.9985 - val_loss: 0.0421 - val_accuracy: 0.9876 - val_precision: 0.9768 - val_recall: 0.9958 - val_auc: 0.9978\n",
      "Epoch 41/150\n",
      "4787/4790 [============================>.] - ETA: 0s - loss: 0.0374 - accuracy: 0.9874 - precision: 0.9844 - recall: 0.9874 - auc: 0.9985\n",
      "Epoch 41: val_accuracy did not improve from 0.98798\n",
      "4790/4790 [==============================] - 38s 8ms/step - loss: 0.0374 - accuracy: 0.9874 - precision: 0.9844 - recall: 0.9874 - auc: 0.9985 - val_loss: 0.0415 - val_accuracy: 0.9878 - val_precision: 0.9767 - val_recall: 0.9963 - val_auc: 0.9978\n",
      "Epoch 42/150\n",
      "4783/4790 [============================>.] - ETA: 0s - loss: 0.0368 - accuracy: 0.9876 - precision: 0.9845 - recall: 0.9876 - auc: 0.9985\n",
      "Epoch 42: val_accuracy did not improve from 0.98798\n",
      "4790/4790 [==============================] - 38s 8ms/step - loss: 0.0367 - accuracy: 0.9876 - precision: 0.9845 - recall: 0.9876 - auc: 0.9985 - val_loss: 0.0433 - val_accuracy: 0.9877 - val_precision: 0.9774 - val_recall: 0.9953 - val_auc: 0.9976\n",
      "Epoch 43/150\n",
      "4788/4790 [============================>.] - ETA: 0s - loss: 0.0366 - accuracy: 0.9877 - precision: 0.9846 - recall: 0.9877 - auc: 0.9985\n",
      "Epoch 43: val_accuracy did not improve from 0.98798\n",
      "4790/4790 [==============================] - 38s 8ms/step - loss: 0.0366 - accuracy: 0.9877 - precision: 0.9846 - recall: 0.9877 - auc: 0.9985 - val_loss: 0.0466 - val_accuracy: 0.9861 - val_precision: 0.9728 - val_recall: 0.9967 - val_auc: 0.9976\n",
      "Epoch 44/150\n",
      "4786/4790 [============================>.] - ETA: 0s - loss: 0.0363 - accuracy: 0.9878 - precision: 0.9846 - recall: 0.9880 - auc: 0.9985\n",
      "Epoch 44: val_accuracy did not improve from 0.98798\n",
      "4790/4790 [==============================] - 38s 8ms/step - loss: 0.0363 - accuracy: 0.9878 - precision: 0.9846 - recall: 0.9880 - auc: 0.9985 - val_loss: 0.0482 - val_accuracy: 0.9857 - val_precision: 0.9716 - val_recall: 0.9970 - val_auc: 0.9976\n",
      "Epoch 45/150\n",
      "4783/4790 [============================>.] - ETA: 0s - loss: 0.0364 - accuracy: 0.9878 - precision: 0.9847 - recall: 0.9879 - auc: 0.9985\n",
      "Epoch 45: val_accuracy did not improve from 0.98798\n",
      "4790/4790 [==============================] - 38s 8ms/step - loss: 0.0364 - accuracy: 0.9878 - precision: 0.9847 - recall: 0.9879 - auc: 0.9985 - val_loss: 0.0463 - val_accuracy: 0.9870 - val_precision: 0.9748 - val_recall: 0.9964 - val_auc: 0.9976\n",
      "Epoch 46/150\n",
      "4783/4790 [============================>.] - ETA: 0s - loss: 0.0359 - accuracy: 0.9879 - precision: 0.9847 - recall: 0.9882 - auc: 0.9986\n",
      "Epoch 46: val_accuracy did not improve from 0.98798\n",
      "4790/4790 [==============================] - 38s 8ms/step - loss: 0.0359 - accuracy: 0.9879 - precision: 0.9847 - recall: 0.9882 - auc: 0.9986 - val_loss: 0.0493 - val_accuracy: 0.9865 - val_precision: 0.9739 - val_recall: 0.9963 - val_auc: 0.9974\n",
      "Epoch 47/150\n",
      "4786/4790 [============================>.] - ETA: 0s - loss: 0.0350 - accuracy: 0.9882 - precision: 0.9853 - recall: 0.9882 - auc: 0.9986\n",
      "Epoch 47: val_accuracy did not improve from 0.98798\n",
      "4790/4790 [==============================] - 38s 8ms/step - loss: 0.0350 - accuracy: 0.9882 - precision: 0.9853 - recall: 0.9882 - auc: 0.9986 - val_loss: 0.0422 - val_accuracy: 0.9872 - val_precision: 0.9767 - val_recall: 0.9950 - val_auc: 0.9978\n",
      "Epoch 48/150\n",
      "4788/4790 [============================>.] - ETA: 0s - loss: 0.0351 - accuracy: 0.9881 - precision: 0.9852 - recall: 0.9881 - auc: 0.9986\n",
      "Epoch 48: val_accuracy did not improve from 0.98798\n",
      "4790/4790 [==============================] - 39s 8ms/step - loss: 0.0352 - accuracy: 0.9881 - precision: 0.9852 - recall: 0.9881 - auc: 0.9986 - val_loss: 0.0468 - val_accuracy: 0.9867 - val_precision: 0.9742 - val_recall: 0.9964 - val_auc: 0.9975\n",
      "Epoch 49/150\n",
      "4786/4790 [============================>.] - ETA: 0s - loss: 0.0348 - accuracy: 0.9882 - precision: 0.9852 - recall: 0.9883 - auc: 0.9986\n",
      "Epoch 49: val_accuracy did not improve from 0.98798\n",
      "4790/4790 [==============================] - 39s 8ms/step - loss: 0.0348 - accuracy: 0.9882 - precision: 0.9852 - recall: 0.9883 - auc: 0.9986 - val_loss: 0.0462 - val_accuracy: 0.9876 - val_precision: 0.9762 - val_recall: 0.9964 - val_auc: 0.9974\n",
      "Epoch 50/150\n",
      "4785/4790 [============================>.] - ETA: 0s - loss: 0.0343 - accuracy: 0.9885 - precision: 0.9858 - recall: 0.9883 - auc: 0.9986\n",
      "Epoch 50: val_accuracy did not improve from 0.98798\n",
      "4790/4790 [==============================] - 39s 8ms/step - loss: 0.0343 - accuracy: 0.9884 - precision: 0.9858 - recall: 0.9883 - auc: 0.9986 - val_loss: 0.0520 - val_accuracy: 0.9849 - val_precision: 0.9698 - val_recall: 0.9971 - val_auc: 0.9974\n",
      "Epoch 51/150\n",
      "4788/4790 [============================>.] - ETA: 0s - loss: 0.0345 - accuracy: 0.9884 - precision: 0.9855 - recall: 0.9885 - auc: 0.9986\n",
      "Epoch 51: val_accuracy did not improve from 0.98798\n",
      "4790/4790 [==============================] - 39s 8ms/step - loss: 0.0345 - accuracy: 0.9884 - precision: 0.9855 - recall: 0.9885 - auc: 0.9986 - val_loss: 0.0471 - val_accuracy: 0.9867 - val_precision: 0.9740 - val_recall: 0.9966 - val_auc: 0.9975\n",
      "Epoch 52/150\n"
     ]
    },
    {
     "name": "stdout",
     "output_type": "stream",
     "text": [
      "4790/4790 [==============================] - ETA: 0s - loss: 0.0347 - accuracy: 0.9884 - precision: 0.9854 - recall: 0.9885 - auc: 0.9986\n",
      "Epoch 52: val_accuracy did not improve from 0.98798\n",
      "4790/4790 [==============================] - 39s 8ms/step - loss: 0.0347 - accuracy: 0.9884 - precision: 0.9854 - recall: 0.9885 - auc: 0.9986 - val_loss: 0.0476 - val_accuracy: 0.9865 - val_precision: 0.9736 - val_recall: 0.9966 - val_auc: 0.9975\n",
      "Epoch 53/150\n",
      "4785/4790 [============================>.] - ETA: 0s - loss: 0.0342 - accuracy: 0.9886 - precision: 0.9857 - recall: 0.9887 - auc: 0.9986\n",
      "Epoch 53: val_accuracy improved from 0.98798 to 0.98808, saving model to D:/S3_project/S Picker\\weights_with_tuner.best.hdf5\n",
      "4790/4790 [==============================] - 39s 8ms/step - loss: 0.0342 - accuracy: 0.9886 - precision: 0.9857 - recall: 0.9887 - auc: 0.9986 - val_loss: 0.0429 - val_accuracy: 0.9881 - val_precision: 0.9775 - val_recall: 0.9961 - val_auc: 0.9976\n",
      "Epoch 54/150\n",
      "4790/4790 [==============================] - ETA: 0s - loss: 0.0342 - accuracy: 0.9887 - precision: 0.9859 - recall: 0.9888 - auc: 0.9986\n",
      "Epoch 54: val_accuracy did not improve from 0.98808\n",
      "4790/4790 [==============================] - 39s 8ms/step - loss: 0.0342 - accuracy: 0.9887 - precision: 0.9859 - recall: 0.9888 - auc: 0.9986 - val_loss: 0.0461 - val_accuracy: 0.9866 - val_precision: 0.9736 - val_recall: 0.9970 - val_auc: 0.9975\n",
      "Epoch 55/150\n",
      "4788/4790 [============================>.] - ETA: 0s - loss: 0.0342 - accuracy: 0.9886 - precision: 0.9857 - recall: 0.9886 - auc: 0.9986\n",
      "Epoch 55: val_accuracy did not improve from 0.98808\n",
      "4790/4790 [==============================] - 38s 8ms/step - loss: 0.0342 - accuracy: 0.9885 - precision: 0.9857 - recall: 0.9886 - auc: 0.9986 - val_loss: 0.0472 - val_accuracy: 0.9870 - val_precision: 0.9747 - val_recall: 0.9965 - val_auc: 0.9975\n",
      "Epoch 56/150\n",
      "4788/4790 [============================>.] - ETA: 0s - loss: 0.0336 - accuracy: 0.9888 - precision: 0.9860 - recall: 0.9889 - auc: 0.9986\n",
      "Epoch 56: val_accuracy did not improve from 0.98808\n",
      "4790/4790 [==============================] - 39s 8ms/step - loss: 0.0336 - accuracy: 0.9888 - precision: 0.9860 - recall: 0.9889 - auc: 0.9986 - val_loss: 0.0421 - val_accuracy: 0.9877 - val_precision: 0.9765 - val_recall: 0.9962 - val_auc: 0.9978\n",
      "Epoch 57/150\n",
      "4790/4790 [==============================] - ETA: 0s - loss: 0.0333 - accuracy: 0.9888 - precision: 0.9861 - recall: 0.9889 - auc: 0.9987\n",
      "Epoch 57: val_accuracy improved from 0.98808 to 0.98843, saving model to D:/S3_project/S Picker\\weights_with_tuner.best.hdf5\n",
      "4790/4790 [==============================] - 40s 8ms/step - loss: 0.0333 - accuracy: 0.9888 - precision: 0.9861 - recall: 0.9889 - auc: 0.9987 - val_loss: 0.0426 - val_accuracy: 0.9884 - val_precision: 0.9791 - val_recall: 0.9952 - val_auc: 0.9976\n",
      "Epoch 58/150\n",
      "4790/4790 [==============================] - ETA: 0s - loss: 0.0337 - accuracy: 0.9890 - precision: 0.9861 - recall: 0.9891 - auc: 0.9986\n",
      "Epoch 58: val_accuracy did not improve from 0.98843\n",
      "4790/4790 [==============================] - 39s 8ms/step - loss: 0.0337 - accuracy: 0.9890 - precision: 0.9861 - recall: 0.9891 - auc: 0.9986 - val_loss: 0.0404 - val_accuracy: 0.9884 - val_precision: 0.9800 - val_recall: 0.9942 - val_auc: 0.9978\n",
      "Epoch 59/150\n",
      "4785/4790 [============================>.] - ETA: 0s - loss: 0.0333 - accuracy: 0.9890 - precision: 0.9864 - recall: 0.9889 - auc: 0.9987\n",
      "Epoch 59: val_accuracy did not improve from 0.98843\n",
      "4790/4790 [==============================] - 40s 8ms/step - loss: 0.0333 - accuracy: 0.9890 - precision: 0.9864 - recall: 0.9889 - auc: 0.9987 - val_loss: 0.0443 - val_accuracy: 0.9874 - val_precision: 0.9758 - val_recall: 0.9964 - val_auc: 0.9976\n",
      "Epoch 60/150\n",
      "4787/4790 [============================>.] - ETA: 0s - loss: 0.0334 - accuracy: 0.9889 - precision: 0.9862 - recall: 0.9890 - auc: 0.9987\n",
      "Epoch 60: val_accuracy did not improve from 0.98843\n",
      "4790/4790 [==============================] - 40s 8ms/step - loss: 0.0334 - accuracy: 0.9890 - precision: 0.9862 - recall: 0.9890 - auc: 0.9987 - val_loss: 0.0497 - val_accuracy: 0.9864 - val_precision: 0.9734 - val_recall: 0.9966 - val_auc: 0.9974\n",
      "Epoch 61/150\n",
      "4790/4790 [==============================] - ETA: 0s - loss: 0.0326 - accuracy: 0.9892 - precision: 0.9865 - recall: 0.9892 - auc: 0.9987\n",
      "Epoch 61: val_accuracy did not improve from 0.98843\n",
      "4790/4790 [==============================] - 40s 8ms/step - loss: 0.0326 - accuracy: 0.9892 - precision: 0.9865 - recall: 0.9892 - auc: 0.9987 - val_loss: 0.0421 - val_accuracy: 0.9880 - val_precision: 0.9783 - val_recall: 0.9951 - val_auc: 0.9977\n",
      "Epoch 62/150\n",
      "4784/4790 [============================>.] - ETA: 0s - loss: 0.0335 - accuracy: 0.9890 - precision: 0.9861 - recall: 0.9891 - auc: 0.9986\n",
      "Epoch 62: val_accuracy did not improve from 0.98843\n",
      "4790/4790 [==============================] - 39s 8ms/step - loss: 0.0335 - accuracy: 0.9890 - precision: 0.9861 - recall: 0.9891 - auc: 0.9986 - val_loss: 0.0471 - val_accuracy: 0.9858 - val_precision: 0.9725 - val_recall: 0.9963 - val_auc: 0.9977\n",
      "Epoch 63/150\n",
      "4784/4790 [============================>.] - ETA: 0s - loss: 0.0324 - accuracy: 0.9890 - precision: 0.9863 - recall: 0.9891 - auc: 0.9988\n",
      "Epoch 63: val_accuracy did not improve from 0.98843\n",
      "4790/4790 [==============================] - 39s 8ms/step - loss: 0.0324 - accuracy: 0.9891 - precision: 0.9863 - recall: 0.9891 - auc: 0.9988 - val_loss: 0.0475 - val_accuracy: 0.9863 - val_precision: 0.9733 - val_recall: 0.9965 - val_auc: 0.9975\n",
      "Epoch 64/150\n",
      "4784/4790 [============================>.] - ETA: 0s - loss: 0.0336 - accuracy: 0.9890 - precision: 0.9863 - recall: 0.9891 - auc: 0.9986\n",
      "Epoch 64: val_accuracy did not improve from 0.98843\n",
      "4790/4790 [==============================] - 39s 8ms/step - loss: 0.0336 - accuracy: 0.9890 - precision: 0.9863 - recall: 0.9891 - auc: 0.9986 - val_loss: 0.0418 - val_accuracy: 0.9884 - val_precision: 0.9785 - val_recall: 0.9957 - val_auc: 0.9977\n",
      "Epoch 65/150\n",
      "4783/4790 [============================>.] - ETA: 0s - loss: 0.0332 - accuracy: 0.9892 - precision: 0.9865 - recall: 0.9891 - auc: 0.9986\n",
      "Epoch 65: val_accuracy did not improve from 0.98843\n",
      "4790/4790 [==============================] - 39s 8ms/step - loss: 0.0332 - accuracy: 0.9892 - precision: 0.9866 - recall: 0.9891 - auc: 0.9986 - val_loss: 0.0433 - val_accuracy: 0.9877 - val_precision: 0.9773 - val_recall: 0.9954 - val_auc: 0.9976\n",
      "Epoch 66/150\n",
      "4786/4790 [============================>.] - ETA: 0s - loss: 0.0324 - accuracy: 0.9892 - precision: 0.9866 - recall: 0.9891 - auc: 0.9987\n",
      "Epoch 66: val_accuracy did not improve from 0.98843\n",
      "4790/4790 [==============================] - 39s 8ms/step - loss: 0.0324 - accuracy: 0.9892 - precision: 0.9866 - recall: 0.9891 - auc: 0.9987 - val_loss: 0.0491 - val_accuracy: 0.9858 - val_precision: 0.9722 - val_recall: 0.9967 - val_auc: 0.9975\n",
      "Epoch 67/150\n",
      "4786/4790 [============================>.] - ETA: 0s - loss: 0.0328 - accuracy: 0.9890 - precision: 0.9863 - recall: 0.9891 - auc: 0.9987\n",
      "Epoch 67: val_accuracy did not improve from 0.98843\n",
      "4790/4790 [==============================] - 39s 8ms/step - loss: 0.0328 - accuracy: 0.9890 - precision: 0.9863 - recall: 0.9891 - auc: 0.9987 - val_loss: 0.0487 - val_accuracy: 0.9863 - val_precision: 0.9732 - val_recall: 0.9965 - val_auc: 0.9974\n",
      "Epoch 68/150\n",
      "4786/4790 [============================>.] - ETA: 0s - loss: 0.0325 - accuracy: 0.9893 - precision: 0.9866 - recall: 0.9894 - auc: 0.9987\n",
      "Epoch 68: val_accuracy did not improve from 0.98843\n",
      "4790/4790 [==============================] - 39s 8ms/step - loss: 0.0325 - accuracy: 0.9893 - precision: 0.9866 - recall: 0.9894 - auc: 0.9987 - val_loss: 0.0430 - val_accuracy: 0.9876 - val_precision: 0.9772 - val_recall: 0.9954 - val_auc: 0.9976\n",
      "Epoch 69/150\n",
      "4784/4790 [============================>.] - ETA: 0s - loss: 0.0320 - accuracy: 0.9894 - precision: 0.9866 - recall: 0.9896 - auc: 0.9987\n",
      "Epoch 69: val_accuracy improved from 0.98843 to 0.98859, saving model to D:/S3_project/S Picker\\weights_with_tuner.best.hdf5\n",
      "4790/4790 [==============================] - 39s 8ms/step - loss: 0.0320 - accuracy: 0.9894 - precision: 0.9866 - recall: 0.9896 - auc: 0.9987 - val_loss: 0.0450 - val_accuracy: 0.9886 - val_precision: 0.9792 - val_recall: 0.9955 - val_auc: 0.9973\n"
     ]
    },
    {
     "name": "stdout",
     "output_type": "stream",
     "text": [
      "Epoch 70/150\n",
      "4787/4790 [============================>.] - ETA: 0s - loss: 0.0324 - accuracy: 0.9892 - precision: 0.9865 - recall: 0.9893 - auc: 0.9987\n",
      "Epoch 70: val_accuracy did not improve from 0.98859\n",
      "4790/4790 [==============================] - 40s 8ms/step - loss: 0.0324 - accuracy: 0.9892 - precision: 0.9865 - recall: 0.9893 - auc: 0.9987 - val_loss: 0.0486 - val_accuracy: 0.9870 - val_precision: 0.9745 - val_recall: 0.9968 - val_auc: 0.9972\n",
      "Epoch 71/150\n",
      "4786/4790 [============================>.] - ETA: 0s - loss: 0.0328 - accuracy: 0.9891 - precision: 0.9864 - recall: 0.9891 - auc: 0.9987\n",
      "Epoch 71: val_accuracy did not improve from 0.98859\n",
      "4790/4790 [==============================] - 39s 8ms/step - loss: 0.0328 - accuracy: 0.9891 - precision: 0.9864 - recall: 0.9891 - auc: 0.9987 - val_loss: 0.0487 - val_accuracy: 0.9873 - val_precision: 0.9751 - val_recall: 0.9968 - val_auc: 0.9973\n",
      "Epoch 72/150\n",
      "4786/4790 [============================>.] - ETA: 0s - loss: 0.0321 - accuracy: 0.9895 - precision: 0.9868 - recall: 0.9895 - auc: 0.9987\n",
      "Epoch 72: val_accuracy did not improve from 0.98859\n",
      "4790/4790 [==============================] - 37s 8ms/step - loss: 0.0321 - accuracy: 0.9895 - precision: 0.9868 - recall: 0.9895 - auc: 0.9987 - val_loss: 0.0438 - val_accuracy: 0.9872 - val_precision: 0.9760 - val_recall: 0.9957 - val_auc: 0.9977\n",
      "Epoch 73/150\n",
      "4782/4790 [============================>.] - ETA: 0s - loss: 0.0319 - accuracy: 0.9896 - precision: 0.9868 - recall: 0.9897 - auc: 0.9987\n",
      "Epoch 73: val_accuracy did not improve from 0.98859\n",
      "4790/4790 [==============================] - 37s 8ms/step - loss: 0.0319 - accuracy: 0.9896 - precision: 0.9868 - recall: 0.9897 - auc: 0.9987 - val_loss: 0.0494 - val_accuracy: 0.9858 - val_precision: 0.9721 - val_recall: 0.9966 - val_auc: 0.9975\n",
      "Epoch 74/150\n",
      "4782/4790 [============================>.] - ETA: 0s - loss: 0.0321 - accuracy: 0.9897 - precision: 0.9870 - recall: 0.9899 - auc: 0.9986\n",
      "Epoch 74: val_accuracy did not improve from 0.98859\n",
      "4790/4790 [==============================] - 37s 8ms/step - loss: 0.0321 - accuracy: 0.9897 - precision: 0.9870 - recall: 0.9899 - auc: 0.9986 - val_loss: 0.0479 - val_accuracy: 0.9856 - val_precision: 0.9715 - val_recall: 0.9968 - val_auc: 0.9976\n",
      "Epoch 75/150\n",
      "4790/4790 [==============================] - ETA: 0s - loss: 0.0317 - accuracy: 0.9896 - precision: 0.9870 - recall: 0.9897 - auc: 0.9987\n",
      "Epoch 75: val_accuracy did not improve from 0.98859\n",
      "4790/4790 [==============================] - 37s 8ms/step - loss: 0.0317 - accuracy: 0.9896 - precision: 0.9870 - recall: 0.9897 - auc: 0.9987 - val_loss: 0.0439 - val_accuracy: 0.9873 - val_precision: 0.9760 - val_recall: 0.9959 - val_auc: 0.9976\n",
      "Epoch 76/150\n",
      "4782/4790 [============================>.] - ETA: 0s - loss: 0.0322 - accuracy: 0.9893 - precision: 0.9867 - recall: 0.9893 - auc: 0.9986\n",
      "Epoch 76: val_accuracy did not improve from 0.98859\n",
      "4790/4790 [==============================] - 37s 8ms/step - loss: 0.0322 - accuracy: 0.9894 - precision: 0.9867 - recall: 0.9893 - auc: 0.9986 - val_loss: 0.0457 - val_accuracy: 0.9867 - val_precision: 0.9742 - val_recall: 0.9965 - val_auc: 0.9976\n",
      "Epoch 77/150\n",
      "4785/4790 [============================>.] - ETA: 0s - loss: 0.0316 - accuracy: 0.9896 - precision: 0.9869 - recall: 0.9897 - auc: 0.9987\n",
      "Epoch 77: val_accuracy did not improve from 0.98859\n",
      "4790/4790 [==============================] - 37s 8ms/step - loss: 0.0316 - accuracy: 0.9896 - precision: 0.9869 - recall: 0.9897 - auc: 0.9987 - val_loss: 0.0423 - val_accuracy: 0.9876 - val_precision: 0.9772 - val_recall: 0.9955 - val_auc: 0.9978\n",
      "Epoch 78/150\n",
      "4790/4790 [==============================] - ETA: 0s - loss: 0.0324 - accuracy: 0.9895 - precision: 0.9870 - recall: 0.9895 - auc: 0.9987\n",
      "Epoch 78: val_accuracy did not improve from 0.98859\n",
      "4790/4790 [==============================] - 38s 8ms/step - loss: 0.0324 - accuracy: 0.9895 - precision: 0.9870 - recall: 0.9895 - auc: 0.9987 - val_loss: 0.0482 - val_accuracy: 0.9866 - val_precision: 0.9741 - val_recall: 0.9964 - val_auc: 0.9974\n"
     ]
    }
   ],
   "source": [
    "# Build the model with the optimal hyperparameters and train it on the datas\n",
    "model = tuner.hypermodel.build(best_hps)\n",
    "history = model.fit(train_signal, train_labels,\n",
    "                  batch_size=100,\n",
    "                  callbacks=callback_list, #Learning rate scheduler\n",
    "                  validation_split=0.2, #To split the training more to validation\n",
    "                  epochs=150,\n",
    "                  verbose=1)"
   ]
  },
  {
   "cell_type": "markdown",
   "metadata": {},
   "source": [
    "Save the model"
   ]
  },
  {
   "cell_type": "code",
   "execution_count": 27,
   "metadata": {},
   "outputs": [
    {
     "name": "stdout",
     "output_type": "stream",
     "text": [
      "Model: \"sequential_1\"\n",
      "_________________________________________________________________\n",
      " Layer (type)                Output Shape              Param #   \n",
      "=================================================================\n",
      " conv2d_2 (Conv2D)           (None, 1, 100, 32)        800       \n",
      "                                                                 \n",
      " dropout_3 (Dropout)         (None, 1, 100, 32)        0         \n",
      "                                                                 \n",
      " conv2d_3 (Conv2D)           (None, 1, 100, 32)        6176      \n",
      "                                                                 \n",
      " dropout_4 (Dropout)         (None, 1, 100, 32)        0         \n",
      "                                                                 \n",
      " flatten_1 (Flatten)         (None, 3200)              0         \n",
      "                                                                 \n",
      " dense_2 (Dense)             (None, 256)               819456    \n",
      "                                                                 \n",
      " dropout_5 (Dropout)         (None, 256)               0         \n",
      "                                                                 \n",
      " dense_3 (Dense)             (None, 1)                 257       \n",
      "                                                                 \n",
      "=================================================================\n",
      "Total params: 826,689\n",
      "Trainable params: 826,689\n",
      "Non-trainable params: 0\n",
      "_________________________________________________________________\n"
     ]
    }
   ],
   "source": [
    "model.summary()"
   ]
  },
  {
   "cell_type": "code",
   "execution_count": 28,
   "metadata": {},
   "outputs": [],
   "source": [
    "Directory = \"D:/S3_project/S Picker/S_Detector1_100Hz_20_with_tuner.h5\"\n",
    "model.save(Directory) "
   ]
  },
  {
   "cell_type": "markdown",
   "metadata": {},
   "source": [
    "## Evaluate the model"
   ]
  },
  {
   "cell_type": "code",
   "execution_count": 29,
   "metadata": {},
   "outputs": [
    {
     "data": {
      "image/png": "[encoded data removed]",
      "text/plain": [
       "<Figure size 432x288 with 1 Axes>"
      ]
     },
     "metadata": {
      "needs_background": "light"
     },
     "output_type": "display_data"
    }
   ],
   "source": [
    "#Visualize the history\n",
    "#Visualize the models accuracy\n",
    "plt.plot(history.history['accuracy'])\n",
    "plt.plot(history.history['val_accuracy'])\n",
    "plt.title('Model accuracy')\n",
    "plt.ylabel('Accuracy')\n",
    "plt.xlabel('Epoch')\n",
    "plt.legend(['Train', 'Val'], loc='upper left')\n",
    "plt.show()"
   ]
  },
  {
   "cell_type": "code",
   "execution_count": 30,
   "metadata": {},
   "outputs": [
    {
     "data": {
      "image/png": "[encoded data removed]",
      "text/plain": [
       "<Figure size 432x288 with 1 Axes>"
      ]
     },
     "metadata": {
      "needs_background": "light"
     },
     "output_type": "display_data"
    }
   ],
   "source": [
    "#Visualize the models loss\n",
    "plt.plot(history.history['loss'])\n",
    "plt.plot(history.history['val_loss'])\n",
    "plt.title('Model loss')\n",
    "plt.ylabel('Loss')\n",
    "plt.xlabel('Epoch')\n",
    "plt.legend(['Train', 'Val'], loc='upper right')\n",
    "plt.show()"
   ]
  },
  {
   "cell_type": "code",
   "execution_count": 31,
   "metadata": {},
   "outputs": [
    {
     "data": {
      "image/png": "[encoded data removed]",
      "text/plain": [
       "<Figure size 432x288 with 1 Axes>"
      ]
     },
     "metadata": {
      "needs_background": "light"
     },
     "output_type": "display_data"
    }
   ],
   "source": [
    "#Visualize the history\n",
    "#Visualize the models Precision\n",
    "plt.plot(history.history['precision'])\n",
    "plt.plot(history.history['val_precision'])\n",
    "plt.title('Model Precision')\n",
    "plt.ylabel('Precision')\n",
    "plt.xlabel('Epoch')\n",
    "plt.legend(['Train', 'Val'], loc='upper left')\n",
    "plt.show()"
   ]
  },
  {
   "cell_type": "code",
   "execution_count": 35,
   "metadata": {},
   "outputs": [
    {
     "data": {
      "image/png": "[encoded data removed]",
      "text/plain": [
       "<Figure size 432x288 with 1 Axes>"
      ]
     },
     "metadata": {
      "needs_background": "light"
     },
     "output_type": "display_data"
    }
   ],
   "source": [
    "#Visualize the history\n",
    "#Visualize the models Precision\n",
    "plt.plot(history.history['recall'])\n",
    "plt.plot(history.history['val_recall'])\n",
    "plt.title('Model Recall')\n",
    "plt.ylabel('Recall')\n",
    "plt.xlabel('Epoch')\n",
    "plt.legend(['Train', 'Val'], loc='upper left')\n",
    "plt.show()"
   ]
  },
  {
   "cell_type": "code",
   "execution_count": 32,
   "metadata": {},
   "outputs": [
    {
     "name": "stdout",
     "output_type": "stream",
     "text": [
      "4678/4678 - 19s - loss: 0.0499 - accuracy: 0.9865 - precision: 0.9740 - recall: 0.9964 - auc: 0.9972 - 19s/epoch - 4ms/step\n",
      "Test accuracy: 0.9865380525588989\n"
     ]
    }
   ],
   "source": [
    "test_loss, test_acc, test_precision, test_recall, test_auc = model.evaluate(test_signal, test_labels, verbose = 2)\n",
    "\n",
    "print('Test accuracy:', test_acc)"
   ]
  },
  {
   "cell_type": "code",
   "execution_count": 37,
   "metadata": {},
   "outputs": [],
   "source": [
    "import pickle\n",
    "\n",
    "with open('D:/S3_project/S Picker/history_tuner_1', 'wb') as file_pi:\n",
    "    pickle.dump(history.history, file_pi)"
   ]
  },
  {
   "cell_type": "code",
   "execution_count": null,
   "metadata": {},
   "outputs": [],
   "source": []
  }
 ],
 "metadata": {
  "kernelspec": {
   "display_name": "Python 3",
   "language": "python",
   "name": "python3"
  },
  "language_info": {
   "codemirror_mode": {
    "name": "ipython",
    "version": 3
   },
   "file_extension": ".py",
   "mimetype": "text/x-python",
   "name": "python",
   "nbconvert_exporter": "python",
   "pygments_lexer": "ipython3",
   "version": "3.8.5"
  }
 },
 "nbformat": 4,
 "nbformat_minor": 4
}
